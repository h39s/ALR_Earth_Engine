{
 "cells": [
  {
   "cell_type": "code",
   "execution_count": 2,
   "metadata": {},
   "outputs": [],
   "source": [
    "import scipy                        \n",
    "import scipy.io as sio\n",
    "import matplotlib.pyplot as plt\n",
    "import numpy\n",
    "import pandas\n",
    "import sklearn\n",
    "from sklearn import preprocessing\n",
    "from sklearn import linear_model\n",
    "import tensorflow"
   ]
  },
  {
   "cell_type": "code",
   "execution_count": 4,
   "metadata": {},
   "outputs": [],
   "source": [
    "matlabData = sio.loadmat(file_name='data/s2_sl2p_weiss_or_prosail_inout.mat', variable_names=['Input', 'Output'])"
   ]
  },
  {
   "cell_type": "code",
   "execution_count": 5,
   "metadata": {},
   "outputs": [],
   "source": [
    "                                                                # B1  443nm, Ultra blue, 60m res\n",
    "                                                                # B2  490nm, blue, 10m res\n",
    "B3 = pandas.DataFrame(matlabData['Input']['Rho_Toc'][0][0])[0]      # 560nm, green, 10m res\n",
    "B4 = pandas.DataFrame(matlabData['Input']['Rho_Toc'][0][0])[1]      # 665nm, red, 10m res\n",
    "B5 = pandas.DataFrame(matlabData['Input']['Rho_Toc'][0][0])[2]      # 705nm, VNIR, 20m res\n",
    "B6 = pandas.DataFrame(matlabData['Input']['Rho_Toc'][0][0])[3]      # 740nm, VNIR, 20m res\n",
    "B7 = pandas.DataFrame(matlabData['Input']['Rho_Toc'][0][0])[4]      # 783nm, VNIR, 20m res\n",
    "                                                                # B8  842nm, VNIR, 10m res\n",
    "B8A = pandas.DataFrame(matlabData['Input']['Rho_Toc'][0][0])[5]     # 865nm, VNIR, 20m res\n",
    "                                                                # B9  940nm, SWIR, 60m res\n",
    "                                                                # B10 1375nm, SWIR, 60m res\n",
    "B11 = pandas.DataFrame(matlabData['Input']['Rho_Toc'][0][0])[6]     # 1610nm, SWIR, 20m res\n",
    "B12 = pandas.DataFrame(matlabData['Input']['Rho_Toc'][0][0])[7]     # 2190nm, SWIR, 20m res\n",
    "\n",
    "LAI = pandas.Series(data=matlabData['Output']['LAI'][0][0].flatten())\n",
    "FAPAR = pandas.Series(data=matlabData['Output']['FAPAR'][0][0].flatten())\n",
    "FCOVER = pandas.Series(data=matlabData['Output']['FCOVER'][0][0].flatten())\n",
    "\n",
    "LAI_mean = LAI.mean()\n",
    "FAPAR_mean = FAPAR.mean()\n",
    "FCOVER_mean = FCOVER.mean()"
   ]
  },
  {
   "cell_type": "code",
   "execution_count": 6,
   "metadata": {},
   "outputs": [],
   "source": [
    "RVI1    = B4/B8A\n",
    "RVI2    = B4/B7\n",
    "RVI3    = B4/B6\n",
    "RVI4    = B4/B5\n",
    "GM1     = B6/B3\n",
    "GM2     = B6/B5\n",
    "GI      = B3/B4\n",
    "II      = B11/B12\n",
    "MSI     = B11/B7\n",
    "PSSR    = B7/B4\n",
    "SGI     = B8A/B4\n",
    "SR2     = B7/B3\n",
    "SR3     = B5/B4\n",
    "GVI     = (B8A/B3)-1\n",
    "PSRI    = (B4-B3)/B6\n",
    "NDVI3   = ((B8A-B4)/(B8A))+B4\n",
    "SR5     = B4/(B5*B4)\n",
    "SR6     = B4/(B3*B5)\n",
    "SR7     = B8A/(B3*B5)\n",
    "IPVI    = B7/(B7+B4)\n",
    "ARI     = (1/B3)-(1/B5)\n",
    "ARI2    = B7*((1/B3)-(1/B5))\n",
    "NDVI    = (B8A-B4)/(B8A+B4)\n",
    "GNDVI   = (B8A-B3)/(B8A+B3)\n",
    "NDVI3   = ((B8A-B4)/(B8A))+B4\n",
    "NDWI    = (B8A-B11)/(B8A+B11)\n",
    "NDREVI  = (B8A-B5)/(B8A+B5)\n",
    "NDGI    = (B3-B4)/(B3+B4)\n",
    "NDI1    = (B7-B5)/(B7-B4)\n",
    "NDI2    = (B8A-B5)/(B8A-B4)\n",
    "RENDVI  = (B6-B5)/(B6+B5)\n",
    "OSAVI   = (1.16*(B7-B4))/(B7+B4+0.61)\n",
    "NMDI    = (B8A-(B11-B12))/(B8A+(B11-B12))\n",
    "HI      = ((B3-B5)/(B3+B5))-0.5*B5\n",
    "GVSP    = (-0.283*B3 - 0.66*B4 + 0.577*B6 + 0.388*B8A)/(0.433*B3 - 0.632*B4 + 0.586*B6 + 0.264*B8A)\n",
    "MCARI   = ((B5-B4)-0.2*(B5-B3))*(B5/B4)\n",
    "TCARI   = 3*((B5-B4)-0.2*(B5-B3)*(B5/B4))\n",
    "EVI     = 2.5*((B8A-B4)/(B8A+6*B4-7.5*B3+1))\n",
    "EVI2    = 2.5*((B8A-B4)/(B8A+2.4*B4+1))\n",
    "RDVI    = (B8A-B4)/((B8A+B4)**0.5)\n",
    "MSR     = ((B8A/B4)-1)/((B8A/B4)**0.5+1)\n",
    "MSAVI   = 0.5*(2*B7+1-((2*B7+1)**2-8*(B7-B4))**0.5)\n",
    "MSAVI2  = 0.5*(2*B8A+1-((2*B8A+1)**2-8*(B8A-B4))**0.5)\n",
    "MCARI2  = (1.5*(2.5*(B7-B4)-1.3*(B7-B3)))/((((2*B7+1)**2)-(6*B7-5*(B4**0.5))-0.5)**0.5)\n",
    "MTVI2   = (1.5*(1.2*(B7-B3)-2.5*(B4-B3)))/(((2*B7+1)**2-(6*B7-5*B4)-0.5)**0.5)\n",
    "N       = (2*((B8A**2)-(B4**2))+1.5*B8A+0.5*B4)/(B8A+B4+0.5)\n",
    "GEMI    = N*(1-0.25*N)-((B4-0.125)/(1-B4))\n",
    "MSR2    = ((B7/B4)-1)/(((B7/B4)+1)**0.5)\n",
    "NLI     = ((B8A**2)-B4)/((B8A**2)+B4)\n",
    "TDVI    = (0.5+((B8A-B4)/(B8A+B4)))**0.5"
   ]
  },
  {
   "cell_type": "markdown",
   "execution_count": null,
   "metadata": {},
   "outputs": [],
   "source": [
    "add correlation matrix calculation, and single feature collection"
   ]
  },
  {
   "cell_type": "code",
   "execution_count": 7,
   "metadata": {},
   "outputs": [
    {
     "data": {
      "text/html": "<div>\n<style scoped>\n    .dataframe tbody tr th:only-of-type {\n        vertical-align: middle;\n    }\n\n    .dataframe tbody tr th {\n        vertical-align: top;\n    }\n\n    .dataframe thead th {\n        text-align: right;\n    }\n</style>\n<table border=\"1\" class=\"dataframe\">\n  <thead>\n    <tr style=\"text-align: right;\">\n      <th></th>\n      <th>B3</th>\n      <th>B4</th>\n      <th>B5</th>\n      <th>B6</th>\n      <th>B7</th>\n      <th>B8A</th>\n      <th>B11</th>\n      <th>B12</th>\n      <th>RVI1</th>\n      <th>RVI2</th>\n      <th>...</th>\n      <th>N</th>\n      <th>GEMI</th>\n      <th>MSR2</th>\n      <th>NLI</th>\n      <th>TDVI</th>\n      <th>LAI</th>\n      <th>FAPAR</th>\n      <th>FCOVER</th>\n      <th>latitude</th>\n      <th>longitude</th>\n    </tr>\n  </thead>\n  <tbody>\n    <tr>\n      <th>0</th>\n      <td>0.048953</td>\n      <td>0.030271</td>\n      <td>0.073742</td>\n      <td>0.294630</td>\n      <td>0.419698</td>\n      <td>0.436037</td>\n      <td>0.121603</td>\n      <td>0.043615</td>\n      <td>0.069422</td>\n      <td>0.072125</td>\n      <td>...</td>\n      <td>1.084141</td>\n      <td>0.887987</td>\n      <td>3.336756</td>\n      <td>0.725310</td>\n      <td>1.170542</td>\n      <td>6.014594</td>\n      <td>0.870412</td>\n      <td>0.875424</td>\n      <td>0</td>\n      <td>0</td>\n    </tr>\n    <tr>\n      <th>1</th>\n      <td>0.053655</td>\n      <td>0.029552</td>\n      <td>0.074523</td>\n      <td>0.383288</td>\n      <td>0.566787</td>\n      <td>0.597187</td>\n      <td>0.180981</td>\n      <td>0.054689</td>\n      <td>0.049485</td>\n      <td>0.052139</td>\n      <td>...</td>\n      <td>1.439619</td>\n      <td>1.019848</td>\n      <td>4.046955</td>\n      <td>0.846956</td>\n      <td>1.185621</td>\n      <td>5.752335</td>\n      <td>0.957268</td>\n      <td>0.971936</td>\n      <td>0</td>\n      <td>0</td>\n    </tr>\n    <tr>\n      <th>2</th>\n      <td>0.075767</td>\n      <td>0.092849</td>\n      <td>0.144840</td>\n      <td>0.267414</td>\n      <td>0.306598</td>\n      <td>0.321708</td>\n      <td>0.254556</td>\n      <td>0.145838</td>\n      <td>0.288614</td>\n      <td>0.302837</td>\n      <td>...</td>\n      <td>0.785885</td>\n      <td>0.666923</td>\n      <td>1.109901</td>\n      <td>0.054225</td>\n      <td>1.025698</td>\n      <td>0.746137</td>\n      <td>0.386350</td>\n      <td>0.394260</td>\n      <td>0</td>\n      <td>0</td>\n    </tr>\n    <tr>\n      <th>3</th>\n      <td>0.071742</td>\n      <td>0.031115</td>\n      <td>0.094643</td>\n      <td>0.303518</td>\n      <td>0.383710</td>\n      <td>0.391068</td>\n      <td>0.118468</td>\n      <td>0.047038</td>\n      <td>0.079565</td>\n      <td>0.081091</td>\n      <td>...</td>\n      <td>0.982550</td>\n      <td>0.838099</td>\n      <td>3.103530</td>\n      <td>0.661880</td>\n      <td>1.163012</td>\n      <td>5.374681</td>\n      <td>0.819419</td>\n      <td>0.830017</td>\n      <td>0</td>\n      <td>0</td>\n    </tr>\n    <tr>\n      <th>4</th>\n      <td>0.100043</td>\n      <td>0.028230</td>\n      <td>0.130998</td>\n      <td>0.442701</td>\n      <td>0.560120</td>\n      <td>0.563746</td>\n      <td>0.182785</td>\n      <td>0.062757</td>\n      <td>0.050075</td>\n      <td>0.050399</td>\n      <td>...</td>\n      <td>1.367942</td>\n      <td>0.999707</td>\n      <td>4.127172</td>\n      <td>0.836842</td>\n      <td>1.185169</td>\n      <td>5.467322</td>\n      <td>0.899630</td>\n      <td>0.927706</td>\n      <td>0</td>\n      <td>0</td>\n    </tr>\n    <tr>\n      <th>...</th>\n      <td>...</td>\n      <td>...</td>\n      <td>...</td>\n      <td>...</td>\n      <td>...</td>\n      <td>...</td>\n      <td>...</td>\n      <td>...</td>\n      <td>...</td>\n      <td>...</td>\n      <td>...</td>\n      <td>...</td>\n      <td>...</td>\n      <td>...</td>\n      <td>...</td>\n      <td>...</td>\n      <td>...</td>\n      <td>...</td>\n      <td>...</td>\n      <td>...</td>\n      <td>...</td>\n    </tr>\n    <tr>\n      <th>41467</th>\n      <td>0.091781</td>\n      <td>0.028950</td>\n      <td>0.124602</td>\n      <td>0.420813</td>\n      <td>0.528081</td>\n      <td>0.544847</td>\n      <td>0.122709</td>\n      <td>0.032790</td>\n      <td>0.053135</td>\n      <td>0.054822</td>\n      <td>...</td>\n      <td>1.325936</td>\n      <td>0.985322</td>\n      <td>3.930491</td>\n      <td>0.822286</td>\n      <td>1.182832</td>\n      <td>4.951841</td>\n      <td>0.922245</td>\n      <td>0.949148</td>\n      <td>0</td>\n      <td>0</td>\n    </tr>\n    <tr>\n      <th>41468</th>\n      <td>0.046467</td>\n      <td>0.034942</td>\n      <td>0.069040</td>\n      <td>0.229278</td>\n      <td>0.308859</td>\n      <td>0.321834</td>\n      <td>0.126807</td>\n      <td>0.071680</td>\n      <td>0.108572</td>\n      <td>0.113133</td>\n      <td>...</td>\n      <td>0.822777</td>\n      <td>0.746855</td>\n      <td>2.499143</td>\n      <td>0.495492</td>\n      <td>1.141982</td>\n      <td>4.453112</td>\n      <td>0.717015</td>\n      <td>0.714964</td>\n      <td>0</td>\n      <td>0</td>\n    </tr>\n    <tr>\n      <th>41469</th>\n      <td>0.045621</td>\n      <td>0.027923</td>\n      <td>0.067862</td>\n      <td>0.307144</td>\n      <td>0.445989</td>\n      <td>0.474847</td>\n      <td>0.162763</td>\n      <td>0.055750</td>\n      <td>0.058805</td>\n      <td>0.062610</td>\n      <td>...</td>\n      <td>1.172384</td>\n      <td>0.928628</td>\n      <td>3.634234</td>\n      <td>0.779614</td>\n      <td>1.178526</td>\n      <td>4.579922</td>\n      <td>0.861480</td>\n      <td>0.871602</td>\n      <td>0</td>\n      <td>0</td>\n    </tr>\n    <tr>\n      <th>41470</th>\n      <td>0.053039</td>\n      <td>0.037354</td>\n      <td>0.081990</td>\n      <td>0.340293</td>\n      <td>0.506438</td>\n      <td>0.528001</td>\n      <td>0.190817</td>\n      <td>0.076028</td>\n      <td>0.070745</td>\n      <td>0.073757</td>\n      <td>...</td>\n      <td>1.281693</td>\n      <td>0.962056</td>\n      <td>3.291311</td>\n      <td>0.763689</td>\n      <td>1.169555</td>\n      <td>5.502935</td>\n      <td>0.879030</td>\n      <td>0.882815</td>\n      <td>0</td>\n      <td>0</td>\n    </tr>\n    <tr>\n      <th>41471</th>\n      <td>0.077574</td>\n      <td>0.030683</td>\n      <td>0.106863</td>\n      <td>0.434154</td>\n      <td>0.575929</td>\n      <td>0.592813</td>\n      <td>0.144131</td>\n      <td>0.039566</td>\n      <td>0.051758</td>\n      <td>0.053275</td>\n      <td>...</td>\n      <td>1.429050</td>\n      <td>1.015807</td>\n      <td>3.996602</td>\n      <td>0.839404</td>\n      <td>1.183883</td>\n      <td>4.933937</td>\n      <td>0.942140</td>\n      <td>0.963286</td>\n      <td>0</td>\n      <td>0</td>\n    </tr>\n  </tbody>\n</table>\n<p>41472 rows × 62 columns</p>\n</div>",
      "text/plain": "             B3        B4        B5        B6        B7       B8A       B11  \\\n0      0.048953  0.030271  0.073742  0.294630  0.419698  0.436037  0.121603   \n1      0.053655  0.029552  0.074523  0.383288  0.566787  0.597187  0.180981   \n2      0.075767  0.092849  0.144840  0.267414  0.306598  0.321708  0.254556   \n3      0.071742  0.031115  0.094643  0.303518  0.383710  0.391068  0.118468   \n4      0.100043  0.028230  0.130998  0.442701  0.560120  0.563746  0.182785   \n...         ...       ...       ...       ...       ...       ...       ...   \n41467  0.091781  0.028950  0.124602  0.420813  0.528081  0.544847  0.122709   \n41468  0.046467  0.034942  0.069040  0.229278  0.308859  0.321834  0.126807   \n41469  0.045621  0.027923  0.067862  0.307144  0.445989  0.474847  0.162763   \n41470  0.053039  0.037354  0.081990  0.340293  0.506438  0.528001  0.190817   \n41471  0.077574  0.030683  0.106863  0.434154  0.575929  0.592813  0.144131   \n\n            B12      RVI1      RVI2  ...         N      GEMI      MSR2  \\\n0      0.043615  0.069422  0.072125  ...  1.084141  0.887987  3.336756   \n1      0.054689  0.049485  0.052139  ...  1.439619  1.019848  4.046955   \n2      0.145838  0.288614  0.302837  ...  0.785885  0.666923  1.109901   \n3      0.047038  0.079565  0.081091  ...  0.982550  0.838099  3.103530   \n4      0.062757  0.050075  0.050399  ...  1.367942  0.999707  4.127172   \n...         ...       ...       ...  ...       ...       ...       ...   \n41467  0.032790  0.053135  0.054822  ...  1.325936  0.985322  3.930491   \n41468  0.071680  0.108572  0.113133  ...  0.822777  0.746855  2.499143   \n41469  0.055750  0.058805  0.062610  ...  1.172384  0.928628  3.634234   \n41470  0.076028  0.070745  0.073757  ...  1.281693  0.962056  3.291311   \n41471  0.039566  0.051758  0.053275  ...  1.429050  1.015807  3.996602   \n\n            NLI      TDVI       LAI     FAPAR    FCOVER  latitude  longitude  \n0      0.725310  1.170542  6.014594  0.870412  0.875424         0          0  \n1      0.846956  1.185621  5.752335  0.957268  0.971936         0          0  \n2      0.054225  1.025698  0.746137  0.386350  0.394260         0          0  \n3      0.661880  1.163012  5.374681  0.819419  0.830017         0          0  \n4      0.836842  1.185169  5.467322  0.899630  0.927706         0          0  \n...         ...       ...       ...       ...       ...       ...        ...  \n41467  0.822286  1.182832  4.951841  0.922245  0.949148         0          0  \n41468  0.495492  1.141982  4.453112  0.717015  0.714964         0          0  \n41469  0.779614  1.178526  4.579922  0.861480  0.871602         0          0  \n41470  0.763689  1.169555  5.502935  0.879030  0.882815         0          0  \n41471  0.839404  1.183883  4.933937  0.942140  0.963286         0          0  \n\n[41472 rows x 62 columns]"
     },
     "execution_count": 7,
     "metadata": {},
     "output_type": "execute_result"
    }
   ],
   "source": [
    "outputCSV = pandas.concat([ B3, B4, B5, B6, B7, B8A, B11, B12,\n",
    "                            RVI1, RVI2, RVI3, RVI4, GM1, GM2, GI, II, MSI,\n",
    "                            PSSR, SGI, SR2, SR3, GVI, PSRI, NDVI3, SR5, SR6,\n",
    "                            SR7, IPVI, ARI, ARI2, NDVI, GNDVI, NDWI, NDREVI, NDGI,\n",
    "                            NDI1, NDI2, RENDVI, OSAVI, NMDI, HI, GVSP, MCARI,\n",
    "                            TCARI, EVI, EVI2, RDVI, MSR, MSAVI, MSAVI2, MCARI2,\n",
    "                            MTVI2, N, GEMI, MSR2, NLI, TDVI, LAI, FAPAR, FCOVER ], \n",
    "                            axis=1, join='outer')\n",
    "outputCSV['latitude'] = 0\n",
    "outputCSV['longitude'] = 0\n",
    "outputCSV.columns =['B3', 'B4', 'B5', 'B6', 'B7', 'B8A', 'B11', 'B12',\n",
    "                    'RVI1', 'RVI2', 'RVI3', 'RVI4', 'GM1', 'GM2', 'GI', 'II', 'MSI',\n",
    "                    'PSSR', 'SGI', 'SR2', 'SR3', 'GVI', 'PSRI', 'NDVI3', 'SR5', 'SR6',\n",
    "                    'SR7', 'IPVI', 'ARI', 'ARI2', 'NDVI', 'GNDVI', 'NDWI', 'NDREVI', 'NDGI',\n",
    "                    'NDI1', 'NDI2', 'RENDVI', 'OSAVI', 'NMDI', 'HI', 'GVSP', 'MCARI',\n",
    "                    'TCARI', 'EVI', 'EVI2', 'RDVI', 'MSR', 'MSAVI', 'MSAVI2', 'MCARI2',\n",
    "                    'MTVI2', 'N', 'GEMI', 'MSR2', 'NLI', 'TDVI', 'LAI', 'FAPAR', 'FCOVER', \n",
    "                    'latitude', 'longitude']\n",
    "outputCSV"
   ]
  },
  {
   "cell_type": "code",
   "execution_count": 26,
   "metadata": {},
   "outputs": [],
   "source": [
    "outputCSV.to_csv(path_or_buf=r'transformedFeatures.csv')"
   ]
  },
  {
   "cell_type": "code",
   "execution_count": 8,
   "metadata": {},
   "outputs": [],
   "source": [
    "import ee\n",
    "ee.Initialize()"
   ]
  },
  {
   "cell_type": "code",
   "execution_count": 9,
   "metadata": {},
   "outputs": [],
   "source": [
    "def EE_LARS_Regression(assetName, features, response, maxSamples, n_nonzero):\n",
    "        \n",
    "    inputCSV = ee.FeatureCollection(assetName)\n",
    "    inputCSV = inputCSV.toList(count=maxSamples)\n",
    "    \n",
    "    def extractBands(feature):\n",
    "        feature = ee.Feature(feature)\n",
    "        return feature.toArray(properties=features).toList()\n",
    "\n",
    "    def extractVI(feature):\n",
    "        feature = ee.Feature(feature)\n",
    "        return feature.toArray(properties=[response]).toList()\n",
    "    \n",
    "    inputList = inputCSV.map(extractBands)\n",
    "    outputList = inputCSV.map(extractVI)\n",
    "    \n",
    "    X = ee.Array(inputList)\n",
    "    y = ee.Array(outputList)\n",
    "    \n",
    "    n = X.length().get([0])\n",
    "    m = X.length().get([1])\n",
    "    \n",
    "    \n",
    "    def centre(output):\n",
    "        output = ee.Array(output)\n",
    "        mean = output.reduce(ee.Reducer.mean(), [0]).get([0,0])\n",
    "        return output.subtract(mean)\n",
    "        \n",
    "    def normalize(inputs):\n",
    "        inputs = ee.Array(inputs)\n",
    "        \n",
    "        inputMeans = inputs.reduce(ee.Reducer.mean(), [0])\n",
    "        inputMeans = inputMeans.repeat(0, n)\n",
    "        inputs = inputs.subtract(inputMeans)\n",
    "        inputs = inputs.pow(2).reduce(ee.Reducer.sum(), [0]).pow(-0.5).repeat(0,n).multiply(inputs)\n",
    "        \n",
    "        return inputs\n",
    "    \n",
    "    X = normalize(X)\n",
    "    y = centre(y)\n",
    "    \n",
    "    def LARSregression(iteration, inputs):\n",
    "        inputs = ee.Dictionary(inputs)\n",
    "        prediction = inputs.getArray('prediction')\n",
    "        coeff_arr = inputs.getArray('coeff_arr')\n",
    "    \n",
    "        c = X.matrixTranspose().matrixMultiply(y.subtract(prediction))\n",
    "        c_abs = c.abs()\n",
    "        C_max = c_abs.get(c_abs.argmax())\n",
    "\n",
    "        maxLocs = c_abs.gte(C_max.subtract(0.00001))\n",
    "        signs = c.divide(c_abs)\n",
    "\n",
    "        signs_j = maxLocs.multiply(signs).matrixTranspose()\n",
    "        signs_jc = signs_j.abs().subtract(1).multiply(-1)\n",
    "        \n",
    "        A = ee.List(ee.Array([ee.List.sequence(0, m.subtract(1))]).mask(signs_j).toList().get(0))\n",
    "        A_c = ee.List(ee.Array([ee.List.sequence(0, m.subtract(1))]).mask(signs_jc).toList().get(0))\n",
    "\n",
    "        signMatrix_j = signs_j.repeat(0, n)\n",
    "\n",
    "        X_A = X.multiply(signMatrix_j).mask(signs_j)\n",
    "        j = X_A.length().get([1])\n",
    "        \n",
    "        G_A = X_A.matrixTranspose().matrixMultiply(X_A)\n",
    "\n",
    "        V1_A = ee.Array(ee.List.repeat([1], j))\n",
    "\n",
    "        G_Ai = G_A.matrixInverse()\n",
    "\n",
    "        A_A = V1_A.matrixTranspose().matrixMultiply(G_Ai).matrixMultiply(V1_A).get([0,0]).pow(-0.5)\n",
    "\n",
    "        w_A = G_Ai.matrixMultiply(V1_A).multiply(A_A)\n",
    "\n",
    "        u_A = X_A.matrixMultiply(w_A)\n",
    "\n",
    "        a = X.matrixTranspose().matrixMultiply(u_A)\n",
    "\n",
    "        def computeGammaRRay(index_j):\n",
    "            minus_j = C_max.subtract(c.get([index_j, 0])).divide(A_A.subtract(a.get([index_j, 0])))\n",
    "            plus_j = C_max.add(c.get([index_j, 0])).divide(A_A.add(a.get([index_j, 0])))\n",
    "\n",
    "            gammaRRay = ee.Array([minus_j, plus_j]);\n",
    "            gammaRRay = gammaRRay.mask(gammaRRay.gte(0))\n",
    "            gammaRRay = gammaRRay.multiply(-1)\n",
    "\n",
    "            return gammaRRay.get(gammaRRay.argmax())\n",
    "\n",
    "        gammaRRay = ee.Array([A_c.map(computeGammaRRay)])\n",
    "        gamma = gammaRRay.get(gammaRRay.argmax()).multiply(-1)\n",
    "\n",
    "        prediction = prediction.add(u_A.multiply(gamma))\n",
    "        coefficients = X.matrixSolve(prediction)\n",
    "\n",
    "        def setZero(num):\n",
    "            num = ee.Number(num)\n",
    "            return ee.Algorithms.If(num.abs().lt(0.0001), [0], [num])\n",
    "\n",
    "        coefficients = ee.Array(ee.List(coefficients.matrixTranspose().toList().get(0)).map(setZero))\n",
    "\n",
    "        coeff_arr = ee.Array.cat([coeff_arr, coefficients], axis=1)\n",
    "\n",
    "        outputs = ee.Dictionary({'prediction':prediction, 'coeff_arr':coeff_arr})\n",
    "\n",
    "        return outputs\n",
    "    \n",
    "    \n",
    "    numIterations = ee.List.sequence(1, n_nonzero)\n",
    "    prediction = ee.Array(ee.List.repeat([0], n))\n",
    "    coeff_arr = ee.Array(ee.List.repeat([0], m))\n",
    "    initial = ee.Dictionary({'prediction':prediction, 'coeff_arr':coeff_arr})\n",
    "\n",
    "    finalOutputs = numIterations.iterate(LARSregression, initial)\n",
    "    finalOutputs = ee.Dictionary(finalOutputs)\n",
    "    finalPrediction = finalOutputs.getArray('prediction')\n",
    "\n",
    "    coeff_arr = finalOutputs.getArray('coeff_arr')\n",
    "    coeff_arr = coeff_arr.getInfo()\n",
    "    coeff_arr = numpy.asarray(coeff_arr)\n",
    "    \n",
    "    return coeff_arr"
   ]
  },
  {
   "cell_type": "code",
   "execution_count": 10,
   "metadata": {},
   "outputs": [],
   "source": [
    "LAI_coef = EE_LARS_Regression('users/ccrs2fy2020/transformedFeatures', \n",
    "                              [ 'B3', 'B4', 'B5', 'B6', 'B7', 'B8A', 'B11', 'B12',\n",
    "                                'RVI1', 'RVI2', 'RVI3', 'RVI4', 'GM1', 'GM2', 'GI', 'II', 'MSI',\n",
    "                                'PSSR', 'SGI', 'SR2', 'SR3', 'GVI', 'PSRI', 'NDVI3', 'SR5', 'SR6',\n",
    "                                'SR7', 'IPVI', 'ARI', 'ARI2', 'NDVI', 'GNDVI', 'NDWI', 'NDREVI', 'NDGI',\n",
    "                                'NDI1', 'NDI2', 'RENDVI', 'OSAVI', 'NMDI', 'HI', 'GVSP', 'MCARI',\n",
    "                                'TCARI', 'EVI', 'EVI2', 'RDVI', 'MSR', 'MSAVI', 'MSAVI2', 'MCARI2',\n",
    "                                'MTVI2', 'N', 'GEMI', 'MSR2', 'NLI', 'TDVI' ], \n",
    "                              'LAI', \n",
    "                              50000, \n",
    "                              10)"
   ]
  },
  {
   "cell_type": "code",
   "execution_count": 11,
   "metadata": {},
   "outputs": [],
   "source": [
    "FAPAR_coef = EE_LARS_Regression('users/ccrs2fy2020/transformedFeatures',\n",
    "                                [ 'B3', 'B4', 'B5', 'B6', 'B7', 'B8A', 'B11', 'B12',\n",
    "                                'RVI1', 'RVI2', 'RVI3', 'RVI4', 'GM1', 'GM2', 'GI', 'II', 'MSI',\n",
    "                                'PSSR', 'SGI', 'SR2', 'SR3', 'GVI', 'PSRI', 'NDVI3', 'SR5', 'SR6',\n",
    "                                'SR7', 'IPVI', 'ARI', 'ARI2', 'NDVI', 'GNDVI', 'NDWI', 'NDREVI', 'NDGI',\n",
    "                                'NDI1', 'NDI2', 'RENDVI', 'OSAVI', 'NMDI', 'HI', 'GVSP', 'MCARI',\n",
    "                                'TCARI', 'EVI', 'EVI2', 'RDVI', 'MSR', 'MSAVI', 'MSAVI2', 'MCARI2',\n",
    "                                'MTVI2', 'N', 'GEMI', 'MSR2', 'NLI', 'TDVI' ],\n",
    "                                'FAPAR', \n",
    "                                50000, \n",
    "                                10)"
   ]
  },
  {
   "cell_type": "code",
   "execution_count": 12,
   "metadata": {},
   "outputs": [],
   "source": [
    "FCOVER_coef = EE_LARS_Regression('users/ccrs2fy2020/transformedFeatures', \n",
    "                                 [ 'B3', 'B4', 'B5', 'B6', 'B7', 'B8A', 'B11', 'B12',\n",
    "                                'RVI1', 'RVI2', 'RVI3', 'RVI4', 'GM1', 'GM2', 'GI', 'II', 'MSI',\n",
    "                                'PSSR', 'SGI', 'SR2', 'SR3', 'GVI', 'PSRI', 'NDVI3', 'SR5', 'SR6',\n",
    "                                'SR7', 'IPVI', 'ARI', 'ARI2', 'NDVI', 'GNDVI', 'NDWI', 'NDREVI', 'NDGI',\n",
    "                                'NDI1', 'NDI2', 'RENDVI', 'OSAVI', 'NMDI', 'HI', 'GVSP', 'MCARI',\n",
    "                                'TCARI', 'EVI', 'EVI2', 'RDVI', 'MSR', 'MSAVI', 'MSAVI2', 'MCARI2',\n",
    "                                'MTVI2', 'N', 'GEMI', 'MSR2', 'NLI', 'TDVI' ],\n",
    "                                 'FCOVER', \n",
    "                                 50000, \n",
    "                                 10)"
   ]
  },
  {
   "cell_type": "code",
   "execution_count": 13,
   "metadata": {},
   "outputs": [],
   "source": [
    "LAI_coef = pandas.DataFrame(LAI_coef)\n",
    "FAPAR_coef = pandas.DataFrame(FAPAR_coef)\n",
    "FCOVER_coef = pandas.DataFrame(FCOVER_coef)"
   ]
  },
  {
   "cell_type": "code",
   "execution_count": 29,
   "metadata": {},
   "outputs": [],
   "source": [
    "inputs = outputCSV[['B3', 'B4', 'B5', 'B6', 'B7', 'B8A', 'B11', 'B12',\n",
    "                    'RVI1', 'RVI2', 'RVI3', 'RVI4', 'GM1', 'GM2', 'GI', 'II', 'MSI',\n",
    "                    'PSSR', 'SGI', 'SR2', 'SR3', 'GVI', 'PSRI', 'NDVI3', 'SR5', 'SR6',\n",
    "                    'SR7', 'IPVI', 'ARI', 'ARI2', 'NDVI', 'GNDVI', 'NDWI', 'NDREVI', 'NDGI',\n",
    "                    'NDI1', 'NDI2', 'RENDVI', 'OSAVI', 'NMDI', 'HI', 'GVSP', 'MCARI',\n",
    "                    'TCARI', 'EVI', 'EVI2', 'RDVI', 'MSR', 'MSAVI', 'MSAVI2', 'MCARI2',\n",
    "                    'MTVI2', 'N', 'GEMI', 'MSR2', 'NLI', 'TDVI']]\n",
    "\n",
    "inputs_centred = inputs - inputs.mean()\n",
    "inputs_normed = inputs_centred * inputs_centred.pow(2).sum().pow(-0.5)\n",
    "n = inputs_normed.shape[0]\n",
    "m = inputs_normed.shape[1]"
   ]
  },
  {
   "cell_type": "code",
   "execution_count": 30,
   "metadata": {},
   "outputs": [
    {
     "data": {
      "text/plain": "0.8553778662089703"
     },
     "execution_count": 30,
     "metadata": {},
     "output_type": "execute_result"
    }
   ],
   "source": [
    "numVars = 10\n",
    "coefs = pandas.DataFrame(LAI_coef[numVars]).T\n",
    "coefs.columns =['B3', 'B4', 'B5', 'B6', 'B7', 'B8A', 'B11', 'B12',\n",
    "                'RVI1', 'RVI2', 'RVI3', 'RVI4', 'GM1', 'GM2', 'GI', 'II', 'MSI',\n",
    "                'PSSR', 'SGI', 'SR2', 'SR3', 'GVI', 'PSRI', 'NDVI3', 'SR5', 'SR6',\n",
    "                'SR7', 'IPVI', 'ARI', 'ARI2', 'NDVI', 'GNDVI', 'NDWI', 'NDREVI', 'NDGI',\n",
    "                'NDI1', 'NDI2', 'RENDVI', 'OSAVI', 'NMDI', 'HI', 'GVSP', 'MCARI',\n",
    "                'TCARI', 'EVI', 'EVI2', 'RDVI', 'MSR', 'MSAVI', 'MSAVI2', 'MCARI2',\n",
    "                'MTVI2', 'N', 'GEMI', 'MSR2', 'NLI', 'TDVI']\n",
    "coefs = coefs.transpose()\n",
    "prediction = (inputs_normed.dot(coefs) + LAI_mean)[numVars]\n",
    "RMSE = (((prediction - LAI).pow(2).sum())/n)**0.5\n",
    "RMSE"
   ]
  },
  {
   "cell_type": "code",
   "execution_count": 45,
   "metadata": {},
   "outputs": [
    {
     "name": "stdout",
     "output_type": "stream",
     "text": "B3 \n 0        0.048953\n1        0.053655\n2        0.075767\n3        0.071742\n4        0.100043\n           ...   \n41467    0.091781\n41468    0.046467\n41469    0.045621\n41470    0.053039\n41471    0.077574\nName: B3, Length: 41472, dtype: float64\nB4 \n 0        0.030271\n1        0.029552\n2        0.092849\n3        0.031115\n4        0.028230\n           ...   \n41467    0.028950\n41468    0.034942\n41469    0.027923\n41470    0.037354\n41471    0.030683\nName: B4, Length: 41472, dtype: float64\nB5 \n 0        0.073742\n1        0.074523\n2        0.144840\n3        0.094643\n4        0.130998\n           ...   \n41467    0.124602\n41468    0.069040\n41469    0.067862\n41470    0.081990\n41471    0.106863\nName: B5, Length: 41472, dtype: float64\nB6 \n 0        0.294630\n1        0.383288\n2        0.267414\n3        0.303518\n4        0.442701\n           ...   \n41467    0.420813\n41468    0.229278\n41469    0.307144\n41470    0.340293\n41471    0.434154\nName: B6, Length: 41472, dtype: float64\nB7 \n 0        0.419698\n1        0.566787\n2        0.306598\n3        0.383710\n4        0.560120\n           ...   \n41467    0.528081\n41468    0.308859\n41469    0.445989\n41470    0.506438\n41471    0.575929\nName: B7, Length: 41472, dtype: float64\nB8A \n 0        0.436037\n1        0.597187\n2        0.321708\n3        0.391068\n4        0.563746\n           ...   \n41467    0.544847\n41468    0.321834\n41469    0.474847\n41470    0.528001\n41471    0.592813\nName: B8A, Length: 41472, dtype: float64\nB11 \n 0        0.121603\n1        0.180981\n2        0.254556\n3        0.118468\n4        0.182785\n           ...   \n41467    0.122709\n41468    0.126807\n41469    0.162763\n41470    0.190817\n41471    0.144131\nName: B11, Length: 41472, dtype: float64\nB12 \n 0        0.043615\n1        0.054689\n2        0.145838\n3        0.047038\n4        0.062757\n           ...   \n41467    0.032790\n41468    0.071680\n41469    0.055750\n41470    0.076028\n41471    0.039566\nName: B12, Length: 41472, dtype: float64\nRVI1 \n 0        0.069422\n1        0.049485\n2        0.288614\n3        0.079565\n4        0.050075\n           ...   \n41467    0.053135\n41468    0.108572\n41469    0.058805\n41470    0.070745\n41471    0.051758\nName: RVI1, Length: 41472, dtype: float64\nRVI2 \n 0        0.072125\n1        0.052139\n2        0.302837\n3        0.081091\n4        0.050399\n           ...   \n41467    0.054822\n41468    0.113133\n41469    0.062610\n41470    0.073757\n41471    0.053275\nName: RVI2, Length: 41472, dtype: float64\nRVI3 \n 0        0.102741\n1        0.077100\n2        0.347212\n3        0.102516\n4        0.063767\n           ...   \n41467    0.068796\n41468    0.152400\n41469    0.090912\n41470    0.109769\n41471    0.070672\nName: RVI3, Length: 41472, dtype: float64\nRVI4 \n 0        0.410494\n1        0.396544\n2        0.641046\n3        0.328766\n4        0.215495\n           ...   \n41467    0.232343\n41468    0.506117\n41469    0.411473\n41470    0.455586\n41471    0.287121\nName: RVI4, Length: 41472, dtype: float64\nGM1 \n 0        6.018674\n1        7.143621\n2        3.529400\n3        4.230699\n4        4.425095\n           ...   \n41467    4.584980\n41468    4.934162\n41469    6.732473\n41470    6.415910\n41471    5.596676\nName: GM1, Length: 41472, dtype: float64\nGM2 \n 0        3.995408\n1        5.143250\n2        1.846266\n3        3.206981\n4        3.379440\n           ...   \n41467    3.377247\n41468    3.320965\n41469    4.526041\n41470    4.150414\n41471    4.062709\nName: GM2, Length: 41472, dtype: float64\nGI \n 0        1.617163\n1        1.815631\n2        0.816026\n3        2.305674\n4        3.543923\n           ...   \n41467    3.170273\n41468    1.329843\n41469    1.633812\n41470    1.419917\n41471    2.528252\nName: GI, Length: 41472, dtype: float64\nII \n 0        2.788102\n1        3.309269\n2        1.745476\n3        2.518567\n4        2.912591\n           ...   \n41467    3.742261\n41468    1.769078\n41469    2.919535\n41470    2.509833\n41471    3.642807\nName: II, Length: 41472, dtype: float64\nMSI \n 0        0.289739\n1        0.319311\n2        0.830260\n3        0.308743\n4        0.326332\n           ...   \n41467    0.232368\n41468    0.410565\n41469    0.364949\n41470    0.376783\n41471    0.250257\nName: MSI, Length: 41472, dtype: float64\nPSSR \n 0        13.864848\n1        19.179626\n2         3.302103\n3        12.331863\n4        19.841623\n           ...    \n41467    18.240871\n41468     8.839177\n41469    15.971972\n41470    13.557965\n41471    18.770509\nName: PSSR, Length: 41472, dtype: float64\nSGI \n 0        14.404607\n1        20.208328\n2         3.464840\n3        12.568322\n4        19.970079\n           ...    \n41467    18.819991\n41468     9.210517\n41469    17.005454\n41470    14.135224\n41471    19.320757\nName: SGI, Length: 41472, dtype: float64\nSR2 \n 0         8.573563\n1        10.563617\n2         4.046564\n3         5.348485\n4         5.598774\n           ...    \n41467     5.753723\n41468     6.646785\n41469     9.775892\n41470     9.548418\n41471     7.424302\nName: SR2, Length: 41472, dtype: float64\nSR3 \n 0        2.436090\n1        2.521786\n2        1.559950\n3        3.041681\n4        4.640471\n           ...   \n41467    4.303990\n41468    1.975829\n41469    2.430291\n41470    2.194977\n41471    3.482851\nName: SR3, Length: 41472, dtype: float64\nGVI \n 0         7.907333\n1        10.130199\n2         3.245990\n3         4.451041\n4         4.635021\n           ...    \n41467     4.936395\n41468     5.926021\n41469     9.408451\n41470     8.954963\n41471     6.641942\nName: GVI, Length: 41472, dtype: float64\nPSRI \n 0       -0.063408\n1       -0.062885\n2        0.063878\n3       -0.133852\n4       -0.162217\n           ...   \n41467   -0.149307\n41468   -0.050268\n41469   -0.057621\n41470   -0.046094\n41471   -0.108005\nName: PSRI, Length: 41472, dtype: float64\nNDVI3 \n 0        0.960848\n1        0.980067\n2        0.804236\n3        0.951550\n4        0.978155\n           ...   \n41467    0.975815\n41468    0.926371\n41469    0.969119\n41470    0.966608\n41471    0.978925\nName: NDVI3, Length: 41472, dtype: float64\nSR5 \n 0        13.560788\n1        13.418747\n2         6.904155\n3        10.566025\n4         7.633686\n           ...    \n41467     8.025525\n41468    14.484457\n41469    14.735884\n41470    12.196579\n41471     9.357758\nName: SR5, Length: 41472, dtype: float64\nSR6 \n 0         8.385543\n1         7.390681\n2         8.460701\n3         4.582619\n4         2.154021\n           ...    \n41467     2.531494\n41468    10.891859\n41469     9.019325\n41470     8.589640\n41471     3.701276\nName: SR6, Length: 41472, dtype: float64\nSR7 \n 0        120.790445\n1        149.353316\n2         29.314975\n3         57.595833\n4         43.015980\n            ...    \n41467     47.642690\n41468    100.319645\n41469    153.377719\n41470    121.416485\n41471     71.511445\nName: SR7, Length: 41472, dtype: float64\nIPVI \n 0        0.932727\n1        0.950445\n2        0.767556\n3        0.924992\n4        0.952019\n           ...   \n41467    0.948027\n41468    0.898365\n41469    0.941079\n41470    0.931309\n41471    0.949420\nName: IPVI, Length: 41472, dtype: float64\nARI \n 0        6.867152\n1        5.218973\n2        6.294118\n3        3.372840\n4        2.361988\n           ...   \n41467    2.869999\n41468    7.035989\n41469    7.183703\n41470    6.657480\n41471    3.533234\nName: ARI, Length: 41472, dtype: float64\nARI2 \n 0        2.882129\n1        2.958046\n2        1.929764\n3        1.294193\n4        1.322996\n           ...   \n41467    1.515593\n41468    2.173129\n41469    3.203852\n41470    3.371603\n41471    2.034894\nName: ARI2, Length: 41472, dtype: float64\nNDVI \n 0        0.870169\n1        0.905697\n2        0.552056\n3        0.852598\n4        0.904626\n           ...   \n41467    0.899092\n41468    0.804124\n41469    0.888923\n41470    0.867858\n41471    0.901578\nName: NDVI, Length: 41472, dtype: float64\nGNDVI \n 0        0.798129\n1        0.835122\n2        0.618756\n3        0.689973\n4        0.698569\n           ...   \n41467    0.711666\n41468    0.747667\n41469    0.824691\n41470    0.817434\n41471    0.768571\nName: GNDVI, Length: 41472, dtype: float64\nNDWI \n 0        0.563866\n1        0.534853\n2        0.116530\n3        0.534996\n4        0.510309\n           ...   \n41467    0.632363\n41468    0.434707\n41469    0.489459\n41470    0.469080\n41471    0.608842\nName: NDWI, Length: 41472, dtype: float64\nNDREVI \n 0        0.710690\n1        0.778111\n2        0.379098\n3        0.610291\n4        0.622888\n           ...   \n41467    0.627747\n41468    0.646743\n41469    0.749915\n41470    0.731176\n41471    0.694535\nName: NDREVI, Length: 41472, dtype: float64\nNDGI \n 0        0.235814\n1        0.289680\n2       -0.101306\n3        0.394980\n4        0.559852\n           ...   \n41467    0.520415\n41468    0.141573\n41469    0.240644\n41470    0.173525\n41471    0.433147\nName: NDGI, Length: 41472, dtype: float64\nNDI1 \n 0        0.888371\n1        0.916292\n2        0.756766\n3        0.819828\n4        0.806786\n           ...   \n41467    0.808363\n41468    0.875519\n41469    0.904469\n41470    0.904843\n41471    0.860282\nName: NDI1, Length: 41472, dtype: float64\nNDI2 \n 0        0.892866\n1        0.920775\n2        0.772825\n3        0.823511\n4        0.808094\n           ...   \n41467    0.814591\n41468    0.881149\n41469    0.910637\n41470    0.909025\n41471    0.864479\nName: NDI2, Length: 41472, dtype: float64\nRENDVI \n 0        0.599632\n1        0.674439\n2        0.297325\n3        0.524600\n4        0.543321\n           ...   \n41467    0.543092\n41468    0.537140\n41469    0.638077\n41470    0.611682\n41471    0.604955\nName: RENDVI, Length: 41472, dtype: float64\nOSAVI \n 0        0.426178\n1        0.516599\n2        0.245628\n3        0.399102\n4        0.514869\n           ...   \n41467    0.496123\n41468    0.333134\n41469    0.447413\n41470    0.471609\n41471    0.519875\nName: OSAVI, Length: 41472, dtype: float64\nNMDI \n 0        0.696560\n1        0.650876\n2        0.494834\n3        0.691112\n4        0.648925\n           ...   \n41467    0.716686\n41468    0.707518\n41469    0.632168\n41470    0.642840\n41471    0.700120\nName: NMDI, Length: 41472, dtype: float64\nHI \n 0       -0.238913\n1       -0.200067\n2       -0.385523\n3       -0.184961\n4       -0.199480\n           ...   \n41467   -0.213984\n41468   -0.229937\n41469   -0.229910\n41470   -0.255402\n41471   -0.212238\nName: HI, Length: 41472, dtype: float64\nGVSP \n 0        1.053546\n1        1.081065\n2        0.910252\n3        0.977854\n4        0.985011\n           ...   \n41467    0.993319\n41468    1.016539\n41469    1.073735\n41470    1.069161\n41471    1.031049\nName: GVSP, Length: 41472, dtype: float64\nMCARI \n 0        0.093822\n1        0.102883\n2        0.059553\n3        0.179299\n4        0.448166\n           ...   \n41467    0.383432\n41468    0.058451\n41469    0.086252\n41470    0.085267\n41471    0.244923\nName: MCARI, Length: 41472, dtype: float64\nTCARI \n 0        0.094181\n1        0.103339\n2        0.091323\n3        0.148788\n4        0.222119\n           ...   \n41467    0.202198\n41468    0.075533\n41469    0.087385\n41470    0.095782\n41471    0.167335\nName: TCARI, Length: 41472, dtype: float64\nEVI \n 0        0.811197\n1        1.034256\n2        0.436571\n3        0.865523\n4        1.362223\n           ...   \n41467    1.251941\n41468    0.606291\n41469    0.859319\n41470    0.905701\n41471    1.175899\nName: EVI, Length: 41472, dtype: float64\nEVI2 \n 0        0.672383\n1        0.850716\n2        0.370430\n3        0.613941\n4        0.820591\n           ...   \n41467    0.798934\n41468    0.510232\n41469    0.724649\n41470    0.758272\n41471    0.843304\nName: EVI2, Length: 41472, dtype: float64\nRDVI \n 0        0.594210\n1        0.717012\n2        0.355447\n3        0.553981\n4        0.696019\n           ...   \n41467    0.681057\n41468    0.480309\n41469    0.630302\n41470    0.652543\n41471    0.711902\nName: RDVI, Length: 41472, dtype: float64\nMSR \n 0        2.795340\n1        3.495367\n2        0.861408\n3        2.545183\n4        3.468789\n           ...   \n41467    3.338201\n41468    2.034883\n41469    3.123767\n41470    2.759684\n41471    3.395538\nName: MSR, Length: 41472, dtype: float64\nMSAVI \n 0        0.660874\n1        0.814669\n2        0.334260\n3        0.608476\n4        0.815021\n           ...   \n41467    0.785822\n41468    0.482640\n41469    0.703577\n41470    0.733036\n41471    0.816834\nName: MSAVI, Length: 41472, dtype: float64\nMSAVI2 \n 0        0.681807\n1        0.835369\n2        0.355353\n3        0.618860\n4        0.817733\n           ...   \n41467    0.800078\n41468    0.503044\n41469    0.737194\n41470    0.753244\n41471    0.828276\nName: MSAVI2, Length: 41472, dtype: float64\nMCARI2 \n 0        0.663513\n1        0.824944\n2        0.262944\n3        0.650746\n4        0.903685\n           ...   \n41467    0.859781\n41468    0.470903\n41469    0.707013\n41470    0.719342\n41471    0.861552\nName: MCARI2, Length: 41472, dtype: float64\nMTVI2 \n 0        1.026005\n1        1.134300\n2        0.412158\n3        1.033552\n4        1.245928\n           ...   \n41467    1.216743\n41468    0.778451\n41469    1.067790\n41470    1.045894\n41471    1.178824\nName: MTVI2, Length: 41472, dtype: float64\nN \n 0        1.084141\n1        1.439619\n2        0.785885\n3        0.982550\n4        1.367942\n           ...   \n41467    1.325936\n41468    0.822777\n41469    1.172384\n41470    1.281693\n41471    1.429050\nName: N, Length: 41472, dtype: float64\nGEMI \n 0        0.887987\n1        1.019848\n2        0.666923\n3        0.838099\n4        0.999707\n           ...   \n41467    0.985322\n41468    0.746855\n41469    0.928628\n41470    0.962056\n41471    1.015807\nName: GEMI, Length: 41472, dtype: float64\nMSR2 \n 0        3.336756\n1        4.046955\n2        1.109901\n3        3.103530\n4        4.127172\n           ...   \n41467    3.930491\n41468    2.499143\n41469    3.634234\n41470    3.291311\n41471    3.996602\nName: MSR2, Length: 41472, dtype: float64\nNLI \n 0        0.725310\n1        0.846956\n2        0.054225\n3        0.661880\n4        0.836842\n           ...   \n41467    0.822286\n41468    0.495492\n41469    0.779614\n41470    0.763689\n41471    0.839404\nName: NLI, Length: 41472, dtype: float64\nTDVI \n 0        1.170542\n1        1.185621\n2        1.025698\n3        1.163012\n4        1.185169\n           ...   \n41467    1.182832\n41468    1.141982\n41469    1.178526\n41470    1.169555\n41471    1.183883\nName: TDVI, Length: 41472, dtype: float64\nLAI \n 0        6.014594\n1        5.752335\n2        0.746137\n3        5.374681\n4        5.467322\n           ...   \n41467    4.951841\n41468    4.453112\n41469    4.579922\n41470    5.502935\n41471    4.933937\nName: LAI, Length: 41472, dtype: float64\nFAPAR \n 0        0.870412\n1        0.957268\n2        0.386350\n3        0.819419\n4        0.899630\n           ...   \n41467    0.922245\n41468    0.717015\n41469    0.861480\n41470    0.879030\n41471    0.942140\nName: FAPAR, Length: 41472, dtype: float64\nFCOVER \n 0        0.875424\n1        0.971936\n2        0.394260\n3        0.830017\n4        0.927706\n           ...   \n41467    0.949148\n41468    0.714964\n41469    0.871602\n41470    0.882815\n41471    0.963286\nName: FCOVER, Length: 41472, dtype: float64\nlatitude \n 0        0\n1        0\n2        0\n3        0\n4        0\n        ..\n41467    0\n41468    0\n41469    0\n41470    0\n41471    0\nName: latitude, Length: 41472, dtype: int64\nlongitude \n 0        0\n1        0\n2        0\n3        0\n4        0\n        ..\n41467    0\n41468    0\n41469    0\n41470    0\n41471    0\nName: longitude, Length: 41472, dtype: int64\n"
    }
   ],
   "source": [
    "RMSE_min = numpy.Infinity\n",
    "eps = 0.01*LAI_mean\n",
    "for key, coefs in LAI_coef.items():\n",
    "    predictions = inputs.dot(coefs) + LAI_mean\n",
    "    RMSE = sklearn.metrics.mean_squared_error(y_true=LAI, y_pred=predictions, squared=False)\n",
    "    if RMSE < RMSE_min+(0.01*LAI_mean)"
   ]
  },
  {
   "cell_type": "code",
   "execution_count": null,
   "metadata": {},
   "outputs": [],
   "source": [
    "LAI_coef = pandas.DataFrame(LAI_coef)\n",
    "FAPAR_coef = pandas.DataFrame(FAPAR_coef)\n",
    "FCOVER_coef = pandas.DataFrame(FCOVER_coef)"
   ]
  },
  {
   "cell_type": "code",
   "execution_count": null,
   "metadata": {},
   "outputs": [],
   "source": [
    "LAI_features = numpy.nonzero(LAI_coef[5])[0]\n",
    "FAPAR_features = numpy.nonzero(FAPAR_ceof[5])[0]\n",
    "FCOVER_features = numpy.nonzero(FCOVER_coef[5])[0]\n",
    "\n",
    "LAI_features = outputCSV.columns[LAI_features]\n",
    "FAPAR_features = outputCSV.columns[FAPAR_features]\n",
    "FCOVER_features = outputCSV.columns[FCOVER_features]"
   ]
  },
  {
   "cell_type": "code",
   "execution_count": null,
   "metadata": {},
   "outputs": [],
   "source": [
    "LAI_model = tensorflow.keras.models.Sequential([\n",
    "    tensorflow.keras.layers.Dense(10, activation=tensorflow.nn.sigmoid, \n",
    "                                  input_shape=[len(outputCSV[LAI_features].keys())]),\n",
    "    tensorflow.keras.layers.Dense(10, activation=tensorflow.nn.sigmoid),\n",
    "    tensorflow.keras.layers.Dense(1)\n",
    "])\n",
    "LAI_model.compile(\n",
    "    optimizer=tensorflow.keras.optimizers.Nadam(),\n",
    "    loss='mse',\n",
    "    metrics=['mse', 'mae'])\n",
    "\n",
    "\n",
    "FAPAR_model = tensorflow.keras.models.Sequential([\n",
    "    tensorflow.keras.layers.Dense(10, activation=tensorflow.nn.sigmoid, \n",
    "                                  input_shape=[len(outputCSV[FAPAR_features].keys())]),\n",
    "    tensorflow.keras.layers.Dense(10, activation=tensorflow.nn.sigmoid),\n",
    "    tensorflow.keras.layers.Dense(1)\n",
    "])\n",
    "FAPAR_model.compile(\n",
    "    optimizer=tensorflow.keras.optimizers.Nadam(),\n",
    "    loss='mse',\n",
    "    metrics=['mse', 'mae'])\n",
    "\n",
    "\n",
    "FCOVER_model = tensorflow.keras.models.Sequential([\n",
    "    tensorflow.keras.layers.Dense(10, activation=tensorflow.nn.sigmoid, \n",
    "                                  input_shape=[len(outputCSV[FCOVER_features].keys())]),\n",
    "    tensorflow.keras.layers.Dense(10, activation=tensorflow.nn.sigmoid),\n",
    "    tensorflow.keras.layers.Dense(1)\n",
    "])\n",
    "\n",
    "FCOVER_model.compile(\n",
    "    optimizer=tensorflow.keras.optimizers.Nadam(),\n",
    "    loss='mse',\n",
    "    metrics=['mse', 'mae'])"
   ]
  },
  {
   "cell_type": "code",
   "execution_count": null,
   "metadata": {},
   "outputs": [],
   "source": [
    "LAI_model.fit(x = inputDF[LAI_features], y = LAI, epochs = 100, validation_split = 0.2)\n",
    "FAPAR_model.fit(x = inputDF[FAPAR_features], y = FAPAR, epochs = 20, validation_split = 0.2)\n",
    "FCOVER_model.fit(x = inputDF[FCOVER_features], y = FCOVER, epochs = 20, validation_split = 0.2)"
   ]
  },
  {
   "cell_type": "code",
   "execution_count": null,
   "metadata": {},
   "outputs": [],
   "source": [
    "LAI_predictions = pandas.Series(LAI_model.predict(inputDF[LAI_features]).flatten())\n",
    "FAPAR_predictions = pandas.Series(FAPAR_model.predict(inputDF[FAPAR_features]).flatten())\n",
    "FCOVER_predictions = pandas.Series(FCOVER_model.predict(inputDF[FCOVER_features]).flatten())"
   ]
  },
  {
   "cell_type": "code",
   "execution_count": null,
   "metadata": {},
   "outputs": [],
   "source": [
    "xy_skl_LAI = numpy.vstack([LAI, LAI_predicted])\n",
    "xy_tf_LAI = numpy.vstack([LAI, LAI_predictions])\n",
    "xy_skl_FAPAR = numpy.vstack([FAPAR, FAPAR_predicted])\n",
    "xy_tf_FAPAR = numpy.vstack([FAPAR, FAPAR_predictions])\n",
    "xy_skl_FCOVER = numpy.vstack([FCOVER, FCOVER_predicted])\n",
    "xy_tf_FCOVER = numpy.vstack([FCOVER, FCOVER_predictions])"
   ]
  },
  {
   "cell_type": "code",
   "execution_count": null,
   "metadata": {},
   "outputs": [],
   "source": [
    "z_skl_LAI = scipy.stats.gaussian_kde(xy_skl_LAI)(xy_skl_LAI)\n",
    "z_tf_LAI = scipy.stats.gaussian_kde(xy_tf_LAI)(xy_tf_LAI)\n",
    "z_skl_FAPAR = scipy.stats.gaussian_kde(xy_skl_FAPAR)(xy_skl_FAPAR)\n",
    "z_tf_FAPAR = scipy.stats.gaussian_kde(xy_tf_FAPAR)(xy_tf_FAPAR)\n",
    "z_skl_FCOVER = scipy.stats.gaussian_kde(xy_skl_FCOVER)(xy_skl_FCOVER)\n",
    "z_tf_FCOVER = scipy.stats.gaussian_kde(xy_tf_FCOVER)(xy_tf_FCOVER)"
   ]
  },
  {
   "cell_type": "code",
   "execution_count": null,
   "metadata": {},
   "outputs": [],
   "source": [
    "idx_skl_LAI = z_skl_LAI.argsort()\n",
    "idx_tf_LAI = z_tf_LAI.argsort()\n",
    "idx_skl_FAPAR = z_skl_FAPAR.argsort()\n",
    "idx_tf_FAPAR = z_tf_FAPAR.argsort()\n",
    "idx_skl_FCOVER = z_skl_FCOVER.argsort()\n",
    "idx_tf_FCOVER = z_tf_FCOVER.argsort()"
   ]
  },
  {
   "cell_type": "code",
   "execution_count": null,
   "metadata": {},
   "outputs": [],
   "source": [
    "x_skl_LAI = LAI[idx_skl_LAI]\n",
    "x_tf_LAI = LAI[idx_tf_LAI]\n",
    "x_skl_FAPAR = FAPAR[idx_skl_FAPAR]\n",
    "x_tf_FAPAR = FAPAR[idx_tf_FAPAR]\n",
    "x_skl_FCOVER = FCOVER[idx_skl_FCOVER]\n",
    "x_tf_FCOVER = FCOVER[idx_tf_FCOVER]"
   ]
  },
  {
   "cell_type": "code",
   "execution_count": null,
   "metadata": {},
   "outputs": [],
   "source": [
    "y_skl_LAI = LAI_predicted[idx_skl_LAI]\n",
    "y_tf_LAI = LAI_predictions[idx_tf_LAI]\n",
    "y_skl_FAPAR = FAPAR_predicted[idx_skl_FAPAR]\n",
    "y_tf_FAPAR = FAPAR_predictions[idx_tf_FAPAR]\n",
    "y_skl_FCOVER = FCOVER_predicted[idx_skl_FCOVER]\n",
    "y_tf_FCOVER = FCOVER_predictions[idx_tf_FCOVER]"
   ]
  },
  {
   "cell_type": "code",
   "execution_count": null,
   "metadata": {},
   "outputs": [],
   "source": [
    "z_skl_LAI = z_skl_LAI[idx_skl_LAI]\n",
    "z_tf_LAI = z_tf_LAI[idx_tf_LAI]\n",
    "z_skl_FAPAR = z_skl_FAPAR[idx_skl_FAPAR]\n",
    "z_tf_FAPAR = z_tf_FAPAR[idx_tf_FAPAR]\n",
    "z_skl_FCOVER = z_skl_FCOVER[idx_skl_FCOVER]\n",
    "z_tf_FCOVER = z_tf_FCOVER[idx_tf_FCOVER]"
   ]
  },
  {
   "cell_type": "code",
   "execution_count": null,
   "metadata": {},
   "outputs": [],
   "source": [
    "rmse_skl_LAI = sklearn.metrics.mean_squared_error(x_skl_LAI, y_skl_LAI, squared=False)\n",
    "rmse_tf_LAI = sklearn.metrics.mean_squared_error(x_tf_LAI, y_tf_LAI, squared=False)\n",
    "rmse_skl_FAPAR = sklearn.metrics.mean_squared_error(x_skl_FAPAR, y_skl_FAPAR, squared=False)\n",
    "rmse_tf_FAPAR = sklearn.metrics.mean_squared_error(x_tf_FAPAR, y_tf_FAPAR, squared=False)\n",
    "rmse_skl_FCOVER = sklearn.metrics.mean_squared_error(x_skl_FCOVER, y_skl_FCOVER, squared=False)\n",
    "rmse_tf_FCOVER = sklearn.metrics.mean_squared_error(x_tf_FCOVER, y_tf_FCOVER, squared=False)"
   ]
  },
  {
   "cell_type": "code",
   "execution_count": null,
   "metadata": {},
   "outputs": [],
   "source": [
    "a_skl_LAI = numpy.linspace(0, 6, 1000)\n",
    "a_tf_LAI = numpy.linspace(0, 10, 1000)\n",
    "a_skl_FAPAR = numpy.linspace(0, 1, 1000)\n",
    "a_tf_FAPAR = numpy.linspace(0, 1, 1000)\n",
    "a_skl_FCOVER = numpy.linspace(0, 1, 1000)\n",
    "a_tf_FCOVER = numpy.linspace(0, 1, 1000)"
   ]
  },
  {
   "cell_type": "code",
   "execution_count": null,
   "metadata": {},
   "outputs": [],
   "source": [
    "fig, ax = plt.subplots(2, 3, figsize=(25,15))\n",
    "\n",
    "\n",
    "ax[0,0].scatter(x_skl_LAI, y_skl_LAI, c=z_skl_LAI)\n",
    "ax[0,0].plot(a_skl_LAI, a_skl_LAI, c='r')\n",
    "ax[0,0].set_title('LASSO LARS LAI - RMSE: {}'.format(rmse_skl_LAI))\n",
    "\n",
    "\n",
    "ax[1,0].scatter(x_tf_LAI, y_tf_LAI, c=z_tf_LAI)\n",
    "ax[1,0].plot(a_tf_LAI, a_tf_LAI, c='r')\n",
    "ax[1,0].set_title('LASSO LARS FAPAR - RMSE: {}'.format(rmse_tf_LAI))\n",
    "\n",
    "\n",
    "ax[0,1].scatter(x_skl_FAPAR, y_skl_FAPAR, c=z_skl_FAPAR)\n",
    "ax[0,1].plot(a_skl_FAPAR, a_skl_FAPAR, c='r')\n",
    "ax[0,1].set_title('LASSO LARS FCOVER - RMSE: {}'.format(rmse_skl_FAPAR))\n",
    "\n",
    "\n",
    "ax[1,1].scatter(x_tf_FAPAR, y_tf_FAPAR, c=z_tf_FAPAR)\n",
    "ax[1,1].plot(a_tf_FAPAR, a_tf_FAPAR, c='r')\n",
    "ax[1,1].set_title('NNet LAI - RMSE: {}'.format(rmse_tf_FAPAR))\n",
    "\n",
    "\n",
    "ax[0,2].scatter(x_skl_FCOVER, y_skl_FCOVER, c=z_skl_FCOVER)\n",
    "ax[0,2].plot(a_skl_FCOVER, a_skl_FCOVER, c='r')\n",
    "ax[0,2].set_title('NNet FAPAR - RMSE: {}'.format(rmse_skl_FCOVER))\n",
    "\n",
    "\n",
    "ax[1,2].scatter(x_tf_FCOVER, y_tf_FCOVER, c=z_tf_FCOVER)\n",
    "ax[1,2].plot(a_tf_FCOVER, a_tf_FCOVER, c='r')\n",
    "ax[1,2].set_title('NNet FCOVER - RMSE: {}'.format(rmse_tf_FCOVER))"
   ]
  },
  {
   "cell_type": "code",
   "execution_count": null,
   "metadata": {},
   "outputs": [],
   "source": []
  }
 ],
 "metadata": {
  "colab": {
   "name": "LAI_FAPAR_FCOVER_Prediction.ipynb",
   "provenance": []
  },
  "kernelspec": {
   "display_name": "Python 3",
   "language": "python",
   "name": "python3"
  },
  "language_info": {
   "codemirror_mode": {
    "name": "ipython",
    "version": 3
   },
   "file_extension": ".py",
   "mimetype": "text/x-python",
   "name": "python",
   "nbconvert_exporter": "python",
   "pygments_lexer": "ipython3",
   "version": "3.6.10-final"
  },
  "pycharm": {
   "stem_cell": {
    "cell_type": "raw",
    "source": [],
    "metadata": {
     "collapsed": false
    }
   }
  }
 },
 "nbformat": 4,
 "nbformat_minor": 4
}