{
 "cells": [
  {
   "cell_type": "code",
   "execution_count": 2,
   "metadata": {},
   "outputs": [],
   "source": [
    "import scipy\n",
    "import scipy.io as sio\n",
    "import matplotlib.pyplot as plt\n",
    "import numpy\n",
    "import pandas\n",
    "import sklearn\n",
    "from sklearn import preprocessing\n",
    "from sklearn import linear_model\n",
    "import tensorflow"
   ]
  },
  {
   "cell_type": "code",
   "execution_count": 3,
   "metadata": {},
   "outputs": [],
   "source": [
    "matlabData = sio.loadmat(file_name='s2_sl2p_weiss_or_prosail_inout.mat', variable_names=['Input', 'Output'])"
   ]
  },
  {
   "cell_type": "code",
   "execution_count": 4,
   "metadata": {},
   "outputs": [],
   "source": [
    "                                                                # B1  443nm, Ultra blue, 60m res\n",
    "                                                                # B2  490nm, blue, 10m res\n",
    "B3 = pandas.DataFrame(matlabData['Input']['Rho_Toc'][0][0])[0]      # 560nm, green, 10m res\n",
    "B4 = pandas.DataFrame(matlabData['Input']['Rho_Toc'][0][0])[1]      # 665nm, red, 10m res\n",
    "B5 = pandas.DataFrame(matlabData['Input']['Rho_Toc'][0][0])[2]      # 705nm, VNIR, 20m res\n",
    "B6 = pandas.DataFrame(matlabData['Input']['Rho_Toc'][0][0])[3]      # 740nm, VNIR, 20m res\n",
    "B7 = pandas.DataFrame(matlabData['Input']['Rho_Toc'][0][0])[4]      # 783nm, VNIR, 20m res\n",
    "                                                                # B8  842nm, VNIR, 10m res\n",
    "B8A = pandas.DataFrame(matlabData['Input']['Rho_Toc'][0][0])[5]     # 865nm, VNIR, 20m res\n",
    "                                                                # B9  940nm, SWIR, 60m res\n",
    "                                                                # B10 1375nm, SWIR, 60m res\n",
    "B11 = pandas.DataFrame(matlabData['Input']['Rho_Toc'][0][0])[6]     # 1610nm, SWIR, 20m res\n",
    "B12 = pandas.DataFrame(matlabData['Input']['Rho_Toc'][0][0])[7]     # 2190nm, SWIR, 20m res\n",
    "\n",
    "LAI = pandas.Series(data=matlabData['Output']['LAI'][0][0].flatten())\n",
    "FAPAR = pandas.Series(data=matlabData['Output']['FAPAR'][0][0].flatten())\n",
    "FCOVER = pandas.Series(data=matlabData['Output']['FCOVER'][0][0].flatten())"
   ]
  },
  {
   "cell_type": "code",
   "execution_count": 5,
   "metadata": {},
   "outputs": [],
   "source": [
    "NDVI    = (B8A-B4)/(B8A+B4)\n",
    "GNDVI   = (B8A-B3)/(B8A+B3)\n",
    "NDVI3   = ((B8A-B4)/(B8A))+B4\n",
    "NDWI    = (B8A-B11)/(B8A+B11)\n",
    "NDREVI  = (B8A-B5)/(B8A+B5)\n",
    "MSR     = ((B8A/B4)-1)/((B8A/B4)**0.5+1)\n",
    "EVI     = 2.5*((B8A-B4)/(B8A+6*B4-7.5*B3+1))\n",
    "EVI2    = 2.5*((B8A-B4)/(B8A+2.4*B4+1))\n",
    "RDVI    = (B8A-B4)/((B8A+B4)**0.5)\n",
    "RVI1    = B4/B8A\n",
    "RVI2    = B4/B7\n",
    "RVI3    = B4/B6\n",
    "RVI4    = B4/B5\n",
    "DVI1    = B8A-B4\n",
    "DVI2    = B7-B4\n",
    "DVI3    = B6-B4\n",
    "DVI4    = B5-B4\n",
    "MSAVI   = 0.5*(2*B7+1-((2*B7+1)**2-8*(B7-B4))**0.5)\n",
    "MSAVI2  = 0.5*(2*B8A+1-((2*B8A+1)**2-8*(B8A-B4))**0.5)\n",
    "MCARI   = ((B5-B4)-0.2*(B5-B3))*(B5/B4)\n",
    "MCARI2  = (1.5*(2.5*(B7-B4)-1.3*(B7-B3)))/((((2*B7+1)**2)-(6*B7-5*(B4**0.5))-0.5)**0.5)\n",
    "MTVI    = 1.2*(1.2*(B7-B3)-2.5*(B4-B3))\n",
    "MTVI2   = (1.5*(1.2*(B7-B3)-2.5*(B4-B3)))/(((2*B7+1)**2-(6*B7-5*B4)-0.5)**0.5)\n",
    "RENDVI  = (B6-B5)/(B6+B5)\n",
    "TCARI   = 3*((B5-B4)-0.2*(B5-B3)*(B5/B4))\n",
    "TVI     = (120*(B6-B3)-200*(B4-B3))/2\n",
    "GVI     = (B8A/B3)-1\n",
    "GVI2    = -0.290*B3 - 0.562*B4 + 0.600*B6 + 0.491*B8A\n",
    "GVI3    = -0.283*B3 - 0.66*B4 + 0.577*B6 + 0.388*B8A\n",
    "MGVI    = -0.386*B3 - 0.53*B4 + 0.535*B6 + 0.532*B8A\n",
    "YVI     = -0.829*B3 - 0.522*B4 + 0.039*B6 + 0.149*B8A\n",
    "SBI     = 0.433*B3 - 0.632*B4 + 0.586*B6 + 0.264*B8A\n",
    "ASBI    = 2*YVI\n",
    "MNSI    = 0.404*B3 - 0.039*B4 - 0.505*B6 + 0.762*B8A\n",
    "MSBI    = 0.406*B3 + 0.6*B4 + 0.645*B6 + 0.243*B8A\n",
    "MYVI    = 0.723*B3 - 0.597*B4 + 0.206*B6 - 0.278*B8A\n",
    "AGVI    = GVI2-(1 + 0.018*GVI2)*YVI-MNSI/2\n",
    "ARI     = (1/B3)-(1/B5)\n",
    "ARI2    = B7*ARI\n",
    "AVI     = 2*B8A-B4\n",
    "DI1     = B7-B3\n",
    "GDVI    = B8A-B3\n",
    "DVI     = 2.4*B8A-B4\n",
    "N       = (2*((B8A**2)-(B4**2))+1.5*B8A+0.5*B4)/(B8A+B4+0.5)\n",
    "GEMI    = N*(1-0.25*N)-((B4-0.125)/(1-B4))\n",
    "GM1     = B6/B3\n",
    "GM2     = B6/B5\n",
    "GRABS   = GVI2 - 0.09178*SBI + 5.58959\n",
    "GRABS2  = GVI3 - 0.09178*SBI + 5.58959\n",
    "GRVI    = B8A/B3\n",
    "GI      = B3/B4\n",
    "GVSP    = GVI3/SBI\n",
    "HI      = ((B3-B5)/(B3+B5))-0.5*B5\n",
    "II      = B11/B12\n",
    "IPVI    = B7/(B7+B4)\n",
    "IPVI2   = B8A/(B8A+B4)\n",
    "MSR2     = ((B7/B4)-1)/(((B7/B4)+1)**0.5)\n",
    "MSI     = B11/B7\n",
    "NDGI    = (B3-B4)/(B3+B4)\n",
    "NDI1    = (B7-B5)/(B7-B4)\n",
    "NDI2    = (B8A-B5)/(B8A-B4)\n",
    "NDWI2   = (B3-B8A)/(B3+B8A)\n",
    "NMDI    = (B8A-(B11-B12))/(B8A+(B11-B12))\n",
    "NLI     = ((B8A**2)-B4)/((B8A**2)+B4)\n",
    "OSAVI   = (1.16*(B7-B4))/(B7+B4+0.61)\n",
    "PSRI    = (B4-B3)/B6\n",
    "PSSR    = B7/B4\n",
    "RARS    = B6/B3\n",
    "RI      = (B4-B3)/(B4+B3)\n",
    "SBL     = B8A-2.4*B4\n",
    "SGI     = B8A/B4\n",
    "SR      = B7/B4\n",
    "SR2     = B7/B3\n",
    "SR3     = B5/B4\n",
    "SR4     = B6/B5\n",
    "SR5     = B4/(B5*B4)\n",
    "SR6     = B4/(B3*B5)\n",
    "SR7     = B8A/(B3*B5)\n",
    "TDVI    = (0.5+((B8A-B4)/(B8A+B4)))**0.5"
   ]
  },
  {
   "cell_type": "code",
   "execution_count": 6,
   "metadata": {},
   "outputs": [
    {
     "data": {
      "text/html": "<div>\n<style scoped>\n    .dataframe tbody tr th:only-of-type {\n        vertical-align: middle;\n    }\n\n    .dataframe tbody tr th {\n        vertical-align: top;\n    }\n\n    .dataframe thead th {\n        text-align: right;\n    }\n</style>\n<table border=\"1\" class=\"dataframe\">\n  <thead>\n    <tr style=\"text-align: right;\">\n      <th></th>\n      <th>B3</th>\n      <th>B4</th>\n      <th>B5</th>\n      <th>B6</th>\n      <th>B7</th>\n      <th>B8A</th>\n      <th>B11</th>\n      <th>B12</th>\n      <th>NDVI</th>\n      <th>GNDVI</th>\n      <th>...</th>\n      <th>SR4</th>\n      <th>SR5</th>\n      <th>SR6</th>\n      <th>SR7</th>\n      <th>TDVI</th>\n      <th>LAI</th>\n      <th>FAPAR</th>\n      <th>FCOVER</th>\n      <th>latitude</th>\n      <th>longitude</th>\n    </tr>\n  </thead>\n  <tbody>\n    <tr>\n      <th>0</th>\n      <td>0.048953</td>\n      <td>0.030271</td>\n      <td>0.073742</td>\n      <td>0.294630</td>\n      <td>0.419698</td>\n      <td>0.436037</td>\n      <td>0.121603</td>\n      <td>0.043615</td>\n      <td>0.870169</td>\n      <td>0.798129</td>\n      <td>...</td>\n      <td>3.995408</td>\n      <td>13.560788</td>\n      <td>8.385543</td>\n      <td>120.790445</td>\n      <td>1.170542</td>\n      <td>6.014594</td>\n      <td>0.870412</td>\n      <td>0.875424</td>\n      <td>0</td>\n      <td>0</td>\n    </tr>\n    <tr>\n      <th>1</th>\n      <td>0.053655</td>\n      <td>0.029552</td>\n      <td>0.074523</td>\n      <td>0.383288</td>\n      <td>0.566787</td>\n      <td>0.597187</td>\n      <td>0.180981</td>\n      <td>0.054689</td>\n      <td>0.905697</td>\n      <td>0.835122</td>\n      <td>...</td>\n      <td>5.143250</td>\n      <td>13.418747</td>\n      <td>7.390681</td>\n      <td>149.353316</td>\n      <td>1.185621</td>\n      <td>5.752335</td>\n      <td>0.957268</td>\n      <td>0.971936</td>\n      <td>0</td>\n      <td>0</td>\n    </tr>\n    <tr>\n      <th>2</th>\n      <td>0.075767</td>\n      <td>0.092849</td>\n      <td>0.144840</td>\n      <td>0.267414</td>\n      <td>0.306598</td>\n      <td>0.321708</td>\n      <td>0.254556</td>\n      <td>0.145838</td>\n      <td>0.552056</td>\n      <td>0.618756</td>\n      <td>...</td>\n      <td>1.846266</td>\n      <td>6.904155</td>\n      <td>8.460701</td>\n      <td>29.314975</td>\n      <td>1.025698</td>\n      <td>0.746137</td>\n      <td>0.386350</td>\n      <td>0.394260</td>\n      <td>0</td>\n      <td>0</td>\n    </tr>\n    <tr>\n      <th>3</th>\n      <td>0.071742</td>\n      <td>0.031115</td>\n      <td>0.094643</td>\n      <td>0.303518</td>\n      <td>0.383710</td>\n      <td>0.391068</td>\n      <td>0.118468</td>\n      <td>0.047038</td>\n      <td>0.852598</td>\n      <td>0.689973</td>\n      <td>...</td>\n      <td>3.206981</td>\n      <td>10.566025</td>\n      <td>4.582619</td>\n      <td>57.595833</td>\n      <td>1.163012</td>\n      <td>5.374681</td>\n      <td>0.819419</td>\n      <td>0.830017</td>\n      <td>0</td>\n      <td>0</td>\n    </tr>\n    <tr>\n      <th>4</th>\n      <td>0.100043</td>\n      <td>0.028230</td>\n      <td>0.130998</td>\n      <td>0.442701</td>\n      <td>0.560120</td>\n      <td>0.563746</td>\n      <td>0.182785</td>\n      <td>0.062757</td>\n      <td>0.904626</td>\n      <td>0.698569</td>\n      <td>...</td>\n      <td>3.379440</td>\n      <td>7.633686</td>\n      <td>2.154021</td>\n      <td>43.015980</td>\n      <td>1.185169</td>\n      <td>5.467322</td>\n      <td>0.899630</td>\n      <td>0.927706</td>\n      <td>0</td>\n      <td>0</td>\n    </tr>\n    <tr>\n      <th>...</th>\n      <td>...</td>\n      <td>...</td>\n      <td>...</td>\n      <td>...</td>\n      <td>...</td>\n      <td>...</td>\n      <td>...</td>\n      <td>...</td>\n      <td>...</td>\n      <td>...</td>\n      <td>...</td>\n      <td>...</td>\n      <td>...</td>\n      <td>...</td>\n      <td>...</td>\n      <td>...</td>\n      <td>...</td>\n      <td>...</td>\n      <td>...</td>\n      <td>...</td>\n      <td>...</td>\n    </tr>\n    <tr>\n      <th>41467</th>\n      <td>0.091781</td>\n      <td>0.028950</td>\n      <td>0.124602</td>\n      <td>0.420813</td>\n      <td>0.528081</td>\n      <td>0.544847</td>\n      <td>0.122709</td>\n      <td>0.032790</td>\n      <td>0.899092</td>\n      <td>0.711666</td>\n      <td>...</td>\n      <td>3.377247</td>\n      <td>8.025525</td>\n      <td>2.531494</td>\n      <td>47.642690</td>\n      <td>1.182832</td>\n      <td>4.951841</td>\n      <td>0.922245</td>\n      <td>0.949148</td>\n      <td>0</td>\n      <td>0</td>\n    </tr>\n    <tr>\n      <th>41468</th>\n      <td>0.046467</td>\n      <td>0.034942</td>\n      <td>0.069040</td>\n      <td>0.229278</td>\n      <td>0.308859</td>\n      <td>0.321834</td>\n      <td>0.126807</td>\n      <td>0.071680</td>\n      <td>0.804124</td>\n      <td>0.747667</td>\n      <td>...</td>\n      <td>3.320965</td>\n      <td>14.484457</td>\n      <td>10.891859</td>\n      <td>100.319645</td>\n      <td>1.141982</td>\n      <td>4.453112</td>\n      <td>0.717015</td>\n      <td>0.714964</td>\n      <td>0</td>\n      <td>0</td>\n    </tr>\n    <tr>\n      <th>41469</th>\n      <td>0.045621</td>\n      <td>0.027923</td>\n      <td>0.067862</td>\n      <td>0.307144</td>\n      <td>0.445989</td>\n      <td>0.474847</td>\n      <td>0.162763</td>\n      <td>0.055750</td>\n      <td>0.888923</td>\n      <td>0.824691</td>\n      <td>...</td>\n      <td>4.526041</td>\n      <td>14.735884</td>\n      <td>9.019325</td>\n      <td>153.377719</td>\n      <td>1.178526</td>\n      <td>4.579922</td>\n      <td>0.861480</td>\n      <td>0.871602</td>\n      <td>0</td>\n      <td>0</td>\n    </tr>\n    <tr>\n      <th>41470</th>\n      <td>0.053039</td>\n      <td>0.037354</td>\n      <td>0.081990</td>\n      <td>0.340293</td>\n      <td>0.506438</td>\n      <td>0.528001</td>\n      <td>0.190817</td>\n      <td>0.076028</td>\n      <td>0.867858</td>\n      <td>0.817434</td>\n      <td>...</td>\n      <td>4.150414</td>\n      <td>12.196579</td>\n      <td>8.589640</td>\n      <td>121.416485</td>\n      <td>1.169555</td>\n      <td>5.502935</td>\n      <td>0.879030</td>\n      <td>0.882815</td>\n      <td>0</td>\n      <td>0</td>\n    </tr>\n    <tr>\n      <th>41471</th>\n      <td>0.077574</td>\n      <td>0.030683</td>\n      <td>0.106863</td>\n      <td>0.434154</td>\n      <td>0.575929</td>\n      <td>0.592813</td>\n      <td>0.144131</td>\n      <td>0.039566</td>\n      <td>0.901578</td>\n      <td>0.768571</td>\n      <td>...</td>\n      <td>4.062709</td>\n      <td>9.357758</td>\n      <td>3.701276</td>\n      <td>71.511445</td>\n      <td>1.183883</td>\n      <td>4.933937</td>\n      <td>0.942140</td>\n      <td>0.963286</td>\n      <td>0</td>\n      <td>0</td>\n    </tr>\n  </tbody>\n</table>\n<p>41472 rows × 92 columns</p>\n</div>",
      "text/plain": "             B3        B4        B5        B6        B7       B8A       B11  \\\n0      0.048953  0.030271  0.073742  0.294630  0.419698  0.436037  0.121603   \n1      0.053655  0.029552  0.074523  0.383288  0.566787  0.597187  0.180981   \n2      0.075767  0.092849  0.144840  0.267414  0.306598  0.321708  0.254556   \n3      0.071742  0.031115  0.094643  0.303518  0.383710  0.391068  0.118468   \n4      0.100043  0.028230  0.130998  0.442701  0.560120  0.563746  0.182785   \n...         ...       ...       ...       ...       ...       ...       ...   \n41467  0.091781  0.028950  0.124602  0.420813  0.528081  0.544847  0.122709   \n41468  0.046467  0.034942  0.069040  0.229278  0.308859  0.321834  0.126807   \n41469  0.045621  0.027923  0.067862  0.307144  0.445989  0.474847  0.162763   \n41470  0.053039  0.037354  0.081990  0.340293  0.506438  0.528001  0.190817   \n41471  0.077574  0.030683  0.106863  0.434154  0.575929  0.592813  0.144131   \n\n            B12      NDVI     GNDVI  ...       SR4        SR5        SR6  \\\n0      0.043615  0.870169  0.798129  ...  3.995408  13.560788   8.385543   \n1      0.054689  0.905697  0.835122  ...  5.143250  13.418747   7.390681   \n2      0.145838  0.552056  0.618756  ...  1.846266   6.904155   8.460701   \n3      0.047038  0.852598  0.689973  ...  3.206981  10.566025   4.582619   \n4      0.062757  0.904626  0.698569  ...  3.379440   7.633686   2.154021   \n...         ...       ...       ...  ...       ...        ...        ...   \n41467  0.032790  0.899092  0.711666  ...  3.377247   8.025525   2.531494   \n41468  0.071680  0.804124  0.747667  ...  3.320965  14.484457  10.891859   \n41469  0.055750  0.888923  0.824691  ...  4.526041  14.735884   9.019325   \n41470  0.076028  0.867858  0.817434  ...  4.150414  12.196579   8.589640   \n41471  0.039566  0.901578  0.768571  ...  4.062709   9.357758   3.701276   \n\n              SR7      TDVI       LAI     FAPAR    FCOVER  latitude  longitude  \n0      120.790445  1.170542  6.014594  0.870412  0.875424         0          0  \n1      149.353316  1.185621  5.752335  0.957268  0.971936         0          0  \n2       29.314975  1.025698  0.746137  0.386350  0.394260         0          0  \n3       57.595833  1.163012  5.374681  0.819419  0.830017         0          0  \n4       43.015980  1.185169  5.467322  0.899630  0.927706         0          0  \n...           ...       ...       ...       ...       ...       ...        ...  \n41467   47.642690  1.182832  4.951841  0.922245  0.949148         0          0  \n41468  100.319645  1.141982  4.453112  0.717015  0.714964         0          0  \n41469  153.377719  1.178526  4.579922  0.861480  0.871602         0          0  \n41470  121.416485  1.169555  5.502935  0.879030  0.882815         0          0  \n41471   71.511445  1.183883  4.933937  0.942140  0.963286         0          0  \n\n[41472 rows x 92 columns]"
     },
     "execution_count": 6,
     "metadata": {},
     "output_type": "execute_result"
    }
   ],
   "source": [
    "outputCSV = pandas.concat([ B3, B4, B5, B6, B7, B8A, B11, B12,\n",
    "                            NDVI, GNDVI, NDVI3, NDWI, NDREVI, MSR, EVI, EVI2, RDVI, \n",
    "                            RVI1, RVI1, RVI3, RVI4, DVI1, DVI2, DVI3, DVI4,\n",
    "                            MSAVI, MSAVI2, MCARI, MCARI2, MTVI, MTVI2, RENDVI,\n",
    "                            TCARI, TVI, GVI, GVI2, GVI3, MGVI, YVI, SBI, ASBI,\n",
    "                            MNSI, MSBI, MYVI, AGVI, ARI, ARI2, AVI, DI1, GDVI,\n",
    "                            DVI, N, GEMI, GM1, GM2, GRABS, GRABS2, GRVI, GI, GVSP,\n",
    "                            HI, II, IPVI, IPVI2, MSR2, MSI, NDGI, NDI1, NDI2,\n",
    "                            NDWI2, NMDI, NLI, OSAVI, PSRI, PSSR, RARS, RI, SBL, SGI, \n",
    "                            SR, SR2, SR3, SR4, SR5, SR6, SR7, TDVI, \n",
    "                            LAI, FAPAR, FCOVER ], axis=1, join='outer')\n",
    "outputCSV['latitude'] = 0\n",
    "outputCSV['longitude'] = 0\n",
    "outputCSV.columns = [   'B3', 'B4', 'B5', 'B6', 'B7', 'B8A', 'B11', 'B12',\n",
    "                        'NDVI', 'GNDVI', 'NDVI3', 'NDWI', 'NDREVI', 'MSR', 'EVI', 'EVI2', 'RDVI', \n",
    "                        'RVI1', 'RVI2', 'RVI3', 'RVI4', 'DVI1', 'DVI2', 'DVI3', 'DVI4',\n",
    "                        'MSAVI', 'MSAVI2', 'MCARI', 'MCARI2', 'MTVI', 'MTVI2', 'RENDVI',\n",
    "                        'TCARI', 'TVI', 'GVI', 'GVI2', 'GVI3', 'MGVI', 'YVI', 'SBI', 'ASBI',\n",
    "                        'MNSI', 'MSBI', 'MYVI', 'AGVI', 'ARI', 'ARI2', 'AVI', 'DI1', 'GDVI',\n",
    "                        'DVI', 'N', 'GEMI', 'GM1', 'GM2', 'GRABS', 'GRABS2', 'GRVI', 'GI', 'GVSP',\n",
    "                        'HI', 'II', 'IPVI', 'IPVI2', 'MSR2', 'MSI', 'NDGI', 'NDI1', 'NDI2',\n",
    "                        'NDWI2', 'NMDI', 'NLI', 'OSAVI', 'PSRI', 'PSSR', 'RARS', 'RI', 'SBL', 'SGI', \n",
    "                        'SR', 'SR2', 'SR3', 'SR4', 'SR5', 'SR6', 'SR7', 'TDVI', \n",
    "                        'LAI', 'FAPAR', 'FCOVER', 'latitude', 'longitude' ]\n",
    "outputCSV"
   ]
  },
  {
   "cell_type": "code",
   "execution_count": 17,
   "metadata": {},
   "outputs": [],
   "source": [
    "outputCSV.to_csv(path_or_buf=r'transformedFeatures.csv')"
   ]
  },
  {
   "cell_type": "code",
   "execution_count": 7,
   "metadata": {},
   "outputs": [],
   "source": [
    "import ee\n",
    "ee.Initialize()"
   ]
  },
  {
   "cell_type": "code",
   "execution_count": 8,
   "metadata": {},
   "outputs": [],
   "source": [
    "def EE_LARS_Regression(assetName, features, response, maxSamples, n_nonzero):\n",
    "        \n",
    "    inputCSV = ee.FeatureCollection(assetName)\n",
    "    inputCSV = inputCSV.toList(count=maxSamples)\n",
    "    \n",
    "    def extractBands(feature):\n",
    "        feature = ee.Feature(feature)\n",
    "        return feature.toArray(properties=features).toList()\n",
    "\n",
    "    def extractVI(feature):\n",
    "        feature = ee.Feature(feature)\n",
    "        return feature.toArray(properties=[response]).toList()\n",
    "    \n",
    "    inputList = inputCSV.map(extractBands)\n",
    "    outputList = inputCSV.map(extractVI)\n",
    "    \n",
    "    X = ee.Array(inputList)\n",
    "    y = ee.Array(outputList)\n",
    "    \n",
    "    n = X.length().get([0])\n",
    "    m = X.length().get([1])\n",
    "    \n",
    "    \n",
    "    def centre(output):\n",
    "        output = ee.Array(output)\n",
    "        mean = output.reduce(ee.Reducer.mean(), [0]).get([0,0])\n",
    "        return output.subtract(mean)\n",
    "        \n",
    "    def normalize(inputs):\n",
    "        inputs = ee.Array(inputs)\n",
    "        \n",
    "        inputMeans = inputs.reduce(ee.Reducer.mean(), [0])\n",
    "        inputMeans = inputMeans.repeat(0, n)\n",
    "        inputs = inputs.subtract(inputMeans)\n",
    "        inputs = inputs.pow(2).reduce(ee.Reducer.sum(), [0]).pow(-0.5).repeat(0,n).multiply(inputs)\n",
    "        \n",
    "        return inputs\n",
    "    \n",
    "    X = normalize(X)\n",
    "    y = centre(y)\n",
    "    \n",
    "    def LARSregression(iteration, inputs):\n",
    "        inputs = ee.Dictionary(inputs)\n",
    "        prediction = inputs.getArray('prediction')\n",
    "        coeff_arr = inputs.getArray('coeff_arr')\n",
    "    \n",
    "        c = X.matrixTranspose().matrixMultiply(y.subtract(prediction))\n",
    "        c_abs = c.abs()\n",
    "        C_max = c_abs.get(c_abs.argmax())\n",
    "\n",
    "        maxLocs = c_abs.gte(C_max.subtract(0.00001))\n",
    "        signs = c.divide(c_abs)\n",
    "\n",
    "        signs_j = maxLocs.multiply(signs).matrixTranspose()\n",
    "        signs_jc = signs_j.abs().subtract(1).multiply(-1)\n",
    "        \n",
    "        A = ee.List(ee.Array([ee.List.sequence(0, m.subtract(1))]).mask(signs_j).toList().get(0))\n",
    "        A_c = ee.List(ee.Array([ee.List.sequence(0, m.subtract(1))]).mask(signs_jc).toList().get(0))\n",
    "\n",
    "        signMatrix_j = signs_j.repeat(0, n)\n",
    "\n",
    "        X_A = X.multiply(signMatrix_j).mask(signs_j)\n",
    "        j = X_A.length().get([1])\n",
    "        \n",
    "        G_A = X_A.matrixTranspose().matrixMultiply(X_A)\n",
    "\n",
    "        V1_A = ee.Array(ee.List.repeat([1], j))\n",
    "\n",
    "        G_Ai = G_A.matrixInverse()\n",
    "\n",
    "        A_A = V1_A.matrixTranspose().matrixMultiply(G_Ai).matrixMultiply(V1_A).get([0,0]).pow(-0.5)\n",
    "\n",
    "        w_A = G_Ai.matrixMultiply(V1_A).multiply(A_A)\n",
    "\n",
    "        u_A = X_A.matrixMultiply(w_A)\n",
    "\n",
    "        a = X.matrixTranspose().matrixMultiply(u_A)\n",
    "\n",
    "        def computeGammaRRay(index_j):\n",
    "            minus_j = C_max.subtract(c.get([index_j, 0])).divide(A_A.subtract(a.get([index_j, 0])))\n",
    "            plus_j = C_max.add(c.get([index_j, 0])).divide(A_A.add(a.get([index_j, 0])))\n",
    "\n",
    "            gammaRRay = ee.Array([minus_j, plus_j]);\n",
    "            gammaRRay = gammaRRay.mask(gammaRRay.gte(0))\n",
    "            gammaRRay = gammaRRay.multiply(-1)\n",
    "\n",
    "            return gammaRRay.get(gammaRRay.argmax())\n",
    "\n",
    "        gammaRRay = ee.Array([A_c.map(computeGammaRRay)])\n",
    "        gamma = gammaRRay.get(gammaRRay.argmax()).multiply(-1)\n",
    "\n",
    "        prediction = prediction.add(u_A.multiply(gamma))\n",
    "        coefficients = X.matrixSolve(prediction)\n",
    "\n",
    "        def setZero(num):\n",
    "            num = ee.Number(num)\n",
    "            return ee.Algorithms.If(num.abs().lt(0.0000000001), [0], [num])\n",
    "\n",
    "        coefficients = ee.Array(ee.List(coefficients.matrixTranspose().toList().get(0)).map(setZero))\n",
    "\n",
    "        coeff_arr = ee.Array.cat([coeff_arr, coefficients], axis=1)\n",
    "\n",
    "        outputs = ee.Dictionary({'prediction':prediction, 'coeff_arr':coeff_arr})\n",
    "\n",
    "        return outputs\n",
    "    \n",
    "    \n",
    "    numIterations = ee.List.sequence(1, n_nonzero)\n",
    "    prediction = ee.Array(ee.List.repeat([0], n))\n",
    "    coeff_arr = ee.Array(ee.List.repeat([0], m))\n",
    "    initial = ee.Dictionary({'prediction':prediction, 'coeff_arr':coeff_arr})\n",
    "\n",
    "    finalOutputs = numIterations.iterate(LARSregression, initial)\n",
    "    finalOutputs = ee.Dictionary(finalOutputs)\n",
    "    finalPrediction = finalOutputs.getArray('prediction')\n",
    "\n",
    "    coeff_arr = finalOutputs.getArray('coeff_arr')\n",
    "    coeff_arr = coeff_arr.getInfo()\n",
    "    coeff_arr = numpy.asarray(coeff_arr)\n",
    "    \n",
    "    return coeff_arr"
   ]
  },
  {
   "cell_type": "code",
   "execution_count": 12,
   "metadata": {},
   "outputs": [
    {
     "data": {
      "text/html": "<div>\n<style scoped>\n    .dataframe tbody tr th:only-of-type {\n        vertical-align: middle;\n    }\n\n    .dataframe tbody tr th {\n        vertical-align: top;\n    }\n\n    .dataframe thead th {\n        text-align: right;\n    }\n</style>\n<table border=\"1\" class=\"dataframe\">\n  <thead>\n    <tr style=\"text-align: right;\">\n      <th></th>\n      <th>0</th>\n      <th>1</th>\n      <th>2</th>\n      <th>3</th>\n      <th>4</th>\n      <th>5</th>\n      <th>6</th>\n      <th>7</th>\n    </tr>\n  </thead>\n  <tbody>\n    <tr>\n      <th>0</th>\n      <td>0.0</td>\n      <td>0.000000</td>\n      <td>0.000000</td>\n      <td>0.000000</td>\n      <td>0.000000</td>\n      <td>0.000000</td>\n      <td>0.000000</td>\n      <td>-134.825050</td>\n    </tr>\n    <tr>\n      <th>1</th>\n      <td>0.0</td>\n      <td>0.000000</td>\n      <td>0.000000</td>\n      <td>-28.130474</td>\n      <td>17.592608</td>\n      <td>26.208339</td>\n      <td>33.404112</td>\n      <td>0.822775</td>\n    </tr>\n    <tr>\n      <th>2</th>\n      <td>0.0</td>\n      <td>0.000000</td>\n      <td>0.000000</td>\n      <td>0.000000</td>\n      <td>-55.195770</td>\n      <td>-83.833800</td>\n      <td>-99.032896</td>\n      <td>21.754180</td>\n    </tr>\n    <tr>\n      <th>3</th>\n      <td>0.0</td>\n      <td>0.000000</td>\n      <td>0.000000</td>\n      <td>0.000000</td>\n      <td>0.000000</td>\n      <td>0.000000</td>\n      <td>0.000000</td>\n      <td>0.000000</td>\n    </tr>\n    <tr>\n      <th>4</th>\n      <td>0.0</td>\n      <td>65.151139</td>\n      <td>99.425893</td>\n      <td>181.077028</td>\n      <td>226.586317</td>\n      <td>309.057879</td>\n      <td>250.190363</td>\n      <td>184.991971</td>\n    </tr>\n    <tr>\n      <th>5</th>\n      <td>0.0</td>\n      <td>0.000000</td>\n      <td>0.000000</td>\n      <td>0.000000</td>\n      <td>0.000000</td>\n      <td>0.000000</td>\n      <td>109.556923</td>\n      <td>313.831110</td>\n    </tr>\n    <tr>\n      <th>6</th>\n      <td>0.0</td>\n      <td>0.000000</td>\n      <td>0.000000</td>\n      <td>0.000000</td>\n      <td>0.000000</td>\n      <td>-106.049380</td>\n      <td>-175.454993</td>\n      <td>-391.093188</td>\n    </tr>\n    <tr>\n      <th>7</th>\n      <td>0.0</td>\n      <td>0.000000</td>\n      <td>-34.274754</td>\n      <td>-94.992055</td>\n      <td>-110.249060</td>\n      <td>-1.460564</td>\n      <td>65.201604</td>\n      <td>295.743311</td>\n    </tr>\n  </tbody>\n</table>\n</div>",
      "text/plain": "     0          1          2           3           4           5           6  \\\n0  0.0   0.000000   0.000000    0.000000    0.000000    0.000000    0.000000   \n1  0.0   0.000000   0.000000  -28.130474   17.592608   26.208339   33.404112   \n2  0.0   0.000000   0.000000    0.000000  -55.195770  -83.833800  -99.032896   \n3  0.0   0.000000   0.000000    0.000000    0.000000    0.000000    0.000000   \n4  0.0  65.151139  99.425893  181.077028  226.586317  309.057879  250.190363   \n5  0.0   0.000000   0.000000    0.000000    0.000000    0.000000  109.556923   \n6  0.0   0.000000   0.000000    0.000000    0.000000 -106.049380 -175.454993   \n7  0.0   0.000000 -34.274754  -94.992055 -110.249060   -1.460564   65.201604   \n\n            7  \n0 -134.825050  \n1    0.822775  \n2   21.754180  \n3    0.000000  \n4  184.991971  \n5  313.831110  \n6 -391.093188  \n7  295.743311  "
     },
     "execution_count": 12,
     "metadata": {},
     "output_type": "execute_result"
    }
   ],
   "source": [
    "LAI_coef = EE_LARS_Regression('users/ccrs2fy2020/transformedFeatures', \n",
    "                              [ 'B3', 'B4', 'B5', 'B6', 'B7', 'B8A', 'B11', 'B12'], \n",
    "                              'LAI', \n",
    "                              50000, \n",
    "                              7)\n",
    "pandas.DataFrame(LAI_coef)"
   ]
  },
  {
   "cell_type": "code",
   "execution_count": 13,
   "metadata": {},
   "outputs": [
    {
     "ename": "EEException",
     "evalue": "User memory limit exceeded.",
     "output_type": "error",
     "traceback": [
      "\u001b[0;31m---------------------------------------------------------------------------\u001b[0m",
      "\u001b[0;31mHttpError\u001b[0m                                 Traceback (most recent call last)",
      "\u001b[0;32m~/anaconda3/envs/eeAlr/lib/python3.6/site-packages/ee/data.py\u001b[0m in \u001b[0;36m_execute_cloud_call\u001b[0;34m(call, num_retries)\u001b[0m\n\u001b[1;32m    337\u001b[0m   \u001b[0;32mtry\u001b[0m\u001b[0;34m:\u001b[0m\u001b[0;34m\u001b[0m\u001b[0;34m\u001b[0m\u001b[0m\n\u001b[0;32m--> 338\u001b[0;31m     \u001b[0;32mreturn\u001b[0m \u001b[0mcall\u001b[0m\u001b[0;34m.\u001b[0m\u001b[0mexecute\u001b[0m\u001b[0;34m(\u001b[0m\u001b[0mnum_retries\u001b[0m\u001b[0;34m=\u001b[0m\u001b[0mnum_retries\u001b[0m\u001b[0;34m)\u001b[0m\u001b[0;34m\u001b[0m\u001b[0;34m\u001b[0m\u001b[0m\n\u001b[0m\u001b[1;32m    339\u001b[0m   \u001b[0;32mexcept\u001b[0m \u001b[0mapiclient\u001b[0m\u001b[0;34m.\u001b[0m\u001b[0merrors\u001b[0m\u001b[0;34m.\u001b[0m\u001b[0mHttpError\u001b[0m \u001b[0;32mas\u001b[0m \u001b[0me\u001b[0m\u001b[0;34m:\u001b[0m\u001b[0;34m\u001b[0m\u001b[0;34m\u001b[0m\u001b[0m\n",
      "\u001b[0;32m~/anaconda3/envs/eeAlr/lib/python3.6/site-packages/googleapiclient/_helpers.py\u001b[0m in \u001b[0;36mpositional_wrapper\u001b[0;34m(*args, **kwargs)\u001b[0m\n\u001b[1;32m    129\u001b[0m                     \u001b[0mlogger\u001b[0m\u001b[0;34m.\u001b[0m\u001b[0mwarning\u001b[0m\u001b[0;34m(\u001b[0m\u001b[0mmessage\u001b[0m\u001b[0;34m)\u001b[0m\u001b[0;34m\u001b[0m\u001b[0;34m\u001b[0m\u001b[0m\n\u001b[0;32m--> 130\u001b[0;31m             \u001b[0;32mreturn\u001b[0m \u001b[0mwrapped\u001b[0m\u001b[0;34m(\u001b[0m\u001b[0;34m*\u001b[0m\u001b[0margs\u001b[0m\u001b[0;34m,\u001b[0m \u001b[0;34m**\u001b[0m\u001b[0mkwargs\u001b[0m\u001b[0;34m)\u001b[0m\u001b[0;34m\u001b[0m\u001b[0;34m\u001b[0m\u001b[0m\n\u001b[0m\u001b[1;32m    131\u001b[0m         \u001b[0;32mreturn\u001b[0m \u001b[0mpositional_wrapper\u001b[0m\u001b[0;34m\u001b[0m\u001b[0;34m\u001b[0m\u001b[0m\n",
      "\u001b[0;32m~/anaconda3/envs/eeAlr/lib/python3.6/site-packages/googleapiclient/http.py\u001b[0m in \u001b[0;36mexecute\u001b[0;34m(self, http, num_retries)\u001b[0m\n\u001b[1;32m    855\u001b[0m     \u001b[0;32mif\u001b[0m \u001b[0mresp\u001b[0m\u001b[0;34m.\u001b[0m\u001b[0mstatus\u001b[0m \u001b[0;34m>=\u001b[0m \u001b[0;36m300\u001b[0m\u001b[0;34m:\u001b[0m\u001b[0;34m\u001b[0m\u001b[0;34m\u001b[0m\u001b[0m\n\u001b[0;32m--> 856\u001b[0;31m       \u001b[0;32mraise\u001b[0m \u001b[0mHttpError\u001b[0m\u001b[0;34m(\u001b[0m\u001b[0mresp\u001b[0m\u001b[0;34m,\u001b[0m \u001b[0mcontent\u001b[0m\u001b[0;34m,\u001b[0m \u001b[0muri\u001b[0m\u001b[0;34m=\u001b[0m\u001b[0mself\u001b[0m\u001b[0;34m.\u001b[0m\u001b[0muri\u001b[0m\u001b[0;34m)\u001b[0m\u001b[0;34m\u001b[0m\u001b[0;34m\u001b[0m\u001b[0m\n\u001b[0m\u001b[1;32m    857\u001b[0m     \u001b[0;32mreturn\u001b[0m \u001b[0mself\u001b[0m\u001b[0;34m.\u001b[0m\u001b[0mpostproc\u001b[0m\u001b[0;34m(\u001b[0m\u001b[0mresp\u001b[0m\u001b[0;34m,\u001b[0m \u001b[0mcontent\u001b[0m\u001b[0;34m)\u001b[0m\u001b[0;34m\u001b[0m\u001b[0;34m\u001b[0m\u001b[0m\n",
      "\u001b[0;31mHttpError\u001b[0m: <HttpError 400 when requesting https://earthengine.googleapis.com/v1alpha/projects/earthengine-legacy/value:compute?prettyPrint=false&alt=json returned \"User memory limit exceeded.\">",
      "\nDuring handling of the above exception, another exception occurred:\n",
      "\u001b[0;31mEEException\u001b[0m                               Traceback (most recent call last)",
      "\u001b[0;32m<ipython-input-13-2503c5df53ce>\u001b[0m in \u001b[0;36m<module>\u001b[0;34m\u001b[0m\n\u001b[1;32m     12\u001b[0m                                 \u001b[0;34m'FAPAR'\u001b[0m\u001b[0;34m,\u001b[0m\u001b[0;34m\u001b[0m\u001b[0;34m\u001b[0m\u001b[0m\n\u001b[1;32m     13\u001b[0m                                 \u001b[0;36m50000\u001b[0m\u001b[0;34m,\u001b[0m\u001b[0;34m\u001b[0m\u001b[0;34m\u001b[0m\u001b[0m\n\u001b[0;32m---> 14\u001b[0;31m                                 10)\n\u001b[0m\u001b[1;32m     15\u001b[0m \u001b[0mpandas\u001b[0m\u001b[0;34m.\u001b[0m\u001b[0mDataFrame\u001b[0m\u001b[0;34m(\u001b[0m\u001b[0mFAPAR_coef\u001b[0m\u001b[0;34m)\u001b[0m\u001b[0;34m\u001b[0m\u001b[0;34m\u001b[0m\u001b[0m\n",
      "\u001b[0;32m<ipython-input-8-7746f9b29257>\u001b[0m in \u001b[0;36mEE_LARS_Regression\u001b[0;34m(assetName, features, response, maxSamples, n_nonzero)\u001b[0m\n\u001b[1;32m    116\u001b[0m \u001b[0;34m\u001b[0m\u001b[0m\n\u001b[1;32m    117\u001b[0m     \u001b[0mcoeff_arr\u001b[0m \u001b[0;34m=\u001b[0m \u001b[0mfinalOutputs\u001b[0m\u001b[0;34m.\u001b[0m\u001b[0mgetArray\u001b[0m\u001b[0;34m(\u001b[0m\u001b[0;34m'coeff_arr'\u001b[0m\u001b[0;34m)\u001b[0m\u001b[0;34m\u001b[0m\u001b[0;34m\u001b[0m\u001b[0m\n\u001b[0;32m--> 118\u001b[0;31m     \u001b[0mcoeff_arr\u001b[0m \u001b[0;34m=\u001b[0m \u001b[0mcoeff_arr\u001b[0m\u001b[0;34m.\u001b[0m\u001b[0mgetInfo\u001b[0m\u001b[0;34m(\u001b[0m\u001b[0;34m)\u001b[0m\u001b[0;34m\u001b[0m\u001b[0;34m\u001b[0m\u001b[0m\n\u001b[0m\u001b[1;32m    119\u001b[0m     \u001b[0mcoeff_arr\u001b[0m \u001b[0;34m=\u001b[0m \u001b[0mnumpy\u001b[0m\u001b[0;34m.\u001b[0m\u001b[0masarray\u001b[0m\u001b[0;34m(\u001b[0m\u001b[0mcoeff_arr\u001b[0m\u001b[0;34m)\u001b[0m\u001b[0;34m\u001b[0m\u001b[0;34m\u001b[0m\u001b[0m\n\u001b[1;32m    120\u001b[0m \u001b[0;34m\u001b[0m\u001b[0m\n",
      "\u001b[0;32m~/anaconda3/envs/eeAlr/lib/python3.6/site-packages/ee/computedobject.py\u001b[0m in \u001b[0;36mgetInfo\u001b[0;34m(self)\u001b[0m\n\u001b[1;32m     93\u001b[0m       \u001b[0mThe\u001b[0m \u001b[0mobject\u001b[0m \u001b[0mcan\u001b[0m \u001b[0mevaluate\u001b[0m \u001b[0mto\u001b[0m \u001b[0manything\u001b[0m\u001b[0;34m.\u001b[0m\u001b[0;34m\u001b[0m\u001b[0;34m\u001b[0m\u001b[0m\n\u001b[1;32m     94\u001b[0m     \"\"\"\n\u001b[0;32m---> 95\u001b[0;31m     \u001b[0;32mreturn\u001b[0m \u001b[0mdata\u001b[0m\u001b[0;34m.\u001b[0m\u001b[0mcomputeValue\u001b[0m\u001b[0;34m(\u001b[0m\u001b[0mself\u001b[0m\u001b[0;34m)\u001b[0m\u001b[0;34m\u001b[0m\u001b[0;34m\u001b[0m\u001b[0m\n\u001b[0m\u001b[1;32m     96\u001b[0m \u001b[0;34m\u001b[0m\u001b[0m\n\u001b[1;32m     97\u001b[0m   \u001b[0;32mdef\u001b[0m \u001b[0mencode\u001b[0m\u001b[0;34m(\u001b[0m\u001b[0mself\u001b[0m\u001b[0;34m,\u001b[0m \u001b[0mencoder\u001b[0m\u001b[0;34m)\u001b[0m\u001b[0;34m:\u001b[0m\u001b[0;34m\u001b[0m\u001b[0;34m\u001b[0m\u001b[0m\n",
      "\u001b[0;32m~/anaconda3/envs/eeAlr/lib/python3.6/site-packages/ee/data.py\u001b[0m in \u001b[0;36mcomputeValue\u001b[0;34m(obj)\u001b[0m\n\u001b[1;32m    715\u001b[0m         \u001b[0mbody\u001b[0m\u001b[0;34m=\u001b[0m\u001b[0;34m{\u001b[0m\u001b[0;34m'expression'\u001b[0m\u001b[0;34m:\u001b[0m \u001b[0mserializer\u001b[0m\u001b[0;34m.\u001b[0m\u001b[0mencode\u001b[0m\u001b[0;34m(\u001b[0m\u001b[0mobj\u001b[0m\u001b[0;34m,\u001b[0m \u001b[0mfor_cloud_api\u001b[0m\u001b[0;34m=\u001b[0m\u001b[0;32mTrue\u001b[0m\u001b[0;34m)\u001b[0m\u001b[0;34m}\u001b[0m\u001b[0;34m,\u001b[0m\u001b[0;34m\u001b[0m\u001b[0;34m\u001b[0m\u001b[0m\n\u001b[1;32m    716\u001b[0m         \u001b[0mproject\u001b[0m\u001b[0;34m=\u001b[0m\u001b[0m_get_projects_path\u001b[0m\u001b[0;34m(\u001b[0m\u001b[0;34m)\u001b[0m\u001b[0;34m,\u001b[0m\u001b[0;34m\u001b[0m\u001b[0;34m\u001b[0m\u001b[0m\n\u001b[0;32m--> 717\u001b[0;31m         prettyPrint=False))['result']\n\u001b[0m\u001b[1;32m    718\u001b[0m   \u001b[0;32mreturn\u001b[0m \u001b[0msend_\u001b[0m\u001b[0;34m(\u001b[0m\u001b[0;34m'/value'\u001b[0m\u001b[0;34m,\u001b[0m \u001b[0;34m(\u001b[0m\u001b[0;34m{\u001b[0m\u001b[0;34m'json'\u001b[0m\u001b[0;34m:\u001b[0m \u001b[0mobj\u001b[0m\u001b[0;34m.\u001b[0m\u001b[0mserialize\u001b[0m\u001b[0;34m(\u001b[0m\u001b[0;34m)\u001b[0m\u001b[0;34m,\u001b[0m \u001b[0;34m'json_format'\u001b[0m\u001b[0;34m:\u001b[0m \u001b[0;34m'v2'\u001b[0m\u001b[0;34m}\u001b[0m\u001b[0;34m)\u001b[0m\u001b[0;34m)\u001b[0m\u001b[0;34m\u001b[0m\u001b[0;34m\u001b[0m\u001b[0m\n\u001b[1;32m    719\u001b[0m \u001b[0;34m\u001b[0m\u001b[0m\n",
      "\u001b[0;32m~/anaconda3/envs/eeAlr/lib/python3.6/site-packages/ee/data.py\u001b[0m in \u001b[0;36m_execute_cloud_call\u001b[0;34m(call, num_retries)\u001b[0m\n\u001b[1;32m    338\u001b[0m     \u001b[0;32mreturn\u001b[0m \u001b[0mcall\u001b[0m\u001b[0;34m.\u001b[0m\u001b[0mexecute\u001b[0m\u001b[0;34m(\u001b[0m\u001b[0mnum_retries\u001b[0m\u001b[0;34m=\u001b[0m\u001b[0mnum_retries\u001b[0m\u001b[0;34m)\u001b[0m\u001b[0;34m\u001b[0m\u001b[0;34m\u001b[0m\u001b[0m\n\u001b[1;32m    339\u001b[0m   \u001b[0;32mexcept\u001b[0m \u001b[0mapiclient\u001b[0m\u001b[0;34m.\u001b[0m\u001b[0merrors\u001b[0m\u001b[0;34m.\u001b[0m\u001b[0mHttpError\u001b[0m \u001b[0;32mas\u001b[0m \u001b[0me\u001b[0m\u001b[0;34m:\u001b[0m\u001b[0;34m\u001b[0m\u001b[0;34m\u001b[0m\u001b[0m\n\u001b[0;32m--> 340\u001b[0;31m     \u001b[0;32mraise\u001b[0m \u001b[0m_translate_cloud_exception\u001b[0m\u001b[0;34m(\u001b[0m\u001b[0me\u001b[0m\u001b[0;34m)\u001b[0m\u001b[0;34m\u001b[0m\u001b[0;34m\u001b[0m\u001b[0m\n\u001b[0m\u001b[1;32m    341\u001b[0m \u001b[0;34m\u001b[0m\u001b[0m\n\u001b[1;32m    342\u001b[0m \u001b[0;34m\u001b[0m\u001b[0m\n",
      "\u001b[0;31mEEException\u001b[0m: User memory limit exceeded."
     ]
    }
   ],
   "source": [
    "FAPAR_coef = EE_LARS_Regression('users/ccrs2fy2020/transformedFeatures',\n",
    "                                [ 'B3', 'B4', 'B5', 'B6', 'B7', 'B8A', 'B11', 'B12',\n",
    "                                'NDVI', 'GNDVI', 'NDVI3', 'NDWI', 'NDREVI', 'MSR', 'EVI', 'EVI2', 'RDVI', \n",
    "                                'RVI1', 'RVI2', 'RVI3', 'RVI4', 'DVI1', 'DVI2', 'DVI3', 'DVI4',\n",
    "                                'MSAVI', 'MSAVI2', 'MCARI', 'MCARI2', 'MTVI', 'MTVI2', 'RENDVI',\n",
    "                                'TCARI', 'TVI', 'GVI', 'GVI2', 'GVI3', 'MGVI', 'YVI', 'SBI', 'ASBI',\n",
    "                                'MNSI', 'MSBI', 'MYVI', 'AGVI', 'ARI', 'ARI2', 'AVI', 'DI1', 'GDVI',\n",
    "                                'DVI', 'N', 'GEMI', 'GM1', 'GM2', 'GRABS', 'GRABS2', 'GRVI', 'GI', 'GVSP',\n",
    "                                'HI', 'II', 'IPVI', 'IPVI2', 'MSR2', 'MSI', 'NDGI', 'NDI1', 'NDI2',\n",
    "                                'NDWI2', 'NMDI', 'NLI', 'OSAVI', 'PSRI', 'PSSR', 'RARS', 'RI', 'SBL', 'SGI', \n",
    "                                'SR', 'SR2', 'SR3', 'SR4', 'SR5', 'SR6', 'SR7', 'TDVI'  ],\n",
    "                                'FAPAR', \n",
    "                                50000, \n",
    "                                10)\n",
    "pandas.DataFrame(FAPAR_coef)"
   ]
  },
  {
   "cell_type": "code",
   "execution_count": null,
   "metadata": {},
   "outputs": [],
   "source": [
    "FCOVER_coef = EE_LARS_Regression('users/ccrs2fy2020/transformedFeatures', \n",
    "                                 [ 'B3', 'B4', 'B5', 'B6', 'B7', 'B8A', 'B11', 'B12',\n",
    "                                'NDVI', 'GNDVI', 'NDVI3', 'NDWI', 'NDREVI', 'MSR', 'EVI', 'EVI2', 'RDVI', \n",
    "                                'RVI1', 'RVI2', 'RVI3', 'RVI4', 'DVI1', 'DVI2', 'DVI3', 'DVI4',\n",
    "                                'MSAVI', 'MSAVI2', 'MCARI', 'MCARI2', 'MTVI', 'MTVI2', 'RENDVI',\n",
    "                                'TCARI', 'TVI', 'GVI', 'GVI2', 'GVI3', 'MGVI', 'YVI', 'SBI', 'ASBI',\n",
    "                                'MNSI', 'MSBI', 'MYVI', 'AGVI', 'ARI', 'ARI2', 'AVI', 'DI1', 'GDVI',\n",
    "                                'DVI', 'N', 'GEMI', 'GM1', 'GM2', 'GRABS', 'GRABS2', 'GRVI', 'GI', 'GVSP',\n",
    "                                'HI', 'II', 'IPVI', 'IPVI2', 'MSR2', 'MSI', 'NDGI', 'NDI1', 'NDI2',\n",
    "                                'NDWI2', 'NMDI', 'NLI', 'OSAVI', 'PSRI', 'PSSR', 'RARS', 'RI', 'SBL', 'SGI', \n",
    "                                'SR', 'SR2', 'SR3', 'SR4', 'SR5', 'SR6', 'SR7', 'TDVI'  ],\n",
    "                                 'FCOVER', \n",
    "                                 50000, \n",
    "                                 10)\n",
    "pandas.DataFrame(FCOVER_coef)"
   ]
  },
  {
   "cell_type": "code",
   "execution_count": null,
   "metadata": {},
   "outputs": [],
   "source": [
    "LAI_coef = pandas.DataFrame(LAI_coef)\n",
    "FAPAR_coef = pandas.DataFrame(FAPAR_coef)\n",
    "FCOVER_coef = pandas.DataFrame(FCOVER_coef)"
   ]
  },
  {
   "cell_type": "code",
   "execution_count": null,
   "metadata": {},
   "outputs": [],
   "source": [
    "LAI_features = numpy.nonzero(LAI_coef[5])[0]\n",
    "FAPAR_features = numpy.nonzero(FAPAR_ceof[5])[0]\n",
    "FCOVER_features = numpy.nonzero(FCOVER_coef[5])[0]\n",
    "\n",
    "LAI_features = outputCSV.columns[LAI_features]\n",
    "FAPAR_features = outputCSV.columns[FAPAR_features]\n",
    "FCOVER_features = outputCSV.columns[FCOVER_features]"
   ]
  },
  {
   "cell_type": "code",
   "execution_count": null,
   "metadata": {},
   "outputs": [],
   "source": [
    "LAI_model = tensorflow.keras.models.Sequential([\n",
    "    tensorflow.keras.layers.Dense(10, activation=tensorflow.nn.sigmoid, \n",
    "                                  input_shape=[len(outputCSV[LAI_features].keys())]),\n",
    "    tensorflow.keras.layers.Dense(10, activation=tensorflow.nn.sigmoid),\n",
    "    tensorflow.keras.layers.Dense(1)\n",
    "])\n",
    "LAI_model.compile(\n",
    "    optimizer=tensorflow.keras.optimizers.Nadam(),\n",
    "    loss='mse',\n",
    "    metrics=['mse', 'mae'])\n",
    "\n",
    "\n",
    "FAPAR_model = tensorflow.keras.models.Sequential([\n",
    "    tensorflow.keras.layers.Dense(10, activation=tensorflow.nn.sigmoid, \n",
    "                                  input_shape=[len(outputCSV[FAPAR_features].keys())]),\n",
    "    tensorflow.keras.layers.Dense(10, activation=tensorflow.nn.sigmoid),\n",
    "    tensorflow.keras.layers.Dense(1)\n",
    "])\n",
    "FAPAR_model.compile(\n",
    "    optimizer=tensorflow.keras.optimizers.Nadam(),\n",
    "    loss='mse',\n",
    "    metrics=['mse', 'mae'])\n",
    "\n",
    "\n",
    "FCOVER_model = tensorflow.keras.models.Sequential([\n",
    "    tensorflow.keras.layers.Dense(10, activation=tensorflow.nn.sigmoid, \n",
    "                                  input_shape=[len(outputCSV[FCOVER_features].keys())]),\n",
    "    tensorflow.keras.layers.Dense(10, activation=tensorflow.nn.sigmoid),\n",
    "    tensorflow.keras.layers.Dense(1)\n",
    "])\n",
    "\n",
    "FCOVER_model.compile(\n",
    "    optimizer=tensorflow.keras.optimizers.Nadam(),\n",
    "    loss='mse',\n",
    "    metrics=['mse', 'mae'])"
   ]
  },
  {
   "cell_type": "code",
   "execution_count": null,
   "metadata": {},
   "outputs": [],
   "source": [
    "LAI_model.fit(x = inputDF[LAI_features], y = LAI, epochs = 100, validation_split = 0.2)\n",
    "FAPAR_model.fit(x = inputDF[FAPAR_features], y = FAPAR, epochs = 20, validation_split = 0.2)\n",
    "FCOVER_model.fit(x = inputDF[FCOVER_features], y = FCOVER, epochs = 20, validation_split = 0.2)"
   ]
  },
  {
   "cell_type": "code",
   "execution_count": null,
   "metadata": {},
   "outputs": [],
   "source": [
    "LAI_predictions = pandas.Series(LAI_model.predict(inputDF[LAI_features]).flatten())\n",
    "FAPAR_predictions = pandas.Series(FAPAR_model.predict(inputDF[FAPAR_features]).flatten())\n",
    "FCOVER_predictions = pandas.Series(FCOVER_model.predict(inputDF[FCOVER_features]).flatten())"
   ]
  },
  {
   "cell_type": "code",
   "execution_count": null,
   "metadata": {},
   "outputs": [],
   "source": [
    "xy_skl_LAI = numpy.vstack([LAI, LAI_predicted])\n",
    "xy_tf_LAI = numpy.vstack([LAI, LAI_predictions])\n",
    "xy_skl_FAPAR = numpy.vstack([FAPAR, FAPAR_predicted])\n",
    "xy_tf_FAPAR = numpy.vstack([FAPAR, FAPAR_predictions])\n",
    "xy_skl_FCOVER = numpy.vstack([FCOVER, FCOVER_predicted])\n",
    "xy_tf_FCOVER = numpy.vstack([FCOVER, FCOVER_predictions])"
   ]
  },
  {
   "cell_type": "code",
   "execution_count": null,
   "metadata": {},
   "outputs": [],
   "source": [
    "z_skl_LAI = scipy.stats.gaussian_kde(xy_skl_LAI)(xy_skl_LAI)\n",
    "z_tf_LAI = scipy.stats.gaussian_kde(xy_tf_LAI)(xy_tf_LAI)\n",
    "z_skl_FAPAR = scipy.stats.gaussian_kde(xy_skl_FAPAR)(xy_skl_FAPAR)\n",
    "z_tf_FAPAR = scipy.stats.gaussian_kde(xy_tf_FAPAR)(xy_tf_FAPAR)\n",
    "z_skl_FCOVER = scipy.stats.gaussian_kde(xy_skl_FCOVER)(xy_skl_FCOVER)\n",
    "z_tf_FCOVER = scipy.stats.gaussian_kde(xy_tf_FCOVER)(xy_tf_FCOVER)"
   ]
  },
  {
   "cell_type": "code",
   "execution_count": null,
   "metadata": {},
   "outputs": [],
   "source": [
    "idx_skl_LAI = z_skl_LAI.argsort()\n",
    "idx_tf_LAI = z_tf_LAI.argsort()\n",
    "idx_skl_FAPAR = z_skl_FAPAR.argsort()\n",
    "idx_tf_FAPAR = z_tf_FAPAR.argsort()\n",
    "idx_skl_FCOVER = z_skl_FCOVER.argsort()\n",
    "idx_tf_FCOVER = z_tf_FCOVER.argsort()"
   ]
  },
  {
   "cell_type": "code",
   "execution_count": null,
   "metadata": {},
   "outputs": [],
   "source": [
    "x_skl_LAI = LAI[idx_skl_LAI]\n",
    "x_tf_LAI = LAI[idx_tf_LAI]\n",
    "x_skl_FAPAR = FAPAR[idx_skl_FAPAR]\n",
    "x_tf_FAPAR = FAPAR[idx_tf_FAPAR]\n",
    "x_skl_FCOVER = FCOVER[idx_skl_FCOVER]\n",
    "x_tf_FCOVER = FCOVER[idx_tf_FCOVER]"
   ]
  },
  {
   "cell_type": "code",
   "execution_count": null,
   "metadata": {},
   "outputs": [],
   "source": [
    "y_skl_LAI = LAI_predicted[idx_skl_LAI]\n",
    "y_tf_LAI = LAI_predictions[idx_tf_LAI]\n",
    "y_skl_FAPAR = FAPAR_predicted[idx_skl_FAPAR]\n",
    "y_tf_FAPAR = FAPAR_predictions[idx_tf_FAPAR]\n",
    "y_skl_FCOVER = FCOVER_predicted[idx_skl_FCOVER]\n",
    "y_tf_FCOVER = FCOVER_predictions[idx_tf_FCOVER]"
   ]
  },
  {
   "cell_type": "code",
   "execution_count": null,
   "metadata": {},
   "outputs": [],
   "source": [
    "z_skl_LAI = z_skl_LAI[idx_skl_LAI]\n",
    "z_tf_LAI = z_tf_LAI[idx_tf_LAI]\n",
    "z_skl_FAPAR = z_skl_FAPAR[idx_skl_FAPAR]\n",
    "z_tf_FAPAR = z_tf_FAPAR[idx_tf_FAPAR]\n",
    "z_skl_FCOVER = z_skl_FCOVER[idx_skl_FCOVER]\n",
    "z_tf_FCOVER = z_tf_FCOVER[idx_tf_FCOVER]"
   ]
  },
  {
   "cell_type": "code",
   "execution_count": null,
   "metadata": {},
   "outputs": [],
   "source": [
    "rmse_skl_LAI = sklearn.metrics.mean_squared_error(x_skl_LAI, y_skl_LAI, squared=False)\n",
    "rmse_tf_LAI = sklearn.metrics.mean_squared_error(x_tf_LAI, y_tf_LAI, squared=False)\n",
    "rmse_skl_FAPAR = sklearn.metrics.mean_squared_error(x_skl_FAPAR, y_skl_FAPAR, squared=False)\n",
    "rmse_tf_FAPAR = sklearn.metrics.mean_squared_error(x_tf_FAPAR, y_tf_FAPAR, squared=False)\n",
    "rmse_skl_FCOVER = sklearn.metrics.mean_squared_error(x_skl_FCOVER, y_skl_FCOVER, squared=False)\n",
    "rmse_tf_FCOVER = sklearn.metrics.mean_squared_error(x_tf_FCOVER, y_tf_FCOVER, squared=False)"
   ]
  },
  {
   "cell_type": "code",
   "execution_count": null,
   "metadata": {},
   "outputs": [],
   "source": [
    "a_skl_LAI = numpy.linspace(0, 6, 1000)\n",
    "a_tf_LAI = numpy.linspace(0, 10, 1000)\n",
    "a_skl_FAPAR = numpy.linspace(0, 1, 1000)\n",
    "a_tf_FAPAR = numpy.linspace(0, 1, 1000)\n",
    "a_skl_FCOVER = numpy.linspace(0, 1, 1000)\n",
    "a_tf_FCOVER = numpy.linspace(0, 1, 1000)"
   ]
  },
  {
   "cell_type": "code",
   "execution_count": null,
   "metadata": {},
   "outputs": [],
   "source": [
    "fig, ax = plt.subplots(2, 3, figsize=(25,15))\n",
    "\n",
    "\n",
    "ax[0,0].scatter(x_skl_LAI, y_skl_LAI, c=z_skl_LAI)\n",
    "ax[0,0].plot(a_skl_LAI, a_skl_LAI, c='r')\n",
    "ax[0,0].set_title('LASSO LARS LAI - RMSE: {}'.format(rmse_skl_LAI))\n",
    "\n",
    "\n",
    "ax[1,0].scatter(x_tf_LAI, y_tf_LAI, c=z_tf_LAI)\n",
    "ax[1,0].plot(a_tf_LAI, a_tf_LAI, c='r')\n",
    "ax[1,0].set_title('LASSO LARS FAPAR - RMSE: {}'.format(rmse_tf_LAI))\n",
    "\n",
    "\n",
    "ax[0,1].scatter(x_skl_FAPAR, y_skl_FAPAR, c=z_skl_FAPAR)\n",
    "ax[0,1].plot(a_skl_FAPAR, a_skl_FAPAR, c='r')\n",
    "ax[0,1].set_title('LASSO LARS FCOVER - RMSE: {}'.format(rmse_skl_FAPAR))\n",
    "\n",
    "\n",
    "ax[1,1].scatter(x_tf_FAPAR, y_tf_FAPAR, c=z_tf_FAPAR)\n",
    "ax[1,1].plot(a_tf_FAPAR, a_tf_FAPAR, c='r')\n",
    "ax[1,1].set_title('NNet LAI - RMSE: {}'.format(rmse_tf_FAPAR))\n",
    "\n",
    "\n",
    "ax[0,2].scatter(x_skl_FCOVER, y_skl_FCOVER, c=z_skl_FCOVER)\n",
    "ax[0,2].plot(a_skl_FCOVER, a_skl_FCOVER, c='r')\n",
    "ax[0,2].set_title('NNet FAPAR - RMSE: {}'.format(rmse_skl_FCOVER))\n",
    "\n",
    "\n",
    "ax[1,2].scatter(x_tf_FCOVER, y_tf_FCOVER, c=z_tf_FCOVER)\n",
    "ax[1,2].plot(a_tf_FCOVER, a_tf_FCOVER, c='r')\n",
    "ax[1,2].set_title('NNet FCOVER - RMSE: {}'.format(rmse_tf_FCOVER))"
   ]
  },
  {
   "cell_type": "code",
   "execution_count": null,
   "metadata": {},
   "outputs": [],
   "source": []
  }
 ],
 "metadata": {
  "colab": {
   "name": "LAI_FAPAR_FCOVER_Prediction.ipynb",
   "provenance": []
  },
  "kernelspec": {
   "display_name": "Python 3",
   "language": "python",
   "name": "python3"
  },
  "language_info": {
   "codemirror_mode": {
    "name": "ipython",
    "version": 3
   },
   "file_extension": ".py",
   "mimetype": "text/x-python",
   "name": "python",
   "nbconvert_exporter": "python",
   "pygments_lexer": "ipython3",
   "version": "3.6.10-final"
  },
  "pycharm": {
   "stem_cell": {
    "cell_type": "raw",
    "source": [],
    "metadata": {
     "collapsed": false
    }
   }
  }
 },
 "nbformat": 4,
 "nbformat_minor": 4
}