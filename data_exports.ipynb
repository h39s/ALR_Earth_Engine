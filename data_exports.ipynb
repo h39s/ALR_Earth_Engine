{
 "cells": [
  {
   "cell_type": "markdown",
   "execution_count": 11,
   "metadata": {},
   "outputs": [
    {
     "ename": "NameError",
     "evalue": "name 'd' is not defined",
     "output_type": "error",
     "traceback": [
      "\u001b[0;31m---------------------------------------------------------------------------\u001b[0m",
      "\u001b[0;31mNameError\u001b[0m                                 Traceback (most recent call last)",
      "\u001b[0;32m<ipython-input-11-e983f374794d>\u001b[0m in \u001b[0;36m<module>\u001b[0;34m\u001b[0m\n\u001b[0;32m----> 1\u001b[0;31m \u001b[0md\u001b[0m\u001b[0;34m\u001b[0m\u001b[0;34m\u001b[0m\u001b[0m\n\u001b[0m",
      "\u001b[0;31mNameError\u001b[0m: name 'd' is not defined"
     ]
    }
   ],
   "source": [
    "The following script was written to export Band data from a LANDSAT8 image taken over BC, Canada.\n",
    "\n",
    "The data will be used to train a machine learning model to predict Band 4 from LANDSAT8 using the measurements from the other bands in other scripts:\n",
    "\n",
    "`landsat8_B4_skl_prediction.ipynb`\n",
    "\n",
    "`landsat8_B4_skl_keras_prediction.ipynb`\n",
    "\n",
    "A smaller sample region in BC, and another in the Sahara desert will also be exported as testing tasks for the trained models."
   ]
  },
  {
   "cell_type": "code",
   "execution_count": 1,
   "metadata": {},
   "outputs": [],
   "source": [
    "from pprint import pprint       # Function for better formatted printing to console\n",
    "import ee                       # Google Earth Engine\n",
    "import folium                   # Visualization library for GIS data and maps\n",
    "import tensorflow as tf         # Machine learning platform (includes high-level API keras as tf.keras)\n",
    "import json                     # JSON file manipulation library\n",
    "import time      "
   ]
  },
  {
   "cell_type": "code",
   "execution_count": 2,
   "metadata": {},
   "outputs": [
    {
     "name": "stdout",
     "output_type": "stream",
     "text": "2.1.0\n"
    }
   ],
   "source": [
    "print(tf.__version__)"
   ]
  },
  {
   "cell_type": "code",
   "execution_count": 3,
   "metadata": {},
   "outputs": [],
   "source": [
    "ee.Initialize()                 # Necessary to read credentials from credentials.json and authenticate future commands"
   ]
  },
  {
   "cell_type": "code",
   "execution_count": 4,
   "metadata": {},
   "outputs": [
    {
     "data": {
      "text/html": "<div style=\"width:100%;\"><div style=\"position:relative;width:100%;height:0;padding-bottom:60%;\"><iframe src=\"data:text/html;charset=utf-8;base64,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\" style=\"position:absolute;width:100%;height:100%;left:0;top:0;border:none !important;\" allowfullscreen webkitallowfullscreen mozallowfullscreen></iframe></div></div>",
      "text/plain": "<folium.folium.Map at 0x7f48b7cd10b8>"
     },
     "execution_count": 4,
     "metadata": {},
     "output_type": "execute_result"
    }
   ],
   "source": [
    "# Use these bands for prediction.\n",
    "bands = ['B2', 'B3', 'B4', 'B5', 'B6', 'B7']\n",
    "# Use Landsat 8 surface reflectance data. Image collection from Earth Engine libraries\n",
    "l8sr = ee.ImageCollection('LANDSAT/LC08/C01/T1_SR')\n",
    "\n",
    "# Cloud masking function.\n",
    "def maskL8sr(image):\n",
    "  cloudShadowBitMask = ee.Number(2).pow(3).int()\n",
    "  cloudsBitMask = ee.Number(2).pow(5).int()\n",
    "  qa = image.select('pixel_qa')\n",
    "  mask = qa.bitwiseAnd(cloudShadowBitMask).eq(0).And(\n",
    "    qa.bitwiseAnd(cloudsBitMask).eq(0))\n",
    "  return image.updateMask(mask).select(bands).divide(10000)\n",
    "\n",
    "# The image input data is a 2018 cloud-masked median composite.\n",
    "image = l8sr.filterDate('2018-01-01', '2018-12-31').map(maskL8sr).median()\n",
    "\n",
    "# Use folium to visualize the imagery.\n",
    "mapIdDict = image.getMapId({'bands': ['B4', 'B3', 'B2'], 'min': 0, 'max': 0.3})\n",
    "map = folium.Map(location=[45.4, -75.7])\n",
    "folium.TileLayer(\n",
    "    tiles=mapIdDict['tile_fetcher'].url_format,\n",
    "    attr='Map Data &copy; <a href=\"https://earthengine.google.com/\">Google Earth Engine</a>',\n",
    "    overlay=True,\n",
    "    name='median composite',\n",
    "  ).add_to(map)\n",
    "map.add_child(folium.LayerControl())\n",
    "map"
   ]
  },
  {
   "cell_type": "code",
   "execution_count": 6,
   "metadata": {},
   "outputs": [],
   "source": [
    "# Sample the image at the points and add a random column.\n",
    "sampleRegion = ee.Geometry.Rectangle([-139, 48.5, -114, 60])            # Rectangular region in BC\n",
    "sample = image.sample(region=sampleRegion, scale=10000).randomColumn()  # Sample band data from the sample region at a scale of 10000m (larger pixel scale)\n",
    "\n",
    "# Partition the sample approximately 70-30.\n",
    "training = sample.filter(ee.Filter.lt('random', 0.7))\n",
    "testing = sample.filter(ee.Filter.gte('random', 0.7))\n",
    "\n",
    "# This is list of all the properties we want to export.\n",
    "featureNames = list(bands)"
   ]
  },
  {
   "cell_type": "code",
   "execution_count": 9,
   "metadata": {},
   "outputs": [],
   "source": [
    "# Create the export tasks. Exporting the testing data as both a TFRecord and CSV to a google drive folder.\n",
    "\n",
    "testingTaskCSV = ee.batch.Export.table.toDrive(\n",
    "  collection=testing,\n",
    "  description='Testing Export',\n",
    "  folder='TFData',\n",
    "  fileFormat='csv',\n",
    "  selectors=featureNames)\n",
    "\n",
    "testingTaskTFRecord = ee.batch.Export.table.toDrive(\n",
    "  collection=testing,\n",
    "  description='Testing Export',\n",
    "  folder='TFData',\n",
    "  fileFormat='TFRecord',\n",
    "  selectors=featureNames)"
   ]
  },
  {
   "cell_type": "code",
   "execution_count": null,
   "metadata": {
    "colab": {},
    "colab_type": "code",
    "id": "Xar8Ope9Clew"
   },
   "outputs": [],
   "source": [
    "# Start both testing data batch export tasks in Earth Engine\n",
    "testingTaskCSV.start()\n",
    "testingTaskTFRecord.start()"
   ]
  },
  {
   "cell_type": "code",
   "execution_count": null,
   "metadata": {
    "colab": {},
    "colab_type": "code",
    "id": "sBaKHnaiCxVC"
   },
   "outputs": [],
   "source": [
    "# Wait loop for both tasks to complete. Polling for each tasks status until the TFRecord tasks is no longer active\n",
    "while testingTaskTFRecord.active():\n",
    "    print(ee.data.getTaskStatus(testingTaskCSV.id))\n",
    "    print(ee.data.getTaskStatus(testingTaskTFRecord.id))\n",
    "    time.sleep(5)\n",
    "print('Done with testing export.')"
   ]
  },
  {
   "cell_type": "code",
   "execution_count": null,
   "metadata": {
    "colab": {
     "base_uri": "https://localhost:8080/",
     "height": 54
    },
    "colab_type": "code",
    "id": "mmbaxI5cqeCZ",
    "outputId": "6cf08539-4b40-4394-f1dc-3fde52195856"
   },
   "outputs": [],
   "source": [
    "# Print the list of all tasks in Earth Engine to verify that the export tasks completed successfully\n",
    "print(ee.batch.Task.list())"
   ]
  },
  {
   "cell_type": "code",
   "execution_count": 10,
   "metadata": {},
   "outputs": [],
   "source": [
    "# Create the export tasks. Exporting the training data as both a TFRecord and CSV to a google drive folder.\n",
    "\n",
    "trainingTaskCSV = ee.batch.Export.table.toDrive(\n",
    "  collection=training,\n",
    "  description='Training Export',\n",
    "  folder='TFData',\n",
    "  fileFormat='csv',\n",
    "  selectors=featureNames)\n",
    "\n",
    "trainingTaskTFRecord = ee.batch.Export.table.toDrive(\n",
    "  collection=training,\n",
    "  description='Training Export',\n",
    "  folder='TFData',\n",
    "  fileFormat='TFRecord',\n",
    "  selectors=featureNames)"
   ]
  },
  {
   "cell_type": "code",
   "execution_count": null,
   "metadata": {
    "colab": {},
    "colab_type": "code",
    "id": "jOSZDszACorw"
   },
   "outputs": [],
   "source": [
    "# Start both training data batch export tasks in Earth Engine\n",
    "trainingTaskCSV.start()\n",
    "trainingTaskTFRecord.start()"
   ]
  },
  {
   "cell_type": "code",
   "execution_count": null,
   "metadata": {
    "colab": {
     "base_uri": "https://localhost:8080/",
     "height": 88
    },
    "colab_type": "code",
    "id": "3MP7IGSPC5qf",
    "outputId": "145e6a95-3a9c-4310-bbec-402328dcfc38"
   },
   "outputs": [],
   "source": [
    "# Wait loop for both tasks to complete. Polling for each tasks status until the TFRecord task is no longer active\n",
    "while trainingTaskTFRecord.active():\n",
    "  print(ee.data.getTaskStatus(trainingTaskCSV.id))\n",
    "  print(ee.data.getTaskStatus(trainingTaskTFRecord.id))\n",
    "  time.sleep(5)\n",
    "print('Done with training export.')"
   ]
  },
  {
   "cell_type": "code",
   "execution_count": null,
   "metadata": {
    "colab": {
     "base_uri": "https://localhost:8080/",
     "height": 54
    },
    "colab_type": "code",
    "id": "i3KjMyeYvcab",
    "outputId": "232fe8b6-6227-45b9-c810-d2140bbe7b51"
   },
   "outputs": [],
   "source": [
    "# Print the list of all tasks in Earth Engine to verify that the export tasks completed successfully\n",
    "print(ee.batch.Task.list())"
   ]
  },
  {
   "cell_type": "code",
   "execution_count": 11,
   "metadata": {
    "colab": {},
    "colab_type": "code",
    "id": "uzTuxVLocv-H"
   },
   "outputs": [],
   "source": [
    "# Creating two export regions, one in BC and one in the Sahara to try to predict on using a machine learning model in another script\n",
    "exportRegionBC = ee.Geometry.Rectangle([-122, 58, -121, 59])\n",
    "exportRegionSahara = ee.Geometry.Rectangle([13, 24, 14, 25])\n",
    "\n",
    "# Sampling the bands in the region at a scale of 100m, which is relatively dense sampling\n",
    "exportBC = image.sample(region=exportRegionBC, scale=100)\n",
    "exportSahara = image.sample(region=exportRegionSahara, scale=100)\n",
    "\n",
    "# Setup the export tasks. Exporting both as CSVs to the same Google Drive folder as training and testing data was exported to earlier\n",
    "BCimageTaskCSV = ee.batch.Export.table.toDrive(\n",
    "  collection=exportBC,\n",
    "  description='BC Image Export',\n",
    "  folder='TFData',\n",
    "  fileFormat='csv',\n",
    "  selectors=featureNames\n",
    ")\n",
    "\n",
    "SaharaImageTaskCSV = ee.batch.Export.table.toDrive(\n",
    "  collection=exportSahara,\n",
    "  description='Sahara Image Export',\n",
    "  folder='TFData',\n",
    "  fileFormat='csv',\n",
    "  selectors=featureNames,\n",
    ")"
   ]
  },
  {
   "cell_type": "code",
   "execution_count": 12,
   "metadata": {
    "colab": {},
    "colab_type": "code",
    "id": "Hqkp9yasdVsP"
   },
   "outputs": [],
   "source": [
    "# Start the export tasks in Earth Engine.\n",
    "BCimageTaskCSV.start()\n",
    "SaharaImageTaskCSV.start()"
   ]
  },
  {
   "cell_type": "code",
   "execution_count": null,
   "metadata": {
    "colab": {},
    "colab_type": "code",
    "id": "6nx4xLHUdZjK"
   },
   "outputs": [],
   "source": [
    "# Wait loop for both tasks to complete. Polling for each tasks status until the Sahara image export task is no longer active.\n",
    "while SaharaImageTaskTFRecord.active():\n",
    "  print(ee.data.getTaskStatus(BCimageTaskTFRecord.id))\n",
    "  print(ee.data.getTaskStatus(SaharaImageTaskTFRecord.id))\n",
    "  time.sleep(5)\n",
    "print('Done with image export.')"
   ]
  },
  {
   "cell_type": "code",
   "execution_count": 7,
   "metadata": {
    "colab": {
     "base_uri": "https://localhost:8080/",
     "height": 54
    },
    "colab_type": "code",
    "id": "GruZduf2t1fr",
    "outputId": "0942a811-ee3c-4f5a-c13b-80b6d3f31a6c"
   },
   "outputs": [
    {
     "name": "stdout",
     "output_type": "stream",
     "text": [
      "[<Task EXPORT_FEATURES: Sahara Image Export (COMPLETED)>, <Task EXPORT_FEATURES: BC Image Export (COMPLETED)>, <Task EXPORT_IMAGE: Sahara Image Export (FAILED)>, <Task EXPORT_IMAGE: BC Image Export (COMPLETED)>, <Task EXPORT_IMAGE: Image Export (FAILED)>, <Task EXPORT_IMAGE: Image Export (CANCELLED)>, <Task EXPORT_IMAGE: Image Export (FAILED)>, <Task EXPORT_IMAGE: Image Export (CANCELLED)>, <Task EXPORT_IMAGE: Image Export (FAILED)>, <Task EXPORT_IMAGE: Image Export (COMPLETED)>, <Task EXPORT_FEATURES: Training Export (COMPLETED)>, <Task EXPORT_FEATURES: Training Export (COMPLETED)>, <Task EXPORT_FEATURES: Testing Export (COMPLETED)>, <Task EXPORT_FEATURES: Testing Export (COMPLETED)>, <Task EXPORT_FEATURES: Training Export (COMPLETED)>, <Task EXPORT_FEATURES: Testing Export (COMPLETED)>, <Task EXPORT_FEATURES: Testing Export (FAILED)>, <Task EXPORT_IMAGE: Image Export (COMPLETED)>, <Task EXPORT_FEATURES: Testing Export (FAILED)>, <Task EXPORT_FEATURES: Testing Export (FAILED)>, <Task EXPORT_FEATURES: Testing Export (FAILED)>, <Task EXPORT_FEATURES: Testing Export (FAILED)>, <Task EXPORT_FEATURES: Testing Export (FAILED)>, <Task EXPORT_FEATURES: Testing Export (FAILED)>, <Task EXPORT_FEATURES: Testing Export (FAILED)>, <Task EXPORT_FEATURES: Testing Export (FAILED)>, <Task EXPORT_FEATURES: Training Export (FAILED)>, <Task EXPORT_FEATURES: Testing Export (COMPLETED)>, <Task EXPORT_FEATURES: Training Export (COMPLETED)>, <Task EXPORT_FEATURES: Testing Export (COMPLETED)>, <Task EXPORT_FEATURES: Training Export (COMPLETED)>, <Task EXPORT_IMAGE: Image Export (COMPLETED)>, <Task EXPORT_IMAGE: myExportImageTask (FAILED)>, <Task EXPORT_IMAGE: myExportImageTask (FAILED)>, <Task EXPORT_FEATURES: Testing Export (FAILED)>, <Task EXPORT_FEATURES: Training Export (FAILED)>, <Task EXPORT_FEATURES: Testing Export (FAILED)>, <Task EXPORT_FEATURES: Training Export (FAILED)>, <Task EXPORT_FEATURES: Testing Export (FAILED)>, <Task EXPORT_FEATURES: Training Export (FAILED)>, <Task EXPORT_FEATURES: Testing Export (FAILED)>, <Task EXPORT_FEATURES: Training Export (FAILED)>]\n"
     ]
    }
   ],
   "source": [
    "# Print the list of all tasks in Earth Engine to verify that the export tasks completed successfully\n",
    "print(ee.batch.Task.list())"
   ]
  }
 ],
 "metadata": {
  "colab": {
   "name": "Landsat 8 'B4' Prediction Task.ipynb",
   "provenance": [],
   "toc_visible": true
  },
  "kernelspec": {
   "display_name": "Python 3",
   "language": "python",
   "name": "python3"
  },
  "language_info": {
   "codemirror_mode": {
    "name": "ipython",
    "version": 3
   },
   "file_extension": ".py",
   "mimetype": "text/x-python",
   "name": "python",
   "nbconvert_exporter": "python",
   "pygments_lexer": "ipython3",
   "version": "3.6.10"
  }
 },
 "nbformat": 4,
 "nbformat_minor": 4
}