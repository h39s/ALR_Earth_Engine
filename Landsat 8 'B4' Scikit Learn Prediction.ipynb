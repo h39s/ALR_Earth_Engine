{
 "cells": [
  {
   "cell_type": "code",
   "execution_count": 1,
   "metadata": {
    "colab": {
     "base_uri": "https://localhost:8080/",
     "height": 63
    },
    "colab_type": "code",
    "id": "m3LauEQxmkYd",
    "outputId": "bad0a1c9-2d48-44c2-e03e-ed3af5654bc6"
   },
   "outputs": [],
   "source": [
    "from pprint import pprint\n",
    "import time\n",
    "import ee\n",
    "import folium\n",
    "import csv\n",
    "import sys\n",
    "import tensorflow as tf\n",
    "from tensorflow import keras\n",
    "import json\n",
    "import numpy as np\n",
    "import matplotlib.pyplot as plt\n",
    "from pandas import DataFrame\n",
    "from sklearn import linear_model"
   ]
  },
  {
   "cell_type": "code",
   "execution_count": 2,
   "metadata": {
    "colab": {
     "base_uri": "https://localhost:8080/",
     "height": 34
    },
    "colab_type": "code",
    "id": "BQJFPBtmq1tf",
    "outputId": "b5be211f-5096-483d-8942-5edcc251c0f4"
   },
   "outputs": [
    {
     "name": "stdout",
     "output_type": "stream",
     "text": [
      "2.1.0\n",
      "3.6.10 |Anaconda, Inc.| (default, Jan  7 2020, 21:14:29) \n",
      "[GCC 7.3.0]\n"
     ]
    }
   ],
   "source": [
    "print(tf.__version__)\n",
    "print(sys.version)"
   ]
  },
  {
   "cell_type": "code",
   "execution_count": null,
   "metadata": {
    "colab": {
     "base_uri": "https://localhost:8080/",
     "height": 173
    },
    "colab_type": "code",
    "id": "ywXa69anaVEo",
    "outputId": "75542801-f340-4013-bbf1-fa3c24d1e2e7"
   },
   "outputs": [],
   "source": [
    "ee.Authenticate()"
   ]
  },
  {
   "cell_type": "code",
   "execution_count": 3,
   "metadata": {
    "colab": {},
    "colab_type": "code",
    "id": "ywUUxW3Rmear"
   },
   "outputs": [],
   "source": [
    "ee.Initialize()"
   ]
  },
  {
   "cell_type": "code",
   "execution_count": 4,
   "metadata": {
    "colab": {
     "base_uri": "https://localhost:8080/",
     "height": 637
    },
    "colab_type": "code",
    "id": "cQ9Z1Ecsmh1-",
    "outputId": "778b0ac0-f503-44d2-e8e6-620f13b6136b"
   },
   "outputs": [
    {
     "data": {
      "text/html": [
       "<div style=\"width:100%;\"><div style=\"position:relative;width:100%;height:0;padding-bottom:60%;\"><iframe src=\"data:text/html;charset=utf-8;base64,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\" style=\"position:absolute;width:100%;height:100%;left:0;top:0;border:none !important;\" allowfullscreen webkitallowfullscreen mozallowfullscreen></iframe></div></div>"
      ],
      "text/plain": [
       "<folium.folium.Map at 0x7f2b95976eb8>"
      ]
     },
     "execution_count": 4,
     "metadata": {},
     "output_type": "execute_result"
    }
   ],
   "source": [
    "# Use these bands for prediction.\n",
    "bands = ['B2', 'B3', 'B4', 'B5', 'B6', 'B7']\n",
    "# Use Landsat 8 surface reflectance data.\n",
    "l8sr = ee.ImageCollection('LANDSAT/LC08/C01/T1_SR')\n",
    "\n",
    "# Cloud masking function.\n",
    "def maskL8sr(image):\n",
    "  cloudShadowBitMask = ee.Number(2).pow(3).int()\n",
    "  cloudsBitMask = ee.Number(2).pow(5).int()\n",
    "  qa = image.select('pixel_qa')\n",
    "  mask = qa.bitwiseAnd(cloudShadowBitMask).eq(0).And(\n",
    "    qa.bitwiseAnd(cloudsBitMask).eq(0))\n",
    "  return image.updateMask(mask).select(bands).divide(10000)\n",
    "\n",
    "# The image input data is a 2018 cloud-masked median composite.\n",
    "image = l8sr.filterDate('2018-01-01', '2018-12-31').map(maskL8sr).median()\n",
    "\n",
    "# Use folium to visualize the imagery.\n",
    "mapIdDict = image.getMapId({'bands': ['B4', 'B3', 'B2'], 'min': 0, 'max': 0.3})\n",
    "map = folium.Map(location=[45.4, -75.7])\n",
    "folium.TileLayer(\n",
    "    tiles=mapIdDict['tile_fetcher'].url_format,\n",
    "    attr='Map Data &copy; <a href=\"https://earthengine.google.com/\">Google Earth Engine</a>',\n",
    "    overlay=True,\n",
    "    name='median composite',\n",
    "  ).add_to(map)\n",
    "map.add_child(folium.LayerControl())\n",
    "map"
   ]
  },
  {
   "cell_type": "code",
   "execution_count": 5,
   "metadata": {},
   "outputs": [
    {
     "name": "stdout",
     "output_type": "stream",
     "text": [
      "Found training file.\n",
      "Found testing file.\n"
     ]
    }
   ],
   "source": [
    "trainFileCSV = '../TFData/Training Export.csv'\n",
    "testFileCSV = '../TFData/Testing Export.csv'\n",
    "\n",
    "print('Found training file.' if tf.io.gfile.exists(trainFileCSV) \n",
    "    else 'No training file found.')\n",
    "print('Found testing file.' if tf.io.gfile.exists(testFileCSV) \n",
    "    else 'No testing file found.')"
   ]
  },
  {
   "cell_type": "code",
   "execution_count": 9,
   "metadata": {},
   "outputs": [
    {
     "data": {
      "text/html": [
       "<div>\n",
       "<style scoped>\n",
       "    .dataframe tbody tr th:only-of-type {\n",
       "        vertical-align: middle;\n",
       "    }\n",
       "\n",
       "    .dataframe tbody tr th {\n",
       "        vertical-align: top;\n",
       "    }\n",
       "\n",
       "    .dataframe thead th {\n",
       "        text-align: right;\n",
       "    }\n",
       "</style>\n",
       "<table border=\"1\" class=\"dataframe\">\n",
       "  <thead>\n",
       "    <tr style=\"text-align: right;\">\n",
       "      <th></th>\n",
       "      <th>B3</th>\n",
       "      <th>B5</th>\n",
       "      <th>B6</th>\n",
       "      <th>B7</th>\n",
       "      <th>B4</th>\n",
       "    </tr>\n",
       "  </thead>\n",
       "  <tbody>\n",
       "    <tr>\n",
       "      <th>0</th>\n",
       "      <td>0.05630</td>\n",
       "      <td>0.19920</td>\n",
       "      <td>0.13325</td>\n",
       "      <td>0.08235</td>\n",
       "      <td>0.05220</td>\n",
       "    </tr>\n",
       "    <tr>\n",
       "      <th>1</th>\n",
       "      <td>0.05790</td>\n",
       "      <td>0.27850</td>\n",
       "      <td>0.15070</td>\n",
       "      <td>0.07750</td>\n",
       "      <td>0.03885</td>\n",
       "    </tr>\n",
       "    <tr>\n",
       "      <th>2</th>\n",
       "      <td>0.04130</td>\n",
       "      <td>0.22070</td>\n",
       "      <td>0.08350</td>\n",
       "      <td>0.04080</td>\n",
       "      <td>0.02430</td>\n",
       "    </tr>\n",
       "    <tr>\n",
       "      <th>3</th>\n",
       "      <td>0.05230</td>\n",
       "      <td>0.24485</td>\n",
       "      <td>0.13105</td>\n",
       "      <td>0.06895</td>\n",
       "      <td>0.03510</td>\n",
       "    </tr>\n",
       "    <tr>\n",
       "      <th>4</th>\n",
       "      <td>0.05910</td>\n",
       "      <td>0.31160</td>\n",
       "      <td>0.13560</td>\n",
       "      <td>0.07590</td>\n",
       "      <td>0.03910</td>\n",
       "    </tr>\n",
       "    <tr>\n",
       "      <th>...</th>\n",
       "      <td>...</td>\n",
       "      <td>...</td>\n",
       "      <td>...</td>\n",
       "      <td>...</td>\n",
       "      <td>...</td>\n",
       "    </tr>\n",
       "    <tr>\n",
       "      <th>21329</th>\n",
       "      <td>0.05570</td>\n",
       "      <td>0.22230</td>\n",
       "      <td>0.07560</td>\n",
       "      <td>0.04870</td>\n",
       "      <td>0.04160</td>\n",
       "    </tr>\n",
       "    <tr>\n",
       "      <th>21330</th>\n",
       "      <td>0.05560</td>\n",
       "      <td>0.20435</td>\n",
       "      <td>0.05960</td>\n",
       "      <td>0.04425</td>\n",
       "      <td>0.03825</td>\n",
       "    </tr>\n",
       "    <tr>\n",
       "      <th>21331</th>\n",
       "      <td>0.06415</td>\n",
       "      <td>0.21725</td>\n",
       "      <td>0.07755</td>\n",
       "      <td>0.04775</td>\n",
       "      <td>0.04945</td>\n",
       "    </tr>\n",
       "    <tr>\n",
       "      <th>21332</th>\n",
       "      <td>0.18335</td>\n",
       "      <td>0.32295</td>\n",
       "      <td>0.09425</td>\n",
       "      <td>0.06630</td>\n",
       "      <td>0.16990</td>\n",
       "    </tr>\n",
       "    <tr>\n",
       "      <th>21333</th>\n",
       "      <td>0.13560</td>\n",
       "      <td>0.24900</td>\n",
       "      <td>0.08020</td>\n",
       "      <td>0.05105</td>\n",
       "      <td>0.11725</td>\n",
       "    </tr>\n",
       "  </tbody>\n",
       "</table>\n",
       "<p>21334 rows × 5 columns</p>\n",
       "</div>"
      ],
      "text/plain": [
       "            B3       B5       B6       B7       B4\n",
       "0      0.05630  0.19920  0.13325  0.08235  0.05220\n",
       "1      0.05790  0.27850  0.15070  0.07750  0.03885\n",
       "2      0.04130  0.22070  0.08350  0.04080  0.02430\n",
       "3      0.05230  0.24485  0.13105  0.06895  0.03510\n",
       "4      0.05910  0.31160  0.13560  0.07590  0.03910\n",
       "...        ...      ...      ...      ...      ...\n",
       "21329  0.05570  0.22230  0.07560  0.04870  0.04160\n",
       "21330  0.05560  0.20435  0.05960  0.04425  0.03825\n",
       "21331  0.06415  0.21725  0.07755  0.04775  0.04945\n",
       "21332  0.18335  0.32295  0.09425  0.06630  0.16990\n",
       "21333  0.13560  0.24900  0.08020  0.05105  0.11725\n",
       "\n",
       "[21334 rows x 5 columns]"
      ]
     },
     "execution_count": 9,
     "metadata": {},
     "output_type": "execute_result"
    }
   ],
   "source": [
    "trainCSV = np.genfromtxt(trainFileCSV, delimiter=',', names=True)\n",
    "\n",
    "trainFrame = DataFrame(trainCSV, columns=['B3', 'B5', 'B6', 'B7', 'B4'])\n",
    "trainFrame"
   ]
  },
  {
   "cell_type": "code",
   "execution_count": 10,
   "metadata": {},
   "outputs": [
    {
     "data": {
      "text/plain": [
       "[<matplotlib.lines.Line2D at 0x7f2b95091c88>]"
      ]
     },
     "execution_count": 10,
     "metadata": {},
     "output_type": "execute_result"
    },
    {
     "data": {
      "image/png": "[encoded data removed]",
      "text/plain": [
       "<Figure size 432x288 with 1 Axes>"
      ]
     },
     "metadata": {
      "needs_background": "light"
     },
     "output_type": "display_data"
    }
   ],
   "source": [
    "plt.plot(trainFrame['B3'], trainFrame['B4'], 'ro')"
   ]
  },
  {
   "cell_type": "code",
   "execution_count": 109,
   "metadata": {},
   "outputs": [
    {
     "name": "stdout",
     "output_type": "stream",
     "text": [
      "0.9911845882505922\n",
      "[0.92859647 0.         0.         0.        ]\n"
     ]
    }
   ],
   "source": [
    "X = trainFrame[['B3', 'B5', 'B6', 'B7']]\n",
    "Y = trainFrame['B4']\n",
    "\n",
    "lars = linear_model.LassoLars(alpha=0.0001)\n",
    "lars.fit(X, Y)\n",
    "print(lars.score(X, Y))\n",
    "print(lars.coef_)"
   ]
  },
  {
   "cell_type": "code",
   "execution_count": 40,
   "metadata": {},
   "outputs": [
    {
     "data": {
      "text/html": [
       "<div>\n",
       "<style scoped>\n",
       "    .dataframe tbody tr th:only-of-type {\n",
       "        vertical-align: middle;\n",
       "    }\n",
       "\n",
       "    .dataframe tbody tr th {\n",
       "        vertical-align: top;\n",
       "    }\n",
       "\n",
       "    .dataframe thead th {\n",
       "        text-align: right;\n",
       "    }\n",
       "</style>\n",
       "<table border=\"1\" class=\"dataframe\">\n",
       "  <thead>\n",
       "    <tr style=\"text-align: right;\">\n",
       "      <th></th>\n",
       "      <th>B3</th>\n",
       "      <th>B5</th>\n",
       "      <th>B6</th>\n",
       "      <th>B7</th>\n",
       "    </tr>\n",
       "  </thead>\n",
       "  <tbody>\n",
       "    <tr>\n",
       "      <th>0</th>\n",
       "      <td>0.02930</td>\n",
       "      <td>0.15870</td>\n",
       "      <td>0.05980</td>\n",
       "      <td>0.02865</td>\n",
       "    </tr>\n",
       "    <tr>\n",
       "      <th>1</th>\n",
       "      <td>0.05800</td>\n",
       "      <td>0.25490</td>\n",
       "      <td>0.14685</td>\n",
       "      <td>0.08475</td>\n",
       "    </tr>\n",
       "    <tr>\n",
       "      <th>2</th>\n",
       "      <td>0.03860</td>\n",
       "      <td>0.22190</td>\n",
       "      <td>0.09080</td>\n",
       "      <td>0.04120</td>\n",
       "    </tr>\n",
       "    <tr>\n",
       "      <th>3</th>\n",
       "      <td>0.04065</td>\n",
       "      <td>0.17350</td>\n",
       "      <td>0.08980</td>\n",
       "      <td>0.04655</td>\n",
       "    </tr>\n",
       "    <tr>\n",
       "      <th>4</th>\n",
       "      <td>0.04940</td>\n",
       "      <td>0.18380</td>\n",
       "      <td>0.10275</td>\n",
       "      <td>0.05945</td>\n",
       "    </tr>\n",
       "    <tr>\n",
       "      <th>...</th>\n",
       "      <td>...</td>\n",
       "      <td>...</td>\n",
       "      <td>...</td>\n",
       "      <td>...</td>\n",
       "    </tr>\n",
       "    <tr>\n",
       "      <th>9061</th>\n",
       "      <td>0.45450</td>\n",
       "      <td>0.46765</td>\n",
       "      <td>0.08490</td>\n",
       "      <td>0.07265</td>\n",
       "    </tr>\n",
       "    <tr>\n",
       "      <th>9062</th>\n",
       "      <td>0.04655</td>\n",
       "      <td>0.17545</td>\n",
       "      <td>0.07310</td>\n",
       "      <td>0.03795</td>\n",
       "    </tr>\n",
       "    <tr>\n",
       "      <th>9063</th>\n",
       "      <td>0.06980</td>\n",
       "      <td>0.21670</td>\n",
       "      <td>0.10840</td>\n",
       "      <td>0.06720</td>\n",
       "    </tr>\n",
       "    <tr>\n",
       "      <th>9064</th>\n",
       "      <td>0.15555</td>\n",
       "      <td>0.26230</td>\n",
       "      <td>0.08210</td>\n",
       "      <td>0.04835</td>\n",
       "    </tr>\n",
       "    <tr>\n",
       "      <th>9065</th>\n",
       "      <td>0.07180</td>\n",
       "      <td>0.23910</td>\n",
       "      <td>0.07590</td>\n",
       "      <td>0.04420</td>\n",
       "    </tr>\n",
       "  </tbody>\n",
       "</table>\n",
       "<p>9066 rows × 4 columns</p>\n",
       "</div>"
      ],
      "text/plain": [
       "           B3       B5       B6       B7\n",
       "0     0.02930  0.15870  0.05980  0.02865\n",
       "1     0.05800  0.25490  0.14685  0.08475\n",
       "2     0.03860  0.22190  0.09080  0.04120\n",
       "3     0.04065  0.17350  0.08980  0.04655\n",
       "4     0.04940  0.18380  0.10275  0.05945\n",
       "...       ...      ...      ...      ...\n",
       "9061  0.45450  0.46765  0.08490  0.07265\n",
       "9062  0.04655  0.17545  0.07310  0.03795\n",
       "9063  0.06980  0.21670  0.10840  0.06720\n",
       "9064  0.15555  0.26230  0.08210  0.04835\n",
       "9065  0.07180  0.23910  0.07590  0.04420\n",
       "\n",
       "[9066 rows x 4 columns]"
      ]
     },
     "execution_count": 40,
     "metadata": {},
     "output_type": "execute_result"
    }
   ],
   "source": [
    "testCSV = np.genfromtxt(testFileCSV, delimiter=',', names = True)\n",
    "\n",
    "testFrame = DataFrame(testCSV, columns=['B3', 'B5', 'B6', 'B7'])\n",
    "testFrame"
   ]
  },
  {
   "cell_type": "code",
   "execution_count": 46,
   "metadata": {},
   "outputs": [
    {
     "data": {
      "text/html": [
       "<div>\n",
       "<style scoped>\n",
       "    .dataframe tbody tr th:only-of-type {\n",
       "        vertical-align: middle;\n",
       "    }\n",
       "\n",
       "    .dataframe tbody tr th {\n",
       "        vertical-align: top;\n",
       "    }\n",
       "\n",
       "    .dataframe thead th {\n",
       "        text-align: right;\n",
       "    }\n",
       "</style>\n",
       "<table border=\"1\" class=\"dataframe\">\n",
       "  <thead>\n",
       "    <tr style=\"text-align: right;\">\n",
       "      <th></th>\n",
       "      <th>B4</th>\n",
       "    </tr>\n",
       "  </thead>\n",
       "  <tbody>\n",
       "    <tr>\n",
       "      <th>0</th>\n",
       "      <td>0.01780</td>\n",
       "    </tr>\n",
       "    <tr>\n",
       "      <th>1</th>\n",
       "      <td>0.04605</td>\n",
       "    </tr>\n",
       "    <tr>\n",
       "      <th>2</th>\n",
       "      <td>0.02260</td>\n",
       "    </tr>\n",
       "    <tr>\n",
       "      <th>3</th>\n",
       "      <td>0.02950</td>\n",
       "    </tr>\n",
       "    <tr>\n",
       "      <th>4</th>\n",
       "      <td>0.03245</td>\n",
       "    </tr>\n",
       "    <tr>\n",
       "      <th>...</th>\n",
       "      <td>...</td>\n",
       "    </tr>\n",
       "    <tr>\n",
       "      <th>9061</th>\n",
       "      <td>0.44185</td>\n",
       "    </tr>\n",
       "    <tr>\n",
       "      <th>9062</th>\n",
       "      <td>0.02655</td>\n",
       "    </tr>\n",
       "    <tr>\n",
       "      <th>9063</th>\n",
       "      <td>0.06420</td>\n",
       "    </tr>\n",
       "    <tr>\n",
       "      <th>9064</th>\n",
       "      <td>0.15595</td>\n",
       "    </tr>\n",
       "    <tr>\n",
       "      <th>9065</th>\n",
       "      <td>0.05275</td>\n",
       "    </tr>\n",
       "  </tbody>\n",
       "</table>\n",
       "<p>9066 rows × 1 columns</p>\n",
       "</div>"
      ],
      "text/plain": [
       "           B4\n",
       "0     0.01780\n",
       "1     0.04605\n",
       "2     0.02260\n",
       "3     0.02950\n",
       "4     0.03245\n",
       "...       ...\n",
       "9061  0.44185\n",
       "9062  0.02655\n",
       "9063  0.06420\n",
       "9064  0.15595\n",
       "9065  0.05275\n",
       "\n",
       "[9066 rows x 1 columns]"
      ]
     },
     "execution_count": 46,
     "metadata": {},
     "output_type": "execute_result"
    }
   ],
   "source": [
    "predictions = lars.predict(testFrame)\n",
    "\n",
    "validationFrame = DataFrame(testCSV, columns=['B4'])\n",
    "r2 = lars.score(testFrame, validationFrame)\n",
    "validationFrame"
   ]
  },
  {
   "cell_type": "code",
   "execution_count": 50,
   "metadata": {},
   "outputs": [
    {
     "name": "stdout",
     "output_type": "stream",
     "text": [
      "0.996478007226406\n",
      "0.01167436982069765\n"
     ]
    }
   ],
   "source": [
    "validationFrame['Predicted'] = predictions\n",
    "RMSE = ((validationFrame.Predicted - validationFrame.B4) ** 2).mean() ** .5\n",
    "\n",
    "print(r2)\n",
    "print(RMSE)"
   ]
  },
  {
   "cell_type": "code",
   "execution_count": 51,
   "metadata": {},
   "outputs": [
    {
     "name": "stdout",
     "output_type": "stream",
     "text": [
      "Found training file.\n",
      "Found testing file.\n"
     ]
    }
   ],
   "source": [
    "BCexport = '../TFData/BC Image Export.csv'\n",
    "SaharaExport = '../TFData/Sahara Image Export.csv'\n",
    "\n",
    "print('Found training file.' if tf.io.gfile.exists(trainFileCSV) \n",
    "    else 'No training file found.')\n",
    "print('Found testing file.' if tf.io.gfile.exists(testFileCSV) \n",
    "    else 'No testing file found.')"
   ]
  },
  {
   "cell_type": "code",
   "execution_count": 53,
   "metadata": {},
   "outputs": [
    {
     "data": {
      "text/html": [
       "<div>\n",
       "<style scoped>\n",
       "    .dataframe tbody tr th:only-of-type {\n",
       "        vertical-align: middle;\n",
       "    }\n",
       "\n",
       "    .dataframe tbody tr th {\n",
       "        vertical-align: top;\n",
       "    }\n",
       "\n",
       "    .dataframe thead th {\n",
       "        text-align: right;\n",
       "    }\n",
       "</style>\n",
       "<table border=\"1\" class=\"dataframe\">\n",
       "  <thead>\n",
       "    <tr style=\"text-align: right;\">\n",
       "      <th></th>\n",
       "      <th>B3</th>\n",
       "      <th>B5</th>\n",
       "      <th>B6</th>\n",
       "      <th>B7</th>\n",
       "    </tr>\n",
       "  </thead>\n",
       "  <tbody>\n",
       "    <tr>\n",
       "      <th>0</th>\n",
       "      <td>0.04100</td>\n",
       "      <td>0.18895</td>\n",
       "      <td>0.05830</td>\n",
       "      <td>0.03805</td>\n",
       "    </tr>\n",
       "    <tr>\n",
       "      <th>1</th>\n",
       "      <td>0.06710</td>\n",
       "      <td>0.20605</td>\n",
       "      <td>0.07260</td>\n",
       "      <td>0.04690</td>\n",
       "    </tr>\n",
       "    <tr>\n",
       "      <th>2</th>\n",
       "      <td>0.05265</td>\n",
       "      <td>0.17895</td>\n",
       "      <td>0.05620</td>\n",
       "      <td>0.03485</td>\n",
       "    </tr>\n",
       "    <tr>\n",
       "      <th>3</th>\n",
       "      <td>0.06755</td>\n",
       "      <td>0.18925</td>\n",
       "      <td>0.05565</td>\n",
       "      <td>0.03770</td>\n",
       "    </tr>\n",
       "    <tr>\n",
       "      <th>4</th>\n",
       "      <td>0.04570</td>\n",
       "      <td>0.22380</td>\n",
       "      <td>0.08320</td>\n",
       "      <td>0.04780</td>\n",
       "    </tr>\n",
       "    <tr>\n",
       "      <th>...</th>\n",
       "      <td>...</td>\n",
       "      <td>...</td>\n",
       "      <td>...</td>\n",
       "      <td>...</td>\n",
       "    </tr>\n",
       "    <tr>\n",
       "      <th>1239036</th>\n",
       "      <td>0.05420</td>\n",
       "      <td>0.21785</td>\n",
       "      <td>0.11640</td>\n",
       "      <td>0.07620</td>\n",
       "    </tr>\n",
       "    <tr>\n",
       "      <th>1239037</th>\n",
       "      <td>0.05420</td>\n",
       "      <td>0.21785</td>\n",
       "      <td>0.11640</td>\n",
       "      <td>0.07620</td>\n",
       "    </tr>\n",
       "    <tr>\n",
       "      <th>1239038</th>\n",
       "      <td>0.08110</td>\n",
       "      <td>0.22755</td>\n",
       "      <td>0.11685</td>\n",
       "      <td>0.07555</td>\n",
       "    </tr>\n",
       "    <tr>\n",
       "      <th>1239039</th>\n",
       "      <td>0.04795</td>\n",
       "      <td>0.19290</td>\n",
       "      <td>0.05970</td>\n",
       "      <td>0.04095</td>\n",
       "    </tr>\n",
       "    <tr>\n",
       "      <th>1239040</th>\n",
       "      <td>0.05180</td>\n",
       "      <td>0.21800</td>\n",
       "      <td>0.06610</td>\n",
       "      <td>0.05420</td>\n",
       "    </tr>\n",
       "  </tbody>\n",
       "</table>\n",
       "<p>1239041 rows × 4 columns</p>\n",
       "</div>"
      ],
      "text/plain": [
       "              B3       B5       B6       B7\n",
       "0        0.04100  0.18895  0.05830  0.03805\n",
       "1        0.06710  0.20605  0.07260  0.04690\n",
       "2        0.05265  0.17895  0.05620  0.03485\n",
       "3        0.06755  0.18925  0.05565  0.03770\n",
       "4        0.04570  0.22380  0.08320  0.04780\n",
       "...          ...      ...      ...      ...\n",
       "1239036  0.05420  0.21785  0.11640  0.07620\n",
       "1239037  0.05420  0.21785  0.11640  0.07620\n",
       "1239038  0.08110  0.22755  0.11685  0.07555\n",
       "1239039  0.04795  0.19290  0.05970  0.04095\n",
       "1239040  0.05180  0.21800  0.06610  0.05420\n",
       "\n",
       "[1239041 rows x 4 columns]"
      ]
     },
     "execution_count": 53,
     "metadata": {},
     "output_type": "execute_result"
    }
   ],
   "source": [
    "BCdata = np.genfromtxt(BCexport, delimiter=',', names = True)\n",
    "\n",
    "BCtest = DataFrame(BCdata, columns=['B3', 'B5', 'B6', 'B7'])\n",
    "BCtest"
   ]
  },
  {
   "cell_type": "code",
   "execution_count": 54,
   "metadata": {},
   "outputs": [
    {
     "data": {
      "text/html": [
       "<div>\n",
       "<style scoped>\n",
       "    .dataframe tbody tr th:only-of-type {\n",
       "        vertical-align: middle;\n",
       "    }\n",
       "\n",
       "    .dataframe tbody tr th {\n",
       "        vertical-align: top;\n",
       "    }\n",
       "\n",
       "    .dataframe thead th {\n",
       "        text-align: right;\n",
       "    }\n",
       "</style>\n",
       "<table border=\"1\" class=\"dataframe\">\n",
       "  <thead>\n",
       "    <tr style=\"text-align: right;\">\n",
       "      <th></th>\n",
       "      <th>B4</th>\n",
       "    </tr>\n",
       "  </thead>\n",
       "  <tbody>\n",
       "    <tr>\n",
       "      <th>0</th>\n",
       "      <td>0.04220</td>\n",
       "    </tr>\n",
       "    <tr>\n",
       "      <th>1</th>\n",
       "      <td>0.07160</td>\n",
       "    </tr>\n",
       "    <tr>\n",
       "      <th>2</th>\n",
       "      <td>0.04415</td>\n",
       "    </tr>\n",
       "    <tr>\n",
       "      <th>3</th>\n",
       "      <td>0.05825</td>\n",
       "    </tr>\n",
       "    <tr>\n",
       "      <th>4</th>\n",
       "      <td>0.04350</td>\n",
       "    </tr>\n",
       "    <tr>\n",
       "      <th>...</th>\n",
       "      <td>...</td>\n",
       "    </tr>\n",
       "    <tr>\n",
       "      <th>1239036</th>\n",
       "      <td>0.07220</td>\n",
       "    </tr>\n",
       "    <tr>\n",
       "      <th>1239037</th>\n",
       "      <td>0.07220</td>\n",
       "    </tr>\n",
       "    <tr>\n",
       "      <th>1239038</th>\n",
       "      <td>0.09805</td>\n",
       "    </tr>\n",
       "    <tr>\n",
       "      <th>1239039</th>\n",
       "      <td>0.04560</td>\n",
       "    </tr>\n",
       "    <tr>\n",
       "      <th>1239040</th>\n",
       "      <td>0.04780</td>\n",
       "    </tr>\n",
       "  </tbody>\n",
       "</table>\n",
       "<p>1239041 rows × 1 columns</p>\n",
       "</div>"
      ],
      "text/plain": [
       "              B4\n",
       "0        0.04220\n",
       "1        0.07160\n",
       "2        0.04415\n",
       "3        0.05825\n",
       "4        0.04350\n",
       "...          ...\n",
       "1239036  0.07220\n",
       "1239037  0.07220\n",
       "1239038  0.09805\n",
       "1239039  0.04560\n",
       "1239040  0.04780\n",
       "\n",
       "[1239041 rows x 1 columns]"
      ]
     },
     "execution_count": 54,
     "metadata": {},
     "output_type": "execute_result"
    }
   ],
   "source": [
    "BCpredictions = lars.predict(BCtest)\n",
    "\n",
    "BCvalidations = DataFrame(BCdata, columns=['B4'])\n",
    "BC_r2 = lars.score(BCtest, BCvalidations)\n",
    "BCvalidations"
   ]
  },
  {
   "cell_type": "code",
   "execution_count": 55,
   "metadata": {},
   "outputs": [
    {
     "name": "stdout",
     "output_type": "stream",
     "text": [
      "0.9831095041964283\n",
      "0.011124098430193356\n"
     ]
    }
   ],
   "source": [
    "BCvalidations['Predicted'] = BCpredictions\n",
    "BC_RMSE = ((BCvalidations.Predicted - BCvalidations.B4) ** 2).mean() ** .5\n",
    "\n",
    "print(BC_r2)\n",
    "print(BC_RMSE)"
   ]
  },
  {
   "cell_type": "code",
   "execution_count": 73,
   "metadata": {},
   "outputs": [
    {
     "name": "stderr",
     "output_type": "stream",
     "text": [
      "/home/hshah/anaconda3/envs/eeAlr/lib/python3.6/site-packages/ipykernel_launcher.py:2: MatplotlibDeprecationWarning: Adding an axes using the same arguments as a previous axes currently reuses the earlier instance.  In a future version, a new instance will always be created and returned.  Meanwhile, this warning can be suppressed, and the future behavior ensured, by passing a unique label to each axes instance.\n",
      "  \n"
     ]
    },
    {
     "data": {
      "image/png": "[encoded data removed]",
      "text/plain": [
       "<Figure size 432x288 with 1 Axes>"
      ]
     },
     "metadata": {
      "needs_background": "light"
     },
     "output_type": "display_data"
    }
   ],
   "source": [
    "plt.plot(BCvalidations['B4'], BCvalidations['Predicted'], 'ro')\n",
    "ax = plt.axes()\n",
    "x = np.linspace(0, 1, 1000)\n",
    "ax.plot(x, x)\n",
    "plt.show()"
   ]
  },
  {
   "cell_type": "code",
   "execution_count": 57,
   "metadata": {},
   "outputs": [
    {
     "data": {
      "text/html": [
       "<div>\n",
       "<style scoped>\n",
       "    .dataframe tbody tr th:only-of-type {\n",
       "        vertical-align: middle;\n",
       "    }\n",
       "\n",
       "    .dataframe tbody tr th {\n",
       "        vertical-align: top;\n",
       "    }\n",
       "\n",
       "    .dataframe thead th {\n",
       "        text-align: right;\n",
       "    }\n",
       "</style>\n",
       "<table border=\"1\" class=\"dataframe\">\n",
       "  <thead>\n",
       "    <tr style=\"text-align: right;\">\n",
       "      <th></th>\n",
       "      <th>B3</th>\n",
       "      <th>B5</th>\n",
       "      <th>B6</th>\n",
       "      <th>B7</th>\n",
       "    </tr>\n",
       "  </thead>\n",
       "  <tbody>\n",
       "    <tr>\n",
       "      <th>0</th>\n",
       "      <td>0.30815</td>\n",
       "      <td>0.60645</td>\n",
       "      <td>0.73485</td>\n",
       "      <td>0.65110</td>\n",
       "    </tr>\n",
       "    <tr>\n",
       "      <th>1</th>\n",
       "      <td>0.31225</td>\n",
       "      <td>0.61735</td>\n",
       "      <td>0.75595</td>\n",
       "      <td>0.67270</td>\n",
       "    </tr>\n",
       "    <tr>\n",
       "      <th>2</th>\n",
       "      <td>0.31285</td>\n",
       "      <td>0.61405</td>\n",
       "      <td>0.75040</td>\n",
       "      <td>0.66865</td>\n",
       "    </tr>\n",
       "    <tr>\n",
       "      <th>3</th>\n",
       "      <td>0.31175</td>\n",
       "      <td>0.60985</td>\n",
       "      <td>0.74485</td>\n",
       "      <td>0.65835</td>\n",
       "    </tr>\n",
       "    <tr>\n",
       "      <th>4</th>\n",
       "      <td>0.31085</td>\n",
       "      <td>0.60645</td>\n",
       "      <td>0.74045</td>\n",
       "      <td>0.65450</td>\n",
       "    </tr>\n",
       "    <tr>\n",
       "      <th>...</th>\n",
       "      <td>...</td>\n",
       "      <td>...</td>\n",
       "      <td>...</td>\n",
       "      <td>...</td>\n",
       "    </tr>\n",
       "    <tr>\n",
       "      <th>1239028</th>\n",
       "      <td>0.32260</td>\n",
       "      <td>0.63885</td>\n",
       "      <td>0.78160</td>\n",
       "      <td>0.69070</td>\n",
       "    </tr>\n",
       "    <tr>\n",
       "      <th>1239029</th>\n",
       "      <td>0.31665</td>\n",
       "      <td>0.62295</td>\n",
       "      <td>0.75735</td>\n",
       "      <td>0.67125</td>\n",
       "    </tr>\n",
       "    <tr>\n",
       "      <th>1239030</th>\n",
       "      <td>0.31505</td>\n",
       "      <td>0.62255</td>\n",
       "      <td>0.75515</td>\n",
       "      <td>0.67310</td>\n",
       "    </tr>\n",
       "    <tr>\n",
       "      <th>1239031</th>\n",
       "      <td>0.31500</td>\n",
       "      <td>0.61590</td>\n",
       "      <td>0.75145</td>\n",
       "      <td>0.66805</td>\n",
       "    </tr>\n",
       "    <tr>\n",
       "      <th>1239032</th>\n",
       "      <td>0.30895</td>\n",
       "      <td>0.60450</td>\n",
       "      <td>0.73765</td>\n",
       "      <td>0.65090</td>\n",
       "    </tr>\n",
       "  </tbody>\n",
       "</table>\n",
       "<p>1239033 rows × 4 columns</p>\n",
       "</div>"
      ],
      "text/plain": [
       "              B3       B5       B6       B7\n",
       "0        0.30815  0.60645  0.73485  0.65110\n",
       "1        0.31225  0.61735  0.75595  0.67270\n",
       "2        0.31285  0.61405  0.75040  0.66865\n",
       "3        0.31175  0.60985  0.74485  0.65835\n",
       "4        0.31085  0.60645  0.74045  0.65450\n",
       "...          ...      ...      ...      ...\n",
       "1239028  0.32260  0.63885  0.78160  0.69070\n",
       "1239029  0.31665  0.62295  0.75735  0.67125\n",
       "1239030  0.31505  0.62255  0.75515  0.67310\n",
       "1239031  0.31500  0.61590  0.75145  0.66805\n",
       "1239032  0.30895  0.60450  0.73765  0.65090\n",
       "\n",
       "[1239033 rows x 4 columns]"
      ]
     },
     "execution_count": 57,
     "metadata": {},
     "output_type": "execute_result"
    }
   ],
   "source": [
    "SaharaData = np.genfromtxt(SaharaExport, delimiter=',', names = True)\n",
    "\n",
    "SaharaTest = DataFrame(SaharaData, columns=['B3', 'B5', 'B6', 'B7'])\n",
    "SaharaTest"
   ]
  },
  {
   "cell_type": "code",
   "execution_count": 58,
   "metadata": {},
   "outputs": [
    {
     "data": {
      "text/html": [
       "<div>\n",
       "<style scoped>\n",
       "    .dataframe tbody tr th:only-of-type {\n",
       "        vertical-align: middle;\n",
       "    }\n",
       "\n",
       "    .dataframe tbody tr th {\n",
       "        vertical-align: top;\n",
       "    }\n",
       "\n",
       "    .dataframe thead th {\n",
       "        text-align: right;\n",
       "    }\n",
       "</style>\n",
       "<table border=\"1\" class=\"dataframe\">\n",
       "  <thead>\n",
       "    <tr style=\"text-align: right;\">\n",
       "      <th></th>\n",
       "      <th>B4</th>\n",
       "    </tr>\n",
       "  </thead>\n",
       "  <tbody>\n",
       "    <tr>\n",
       "      <th>0</th>\n",
       "      <td>0.49710</td>\n",
       "    </tr>\n",
       "    <tr>\n",
       "      <th>1</th>\n",
       "      <td>0.50615</td>\n",
       "    </tr>\n",
       "    <tr>\n",
       "      <th>2</th>\n",
       "      <td>0.50415</td>\n",
       "    </tr>\n",
       "    <tr>\n",
       "      <th>3</th>\n",
       "      <td>0.50105</td>\n",
       "    </tr>\n",
       "    <tr>\n",
       "      <th>4</th>\n",
       "      <td>0.49795</td>\n",
       "    </tr>\n",
       "    <tr>\n",
       "      <th>...</th>\n",
       "      <td>...</td>\n",
       "    </tr>\n",
       "    <tr>\n",
       "      <th>1239028</th>\n",
       "      <td>0.52655</td>\n",
       "    </tr>\n",
       "    <tr>\n",
       "      <th>1239029</th>\n",
       "      <td>0.51155</td>\n",
       "    </tr>\n",
       "    <tr>\n",
       "      <th>1239030</th>\n",
       "      <td>0.51055</td>\n",
       "    </tr>\n",
       "    <tr>\n",
       "      <th>1239031</th>\n",
       "      <td>0.50730</td>\n",
       "    </tr>\n",
       "    <tr>\n",
       "      <th>1239032</th>\n",
       "      <td>0.49795</td>\n",
       "    </tr>\n",
       "  </tbody>\n",
       "</table>\n",
       "<p>1239033 rows × 1 columns</p>\n",
       "</div>"
      ],
      "text/plain": [
       "              B4\n",
       "0        0.49710\n",
       "1        0.50615\n",
       "2        0.50415\n",
       "3        0.50105\n",
       "4        0.49795\n",
       "...          ...\n",
       "1239028  0.52655\n",
       "1239029  0.51155\n",
       "1239030  0.51055\n",
       "1239031  0.50730\n",
       "1239032  0.49795\n",
       "\n",
       "[1239033 rows x 1 columns]"
      ]
     },
     "execution_count": 58,
     "metadata": {},
     "output_type": "execute_result"
    }
   ],
   "source": [
    "SaharaPredictions = lars.predict(SaharaTest)\n",
    "\n",
    "SaharaValidations = DataFrame(SaharaData, columns=['B4'])\n",
    "Sahara_r2 = lars.score(SaharaTest, SaharaValidations)\n",
    "SaharaValidations"
   ]
  },
  {
   "cell_type": "code",
   "execution_count": 68,
   "metadata": {},
   "outputs": [
    {
     "name": "stdout",
     "output_type": "stream",
     "text": [
      "-43.66089306540057\n",
      "0.12259647777144031\n"
     ]
    }
   ],
   "source": [
    "SaharaValidations['Predicted'] = SaharaPredictions\n",
    "Sahara_RMSE = ((SaharaValidations.Predicted - SaharaValidations.B4) ** 2).mean() ** .5\n",
    "\n",
    "print(Sahara_r2)\n",
    "print(Sahara_RMSE)"
   ]
  },
  {
   "cell_type": "code",
   "execution_count": 74,
   "metadata": {},
   "outputs": [
    {
     "name": "stderr",
     "output_type": "stream",
     "text": [
      "/home/hshah/anaconda3/envs/eeAlr/lib/python3.6/site-packages/ipykernel_launcher.py:2: MatplotlibDeprecationWarning: Adding an axes using the same arguments as a previous axes currently reuses the earlier instance.  In a future version, a new instance will always be created and returned.  Meanwhile, this warning can be suppressed, and the future behavior ensured, by passing a unique label to each axes instance.\n",
      "  \n"
     ]
    },
    {
     "data": {
      "image/png": "[encoded data removed]",
      "text/plain": [
       "<Figure size 432x288 with 1 Axes>"
      ]
     },
     "metadata": {
      "needs_background": "light"
     },
     "output_type": "display_data"
    }
   ],
   "source": [
    "plt.plot(SaharaValidations['B4'], SaharaValidations['Predicted'], 'ro')\n",
    "axes = plt.axes()\n",
    "axes.plot(x, x)\n",
    "plt.show()"
   ]
  },
  {
   "cell_type": "code",
   "execution_count": 119,
   "metadata": {},
   "outputs": [],
   "source": [
    "featureBands = ['B3', 'B5', 'B6', 'B7']"
   ]
  },
  {
   "cell_type": "code",
   "execution_count": 120,
   "metadata": {},
   "outputs": [],
   "source": [
    "selectBands = [featureBands[i] for i in np.nonzero(lars.coef_)[0].tolist()]"
   ]
  },
  {
   "cell_type": "code",
   "execution_count": 121,
   "metadata": {},
   "outputs": [
    {
     "data": {
      "text/plain": [
       "['B3']"
      ]
     },
     "execution_count": 121,
     "metadata": {},
     "output_type": "execute_result"
    }
   ],
   "source": [
    "selectBands"
   ]
  },
  {
   "cell_type": "code",
   "execution_count": 122,
   "metadata": {},
   "outputs": [
    {
     "name": "stdout",
     "output_type": "stream",
     "text": [
      "Found training file.\n",
      "Found testing file.\n"
     ]
    }
   ],
   "source": [
    "trainFilePath = '../TFData/Training Export.tfrecord.gz'\n",
    "testFilePath = '../TFData/Testing Export.tfrecord.gz'\n",
    "\n",
    "print('Found training file.' if tf.io.gfile.exists(trainFilePath) \n",
    "    else 'No training file found.')\n",
    "print('Found testing file.' if tf.io.gfile.exists(testFilePath) \n",
    "    else 'No testing file found.')"
   ]
  },
  {
   "cell_type": "code",
   "execution_count": 123,
   "metadata": {},
   "outputs": [
    {
     "name": "stdout",
     "output_type": "stream",
     "text": [
      "tf.Tensor(b'\\n`\\n\\x0e\\n\\x02B2\\x12\\x08\\x12\\x06\\n\\x04vO\\x1e=\\n\\x0e\\n\\x02B3\\x12\\x08\\x12\\x06\\n\\x04\\xd4\\x9af=\\n\\x0e\\n\\x02B4\\x12\\x08\\x12\\x06\\n\\x04\\xab\\xcfU=\\n\\x0e\\n\\x02B5\\x12\\x08\\x12\\x06\\n\\x04\\x16\\xfbK>\\n\\x0e\\n\\x02B6\\x12\\x08\\x12\\x06\\n\\x04\\xb0r\\x08>\\n\\x0e\\n\\x02B7\\x12\\x08\\x12\\x06\\n\\x04\\x1e\\xa7\\xa8=', shape=(), dtype=string)\n"
     ]
    }
   ],
   "source": [
    "# Create a dataset from the TFRecord file in Cloud Storage.\n",
    "trainDataset = tf.data.TFRecordDataset(trainFilePath, compression_type='GZIP')\n",
    "# Print the first record to check.\n",
    "print(iter(trainDataset).next())"
   ]
  },
  {
   "cell_type": "code",
   "execution_count": 134,
   "metadata": {},
   "outputs": [
    {
     "name": "stdout",
     "output_type": "stream",
     "text": [
      "{'B3': FixedLenFeature(shape=[1], dtype=tf.float32, default_value=None),\n",
      " 'B4': FixedLenFeature(shape=[1], dtype=tf.float32, default_value=None)}\n"
     ]
    }
   ],
   "source": [
    "# This is list of all the properties we want to export.\n",
    "featureNames = list(selectBands)\n",
    "featureNames.append('B4')\n",
    "\n",
    "# List of fixed-length features, all of which are float32.\n",
    "columns = [\n",
    "  tf.io.FixedLenFeature(shape=[1], dtype=tf.float32) for k in featureNames\n",
    "]\n",
    "\n",
    "# Dictionary with names as keys, features as values.\n",
    "featuresDict = dict(zip(featureNames, columns))\n",
    "\n",
    "pprint(featuresDict)"
   ]
  },
  {
   "cell_type": "code",
   "execution_count": 135,
   "metadata": {},
   "outputs": [
    {
     "name": "stdout",
     "output_type": "stream",
     "text": [
      "({'B3': <tf.Tensor: shape=(1,), dtype=float32, numpy=array([0.0563], dtype=float32)>},\n",
      " <tf.Tensor: shape=(1,), dtype=float32, numpy=array([0.0522], dtype=float32)>)\n"
     ]
    }
   ],
   "source": [
    "def parse_tfrecord(example_proto):\n",
    "  parsed_features = tf.io.parse_single_example(example_proto, featuresDict)\n",
    "  band4 = parsed_features.pop('B4')\n",
    "  return parsed_features, band4\n",
    "\n",
    "# Map the function over the dataset.\n",
    "parsedDataset = trainDataset.map(parse_tfrecord, num_parallel_calls=5)\n",
    "\n",
    "# Print the first parsed record to check.\n",
    "pprint(iter(parsedDataset).next())"
   ]
  },
  {
   "cell_type": "code",
   "execution_count": 136,
   "metadata": {},
   "outputs": [
    {
     "name": "stdout",
     "output_type": "stream",
     "text": [
      "(<tf.Tensor: shape=(1, 1), dtype=float32, numpy=array([[0.0563]], dtype=float32)>,\n",
      " <tf.Tensor: shape=(1,), dtype=float32, numpy=array([0.0522], dtype=float32)>)\n"
     ]
    }
   ],
   "source": [
    "def toTuple(dict, label):\n",
    "  return tf.transpose(list(dict.values())), label\n",
    "\n",
    "# Define the layers in the model.\n",
    "model = tf.keras.models.Sequential([\n",
    "  tf.keras.layers.Dense(10, activation=tf.nn.tanh),\n",
    "  tf.keras.layers.Dense(10)\n",
    "])\n",
    "\n",
    "inputDataset = parsedDataset.map(toTuple)\n",
    "pprint(iter(inputDataset).next())\n",
    "\n",
    "# Compile the model with the specified loss function.\n",
    "model.compile(optimizer=tf.keras.optimizers.SGD(),\n",
    "              loss='mean_squared_error',\n",
    "              metrics=['MAE'])"
   ]
  },
  {
   "cell_type": "code",
   "execution_count": 137,
   "metadata": {},
   "outputs": [
    {
     "name": "stdout",
     "output_type": "stream",
     "text": [
      "Epoch 1/10\n",
      "21334/21334 [==============================] - 89s 4ms/step - loss: 0.0104 - MAE: 0.0423\n",
      "Epoch 2/10\n",
      "21334/21334 [==============================] - 31s 1ms/step - loss: 3.1261e-04 - MAE: 0.0096\n",
      "Epoch 3/10\n",
      "21334/21334 [==============================] - 39s 2ms/step - loss: 2.8665e-04 - MAE: 0.0092\n",
      "Epoch 4/10\n",
      "21334/21334 [==============================] - 34s 2ms/step - loss: 2.6730e-04 - MAE: 0.0090\n",
      "Epoch 5/10\n",
      "21334/21334 [==============================] - 29s 1ms/step - loss: 2.5228e-04 - MAE: 0.0087\n",
      "Epoch 6/10\n",
      "21334/21334 [==============================] - 30s 1ms/step - loss: 2.4039e-04 - MAE: 0.0086\n",
      "Epoch 7/10\n",
      "21334/21334 [==============================] - 31s 1ms/step - loss: 2.3078e-04 - MAE: 0.0084\n",
      "Epoch 8/10\n",
      "21334/21334 [==============================] - 29s 1ms/step - loss: 2.2289e-04 - MAE: 0.0083\n",
      "Epoch 9/10\n",
      "21334/21334 [==============================] - 35s 2ms/step - loss: 2.1632e-04 - MAE: 0.0082\n",
      "Epoch 10/10\n",
      "21334/21334 [==============================] - 31s 1ms/step - loss: 2.1077e-04 - MAE: 0.0082\n",
      "   9066/Unknown - 33s 4ms/step - loss: 2.0871e-04 - MAE: 0.0080"
     ]
    },
    {
     "data": {
      "text/plain": [
       "[0.00020871249912560595, 0.00800327]"
      ]
     },
     "execution_count": 137,
     "metadata": {},
     "output_type": "execute_result"
    }
   ],
   "source": [
    "# Fit the model to the training data.\n",
    "model.fit(x=inputDataset, epochs=10)\n",
    "\n",
    "testDataset = (\n",
    "  tf.data.TFRecordDataset(testFilePath, compression_type='GZIP')\n",
    "    .map(parse_tfrecord, num_parallel_calls=5)\n",
    "    .map(toTuple)\n",
    ")\n",
    "\n",
    "model.evaluate(testDataset)"
   ]
  },
  {
   "cell_type": "code",
   "execution_count": 138,
   "metadata": {},
   "outputs": [
    {
     "name": "stdout",
     "output_type": "stream",
     "text": [
      "['../TFData/BC Image Export-00000.tfrecord.gz',\n",
      " '../TFData/BC Image Export-00001.tfrecord.gz',\n",
      " '../TFData/BC Image Export-00002.tfrecord.gz']\n",
      "../TFData/BC Image Export-mixer.json\n"
     ]
    }
   ],
   "source": [
    "filesList = !ls '../TFData'\n",
    "exportFilesList = [s for s in filesList if 'BC Image Export' in s]\n",
    "\n",
    "imageFilesList=[]\n",
    "jsonFile = None\n",
    "for f in exportFilesList:\n",
    "    if f.endswith('.tfrecord.gz'):\n",
    "        imageFilesList.append('../TFData/'+f)\n",
    "    elif f.endswith('.json'):\n",
    "        jsonFile = '../TFData/'+f\n",
    "        \n",
    "imageFilesList.sort()\n",
    "\n",
    "pprint(imageFilesList)\n",
    "print(jsonFile)"
   ]
  },
  {
   "cell_type": "code",
   "execution_count": 139,
   "metadata": {},
   "outputs": [
    {
     "name": "stdout",
     "output_type": "stream",
     "text": [
      "{'patchDimensions': [256, 256],\n",
      " 'patchesPerRow': 14,\n",
      " 'projection': {'affine': {'doubleMatrix': [0.00026949458523585647,\n",
      "                                            0.0,\n",
      "                                            -122.00019873627222,\n",
      "                                            0.0,\n",
      "                                            -0.00026949458523585647,\n",
      "                                            59.00098853485653]},\n",
      "                'crs': 'EPSG:4326'},\n",
      " 'totalPatches': 196}\n"
     ]
    }
   ],
   "source": [
    "jsonText = !cat '{jsonFile}'\n",
    "mixer = json.loads(jsonText.nlstr)\n",
    "pprint(mixer)"
   ]
  },
  {
   "cell_type": "code",
   "execution_count": 142,
   "metadata": {},
   "outputs": [],
   "source": [
    "# Get relevant info from the JSON mixer file.\n",
    "PATCH_WIDTH = mixer['patchDimensions'][0]\n",
    "PATCH_HEIGHT = mixer['patchDimensions'][1]\n",
    "PATCHES = mixer['totalPatches']\n",
    "PATCH_DIMENSIONS_FLAT = [PATCH_WIDTH * PATCH_HEIGHT, 1]\n",
    "\n",
    "testBands = featureNames\n",
    "\n",
    "# Note that the tensors are in the shape of a patch, one patch for each band.\n",
    "imageColumns = [\n",
    "  tf.io.FixedLenFeature(shape=PATCH_DIMENSIONS_FLAT, dtype=tf.float32) \n",
    "    for k in testBands\n",
    "]\n",
    "\n",
    "# Parsing dictionary.\n",
    "imageFeaturesDict = dict(zip(testBands, imageColumns))\n",
    "\n",
    "# Note that you can make one dataset from many files by specifying a list.\n",
    "imageDataset = tf.data.TFRecordDataset(imageFilesList, compression_type='GZIP')\n",
    "\n",
    "# Parsing function.\n",
    "def parse_image(example_proto):\n",
    "    parsed_image = tf.io.parse_single_example(example_proto, imageFeaturesDict)\n",
    "    band4 = parsed_image.pop('B4')\n",
    "    return parsed_image\n",
    "\n",
    "def parse_output(example_proto):\n",
    "    parsed_output = tf.io.parse_single_example(example_proto, imageFeaturesDict)\n",
    "    band4 = parsed_output.pop('B4')\n",
    "    return band4\n",
    "\n",
    "outputDataset = imageDataset.map(parse_output, num_parallel_calls=5)\n",
    "\n",
    "# Parse the data into tensors, one long tensor per patch.\n",
    "imageDataset = imageDataset.map(parse_image, num_parallel_calls=5)\n",
    "\n",
    "\n",
    "# Break our long tensors into many little ones.\n",
    "imageDataset = imageDataset.flat_map(\n",
    "  lambda features: tf.data.Dataset.from_tensor_slices(features)\n",
    ")\n",
    "\n",
    "# Turn the dictionary in each record into a tuple without a label.\n",
    "imageDataset = imageDataset.map(\n",
    "  lambda dataDict: (tf.transpose(list(dataDict.values())), )\n",
    ")\n",
    "\n",
    "# Turn each patch into a batch.\n",
    "imageDataset = imageDataset.batch(PATCH_WIDTH * PATCH_HEIGHT)"
   ]
  },
  {
   "cell_type": "code",
   "execution_count": 151,
   "metadata": {},
   "outputs": [
    {
     "name": "stdout",
     "output_type": "stream",
     "text": [
      "(<tf.Tensor: shape=(65536, 1, 1), dtype=float32, numpy=\n",
      "array([[[0.14685]],\n",
      "\n",
      "       [[0.14685]],\n",
      "\n",
      "       [[0.05795]],\n",
      "\n",
      "       ...,\n",
      "\n",
      "       [[0.043  ]],\n",
      "\n",
      "       [[0.0476 ]],\n",
      "\n",
      "       [[0.0476 ]]], dtype=float32)>,)\n"
     ]
    }
   ],
   "source": [
    "print(iter(imageDataset).next())"
   ]
  },
  {
   "cell_type": "code",
   "execution_count": 143,
   "metadata": {},
   "outputs": [
    {
     "name": "stdout",
     "output_type": "stream",
     "text": [
      "196/196 [==============================] - 1086s 6s/step\n"
     ]
    }
   ],
   "source": [
    "# Run prediction in batches, with as many steps as there are patches.\n",
    "predictions = model.predict(imageDataset, steps=PATCHES, verbose=1)"
   ]
  },
  {
   "cell_type": "code",
   "execution_count": 144,
   "metadata": {},
   "outputs": [
    {
     "name": "stdout",
     "output_type": "stream",
     "text": [
      "[[0.06830296 0.06815866 0.0681973  0.06806378 0.06824458 0.06801295\n",
      "  0.06803256 0.0680116  0.06813239 0.06814337]]\n"
     ]
    }
   ],
   "source": [
    "# Note that the predictions come as a numpy array.  Check the first one.\n",
    "print(predictions[190])"
   ]
  },
  {
   "cell_type": "code",
   "execution_count": 145,
   "metadata": {},
   "outputs": [],
   "source": [
    "predicted = [(sum(k[0])/len(k[0])) for k in predictions]"
   ]
  },
  {
   "cell_type": "code",
   "execution_count": 146,
   "metadata": {},
   "outputs": [],
   "source": [
    "outputted = np.vstack(list(outputDataset.as_numpy_iterator()))"
   ]
  },
  {
   "cell_type": "code",
   "execution_count": 149,
   "metadata": {},
   "outputs": [
    {
     "name": "stderr",
     "output_type": "stream",
     "text": [
      "/home/hshah/anaconda3/envs/eeAlr/lib/python3.6/site-packages/ipykernel_launcher.py:2: MatplotlibDeprecationWarning: Adding an axes using the same arguments as a previous axes currently reuses the earlier instance.  In a future version, a new instance will always be created and returned.  Meanwhile, this warning can be suppressed, and the future behavior ensured, by passing a unique label to each axes instance.\n",
      "  \n"
     ]
    },
    {
     "data": {
      "image/png": "[encoded data removed]",
      "text/plain": [
       "<Figure size 432x288 with 1 Axes>"
      ]
     },
     "metadata": {
      "needs_background": "light"
     },
     "output_type": "display_data"
    }
   ],
   "source": [
    "plt.plot(predicted, outputted, 'ro')\n",
    "axs = plt.axes()\n",
    "axs.plot(x, x)\n",
    "plt.show()"
   ]
  },
  {
   "cell_type": "code",
   "execution_count": null,
   "metadata": {},
   "outputs": [],
   "source": []
  }
 ],
 "metadata": {
  "colab": {
   "name": "Landsat 8 'B4' Prediction Task.ipynb",
   "provenance": [],
   "toc_visible": true
  },
  "kernelspec": {
   "display_name": "Python 3",
   "language": "python",
   "name": "python3"
  },
  "language_info": {
   "codemirror_mode": {
    "name": "ipython",
    "version": 3
   },
   "file_extension": ".py",
   "mimetype": "text/x-python",
   "name": "python",
   "nbconvert_exporter": "python",
   "pygments_lexer": "ipython3",
   "version": "3.7.4"
  }
 },
 "nbformat": 4,
 "nbformat_minor": 4
}
