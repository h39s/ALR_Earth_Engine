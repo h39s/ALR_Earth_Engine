{
 "cells": [
  {
   "cell_type": "code",
   "execution_count": 33,
   "metadata": {
    "colab": {},
    "colab_type": "code",
    "id": "hEzVV2sLzuyV",
    "pycharm": {
     "is_executing": false,
     "name": "#%%\n"
    }
   },
   "outputs": [],
   "source": [
    "import ee\n",
    "ee.Initialize()"
   ]
  },
  {
   "cell_type": "code",
   "execution_count": 34,
   "metadata": {
    "colab": {},
    "colab_type": "code",
    "id": "UWVpswD8zuyk",
    "pycharm": {
     "is_executing": false,
     "name": "#%%\n"
    }
   },
   "outputs": [],
   "source": [
    "inputCSV = ee.FeatureCollection('users/ccrs2fy2020/features')\n",
    "inputCSV = inputCSV.toList(count=1000000)"
   ]
  },
  {
   "cell_type": "code",
   "execution_count": 35,
   "metadata": {
    "colab": {},
    "colab_type": "code",
    "id": "hlKO6CiOzuyo",
    "pycharm": {
     "is_executing": false,
     "name": "#%%\n"
    }
   },
   "outputs": [],
   "source": [
    "def extractBands(feature):\n",
    "    feature = ee.Feature(feature)\n",
    "    return feature.toArray(properties=['B0', 'B1', 'B2', 'B3', 'B4', 'B5', 'B6', 'B7', 'A1', 'A2', 'A3']).toList()\n",
    "\n",
    "def extractVI(feature):\n",
    "    feature = ee.Feature(feature)\n",
    "    return feature.toArray(properties=['FCOVER']).toList()"
   ]
  },
  {
   "cell_type": "code",
   "execution_count": 36,
   "metadata": {
    "colab": {},
    "colab_type": "code",
    "id": "YiuLT2Cuzuyt",
    "pycharm": {
     "is_executing": false,
     "name": "#%%\n"
    }
   },
   "outputs": [],
   "source": [
    "inputList = inputCSV.map(extractBands)\n",
    "outputList = inputCSV.map(extractVI)"
   ]
  },
  {
   "cell_type": "code",
   "execution_count": 37,
   "metadata": {
    "colab": {},
    "colab_type": "code",
    "id": "O1l4ECkbzuyy",
    "pycharm": {
     "is_executing": false
    }
   },
   "outputs": [],
   "source": [
    "inputs = ee.Array(inputList)\n",
    "inputDimensions = inputs.length()\n",
    "n = inputDimensions.get([0])\n",
    "m = inputDimensions.get([1])\n",
    "\n",
    "outputs = ee.Array(outputList)\n",
    "initialResiduals = ee.Array(ee.List.repeat([0], n))\n",
    "\n",
    "inputData = ee.Dictionary.fromLists(['inputs', 'outputs', 'currentResiduals'], [inputs, outputs, initialResiduals])"
   ]
  },
  {
   "cell_type": "code",
   "execution_count": 38,
   "metadata": {
    "colab": {},
    "colab_type": "code",
    "id": "jwzAB6p_zuy-",
    "pycharm": {
     "is_executing": false
    }
   },
   "outputs": [],
   "source": [
    "def LARSregression(placeHolder, inputData):\n",
    "    inputData = ee.Dictionary(inputData)\n",
    "    X = inputData.getArray('inputs')\n",
    "    y = inputData.getArray('outputs')\n",
    "    currentResiduals = inputData.getArray('currentResiduals')\n",
    "\n",
    "    X_t = X.matrixTranspose()\n",
    "    c = X_t.matrixMultiply(y.subtract(currentResiduals))\n",
    "    c_abs = c.abs()\n",
    "    C_max = c_abs.get(c_abs.argmax())\n",
    "\n",
    "    maxLocs = c_abs.gte(C_max)\n",
    "    signs = c.divide(c_abs)\n",
    "    \n",
    "    signs_j = maxLocs.multiply(signs).matrixTranspose()\n",
    "    signs_jc = signs_j.subtract(1).multiply(-1)\n",
    "\n",
    "    A = ee.List(ee.Array([ee.List.sequence(0, m.subtract(1))]).mask(signs_j).toList().get(0))\n",
    "    A_c = ee.List(ee.Array([ee.List.sequence(0, m.subtract(1))]).mask(signs_jc).toList().get(0))\n",
    "\n",
    "    signMatrix_j = signs_j.repeat(0, n)\n",
    "\n",
    "    X_A = X.multiply(signMatrix_j).mask(signs_j)\n",
    "\n",
    "    G_A = X_A.matrixTranspose().matrixMultiply(X_A)\n",
    "\n",
    "    j = X_A.length().get([1])\n",
    "\n",
    "    V1_A = ee.Array(ee.List.repeat([1], j))\n",
    "\n",
    "    G_Ai = G_A.matrixInverse()\n",
    "\n",
    "    A_A = V1_A.matrixTranspose().matrixMultiply(G_Ai).matrixMultiply(V1_A).get([0,0]).pow(-0.5)\n",
    "\n",
    "    w_A = G_Ai.matrixMultiply(V1_A).multiply(A_A)\n",
    "\n",
    "    u_A = X_A.matrixMultiply(w_A)\n",
    "\n",
    "    a = X_t.matrixMultiply(u_A)\n",
    "\n",
    "   \n",
    "    def computeGamma(index_j):\n",
    "        minus_j = C_max.subtract(c.get([index_j, 0])).divide(A_A.subtract(a.get([index_j, 0])))\n",
    "        plus_j = C_max.add(c.get([index_j, 0])).divide(A_A.add(a.get([index_j, 0])))\n",
    "\n",
    "        gammaRRay = ee.Array([minus_j, plus_j]);\n",
    "        gammaRRay = gammaRRay.mask(gammaRRay.gte(0))\n",
    "        gammaRRay = gammaRRay.multiply(-1)\n",
    "\n",
    "        return gammaRRay.get(gammaRRay.argmax())\n",
    "    \n",
    "\n",
    "    gammaRRay = ee.Array([A_c.map(computeGamma)])\n",
    "    gamma = gammaRRay.get(gammaRRay.argmax()).multiply(-1)\n",
    "\n",
    "    ret = currentResiduals.add(u_A.multiply(gamma))\n",
    "    outputData = ee.Dictionary.fromLists(['inputs', 'outputs', 'currentResiduals'], [X, y, ret])\n",
    "\n",
    "    return outputData;"
   ]
  },
  {
   "cell_type": "code",
   "execution_count": 39,
   "metadata": {
    "colab": {},
    "colab_type": "code",
    "id": "lwEBb3LqzuzD",
    "pycharm": {
     "is_executing": false
    }
   },
   "outputs": [],
   "source": [
    "numIterations = ee.List.repeat(0, m)\n",
    "finalOutput = ee.Dictionary(numIterations.iterate(LARSregression, inputData))\n",
    "finalResiduals = finalOutput.getArray('currentResiduals')\n",
    "\n",
    "coefficients = inputs.matrixSolve(finalResiduals)"
   ]
  },
  {
   "cell_type": "code",
   "execution_count": 40,
   "metadata": {
    "colab": {},
    "colab_type": "code",
    "id": "oTmD7afxzu0e"
   },
   "outputs": [
    {
     "data": {
      "text/plain": [
       "[[-6.728316485003986e-13],\n",
       " [1.3324645866039069e-13],\n",
       " [9.138882060133785e-14],\n",
       " [1.6419527952436233e-13],\n",
       " [0.4487669198735426],\n",
       " [0.8309103773562737],\n",
       " [-5.43280334250975e-14],\n",
       " [7.614961124135065e-14],\n",
       " [2.9394488380003407],\n",
       " [5.94331346496581e-17],\n",
       " [3.4098272887961243e-17]]"
      ]
     },
     "execution_count": 40,
     "metadata": {},
     "output_type": "execute_result"
    }
   ],
   "source": [
    "coefficients.getInfo()"
   ]
  }
 ],
 "metadata": {
  "colab": {
   "collapsed_sections": [],
   "name": "GEE LARs Implementation.ipynb",
   "provenance": []
  },
  "kernelspec": {
   "display_name": "Python 3",
   "language": "python",
   "name": "python3"
  },
  "language_info": {
   "codemirror_mode": {
    "name": "ipython",
    "version": 3
   },
   "file_extension": ".py",
   "mimetype": "text/x-python",
   "name": "python",
   "nbconvert_exporter": "python",
   "pygments_lexer": "ipython3",
   "version": "3.6.10"
  },
  "pycharm": {
   "stem_cell": {
    "cell_type": "raw",
    "metadata": {
     "collapsed": false
    },
    "source": []
   }
  }
 },
 "nbformat": 4,
 "nbformat_minor": 4
}
