{
 "cells": [
  {
   "cell_type": "code",
   "execution_count": 40,
   "metadata": {
    "colab": {
     "base_uri": "https://localhost:8080/",
     "height": 63
    },
    "colab_type": "code",
    "id": "m3LauEQxmkYd",
    "outputId": "bad0a1c9-2d48-44c2-e03e-ed3af5654bc6"
   },
   "outputs": [],
   "source": [
    "from pprint import pprint\n",
    "import time\n",
    "import ee\n",
    "import folium\n",
    "import csv\n",
    "import sys\n",
    "import tensorflow as tf\n",
    "from tensorflow import keras\n",
    "import json\n",
    "import numpy as np\n",
    "import matplotlib.pyplot as plt"
   ]
  },
  {
   "cell_type": "code",
   "execution_count": 41,
   "metadata": {
    "colab": {
     "base_uri": "https://localhost:8080/",
     "height": 34
    },
    "colab_type": "code",
    "id": "BQJFPBtmq1tf",
    "outputId": "b5be211f-5096-483d-8942-5edcc251c0f4"
   },
   "outputs": [
    {
     "name": "stdout",
     "output_type": "stream",
     "text": [
      "2.1.0\n",
      "3.6.10 |Anaconda, Inc.| (default, Jan  7 2020, 21:14:29) \n",
      "[GCC 7.3.0]\n"
     ]
    }
   ],
   "source": [
    "print(tf.__version__)\n",
    "print(sys.version)"
   ]
  },
  {
   "cell_type": "code",
   "execution_count": null,
   "metadata": {
    "colab": {
     "base_uri": "https://localhost:8080/",
     "height": 173
    },
    "colab_type": "code",
    "id": "ywXa69anaVEo",
    "outputId": "75542801-f340-4013-bbf1-fa3c24d1e2e7"
   },
   "outputs": [],
   "source": [
    "ee.Authenticate()"
   ]
  },
  {
   "cell_type": "code",
   "execution_count": 43,
   "metadata": {
    "colab": {},
    "colab_type": "code",
    "id": "ywUUxW3Rmear"
   },
   "outputs": [],
   "source": [
    "ee.Initialize()"
   ]
  },
  {
   "cell_type": "code",
   "execution_count": 44,
   "metadata": {
    "colab": {
     "base_uri": "https://localhost:8080/",
     "height": 637
    },
    "colab_type": "code",
    "id": "cQ9Z1Ecsmh1-",
    "outputId": "778b0ac0-f503-44d2-e8e6-620f13b6136b"
   },
   "outputs": [
    {
     "data": {
      "text/html": [
       "<div style=\"width:100%;\"><div style=\"position:relative;width:100%;height:0;padding-bottom:60%;\"><iframe src=\"data:text/html;charset=utf-8;base64,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\" style=\"position:absolute;width:100%;height:100%;left:0;top:0;border:none !important;\" allowfullscreen webkitallowfullscreen mozallowfullscreen></iframe></div></div>"
      ],
      "text/plain": [
       "<folium.folium.Map at 0x7fa78f40bac8>"
      ]
     },
     "execution_count": 44,
     "metadata": {},
     "output_type": "execute_result"
    }
   ],
   "source": [
    "# Use these bands for prediction.\n",
    "bands = ['B2', 'B3', 'B4', 'B5', 'B6', 'B7']\n",
    "# Use Landsat 8 surface reflectance data.\n",
    "l8sr = ee.ImageCollection('LANDSAT/LC08/C01/T1_SR')\n",
    "\n",
    "# Cloud masking function.\n",
    "def maskL8sr(image):\n",
    "  cloudShadowBitMask = ee.Number(2).pow(3).int()\n",
    "  cloudsBitMask = ee.Number(2).pow(5).int()\n",
    "  qa = image.select('pixel_qa')\n",
    "  mask = qa.bitwiseAnd(cloudShadowBitMask).eq(0).And(\n",
    "    qa.bitwiseAnd(cloudsBitMask).eq(0))\n",
    "  return image.updateMask(mask).select(bands).divide(10000)\n",
    "\n",
    "# The image input data is a 2018 cloud-masked median composite.\n",
    "image = l8sr.filterDate('2018-01-01', '2018-12-31').map(maskL8sr).median()\n",
    "\n",
    "# Use folium to visualize the imagery.\n",
    "mapIdDict = image.getMapId({'bands': ['B4', 'B3', 'B2'], 'min': 0, 'max': 0.3})\n",
    "map = folium.Map(location=[45.4, -75.7])\n",
    "folium.TileLayer(\n",
    "    tiles=mapIdDict['tile_fetcher'].url_format,\n",
    "    attr='Map Data &copy; <a href=\"https://earthengine.google.com/\">Google Earth Engine</a>',\n",
    "    overlay=True,\n",
    "    name='median composite',\n",
    "  ).add_to(map)\n",
    "map.add_child(folium.LayerControl())\n",
    "map"
   ]
  },
  {
   "cell_type": "code",
   "execution_count": 45,
   "metadata": {},
   "outputs": [
    {
     "name": "stdout",
     "output_type": "stream",
     "text": [
      "Found training file.\n",
      "Found testing file.\n"
     ]
    }
   ],
   "source": [
    "trainFileCSV = '../TFData/Training Export.csv'\n",
    "testFileCSV = '../TFData/Testing Export.csv'\n",
    "\n",
    "print('Found training file.' if tf.io.gfile.exists(trainFileCSV) \n",
    "    else 'No training file found.')\n",
    "print('Found testing file.' if tf.io.gfile.exists(testFileCSV) \n",
    "    else 'No testing file found.')"
   ]
  },
  {
   "cell_type": "code",
   "execution_count": 46,
   "metadata": {},
   "outputs": [
    {
     "data": {
      "text/plain": [
       "array([0.0522 , 0.03885, 0.0243 , ..., 0.04945, 0.1699 , 0.11725])"
      ]
     },
     "execution_count": 46,
     "metadata": {},
     "output_type": "execute_result"
    }
   ],
   "source": [
    "trainCSV = np.genfromtxt(trainFileCSV, delimiter=',', names=True)\n",
    "trainCSV['B4']"
   ]
  },
  {
   "cell_type": "code",
   "execution_count": 9,
   "metadata": {},
   "outputs": [
    {
     "data": {
      "text/plain": [
       "[<matplotlib.lines.Line2D at 0x7fa78e961908>]"
      ]
     },
     "execution_count": 9,
     "metadata": {},
     "output_type": "execute_result"
    },
    {
     "data": {
      "image/png": "[encoded data removed]",
      "text/plain": [
       "<Figure size 432x288 with 1 Axes>"
      ]
     },
     "metadata": {
      "needs_background": "light"
     },
     "output_type": "display_data"
    }
   ],
   "source": [
    "plt.plot(trainCSV['B3'], trainCSV['B4'], 'ro')"
   ]
  },
  {
   "cell_type": "code",
   "execution_count": 10,
   "metadata": {
    "colab": {
     "base_uri": "https://localhost:8080/",
     "height": 51
    },
    "colab_type": "code",
    "id": "rGYzBexGC4d7",
    "outputId": "7825711c-6dec-4f34-9c73-73dc28524701"
   },
   "outputs": [
    {
     "name": "stdout",
     "output_type": "stream",
     "text": [
      "Found training file.\n",
      "Found testing file.\n"
     ]
    }
   ],
   "source": [
    "trainFilePath = '../TFData/Training Export.tfrecord.gz'\n",
    "testFilePath = '../TFData/Testing Export.tfrecord.gz'\n",
    "\n",
    "print('Found training file.' if tf.io.gfile.exists(trainFilePath) \n",
    "    else 'No training file found.')\n",
    "print('Found testing file.' if tf.io.gfile.exists(testFilePath) \n",
    "    else 'No testing file found.')"
   ]
  },
  {
   "cell_type": "code",
   "execution_count": 11,
   "metadata": {
    "colab": {
     "base_uri": "https://localhost:8080/",
     "height": 54
    },
    "colab_type": "code",
    "id": "hEZ2pMZ4e_vm",
    "outputId": "6bd27ba6-60d1-4a2d-f354-eec05394078c"
   },
   "outputs": [
    {
     "name": "stdout",
     "output_type": "stream",
     "text": [
      "tf.Tensor(b'\\n`\\n\\x0e\\n\\x02B2\\x12\\x08\\x12\\x06\\n\\x04vO\\x1e=\\n\\x0e\\n\\x02B3\\x12\\x08\\x12\\x06\\n\\x04\\xd4\\x9af=\\n\\x0e\\n\\x02B4\\x12\\x08\\x12\\x06\\n\\x04\\xab\\xcfU=\\n\\x0e\\n\\x02B5\\x12\\x08\\x12\\x06\\n\\x04\\x16\\xfbK>\\n\\x0e\\n\\x02B6\\x12\\x08\\x12\\x06\\n\\x04\\xb0r\\x08>\\n\\x0e\\n\\x02B7\\x12\\x08\\x12\\x06\\n\\x04\\x1e\\xa7\\xa8=', shape=(), dtype=string)\n"
     ]
    }
   ],
   "source": [
    "# Create a dataset from the TFRecord file in Cloud Storage.\n",
    "trainDataset = tf.data.TFRecordDataset(trainFilePath, compression_type='GZIP')\n",
    "# Print the first record to check.\n",
    "print(iter(trainDataset).next())"
   ]
  },
  {
   "cell_type": "code",
   "execution_count": 12,
   "metadata": {
    "colab": {
     "base_uri": "https://localhost:8080/",
     "height": 119
    },
    "colab_type": "code",
    "id": "qIBrrLjKDg_K",
    "outputId": "7f0493cc-f226-4449-a1ed-62ac9a57c156"
   },
   "outputs": [
    {
     "name": "stdout",
     "output_type": "stream",
     "text": [
      "{'B2': FixedLenFeature(shape=[1], dtype=tf.float32, default_value=None),\n",
      " 'B3': FixedLenFeature(shape=[1], dtype=tf.float32, default_value=None),\n",
      " 'B4': FixedLenFeature(shape=[1], dtype=tf.float32, default_value=None),\n",
      " 'B5': FixedLenFeature(shape=[1], dtype=tf.float32, default_value=None),\n",
      " 'B6': FixedLenFeature(shape=[1], dtype=tf.float32, default_value=None),\n",
      " 'B7': FixedLenFeature(shape=[1], dtype=tf.float32, default_value=None)}\n"
     ]
    }
   ],
   "source": [
    "# This is list of all the properties we want to export.\n",
    "featureNames = list(bands)\n",
    "\n",
    "# List of fixed-length features, all of which are float32.\n",
    "columns = [\n",
    "  tf.io.FixedLenFeature(shape=[1], dtype=tf.float32) for k in featureNames\n",
    "]\n",
    "\n",
    "# Dictionary with names as keys, features as values.\n",
    "featuresDict = dict(zip(featureNames, columns))\n",
    "\n",
    "pprint(featuresDict)"
   ]
  },
  {
   "cell_type": "code",
   "execution_count": 13,
   "metadata": {
    "colab": {
     "base_uri": "https://localhost:8080/",
     "height": 119
    },
    "colab_type": "code",
    "id": "fFQpNuUBD8-W",
    "outputId": "6957618b-3b2f-49ed-ba33-dc2a34b08cc3"
   },
   "outputs": [
    {
     "name": "stdout",
     "output_type": "stream",
     "text": [
      "({'B2': <tf.Tensor: shape=(1,), dtype=float32, numpy=array([0.03865], dtype=float32)>,\n",
      "  'B3': <tf.Tensor: shape=(1,), dtype=float32, numpy=array([0.0563], dtype=float32)>,\n",
      "  'B5': <tf.Tensor: shape=(1,), dtype=float32, numpy=array([0.1992], dtype=float32)>,\n",
      "  'B6': <tf.Tensor: shape=(1,), dtype=float32, numpy=array([0.13325], dtype=float32)>,\n",
      "  'B7': <tf.Tensor: shape=(1,), dtype=float32, numpy=array([0.08235], dtype=float32)>},\n",
      " <tf.Tensor: shape=(1,), dtype=float32, numpy=array([0.0522], dtype=float32)>)\n"
     ]
    }
   ],
   "source": [
    "def parse_tfrecord(example_proto):\n",
    "  parsed_features = tf.io.parse_single_example(example_proto, featuresDict)\n",
    "  band4 = parsed_features.pop('B4')\n",
    "  return parsed_features, band4\n",
    "\n",
    "# Map the function over the dataset.\n",
    "parsedDataset = trainDataset.map(parse_tfrecord, num_parallel_calls=5)\n",
    "\n",
    "# Print the first parsed record to check.\n",
    "pprint(iter(parsedDataset).next())"
   ]
  },
  {
   "cell_type": "code",
   "execution_count": 33,
   "metadata": {
    "colab": {
     "base_uri": "https://localhost:8080/",
     "height": 231
    },
    "colab_type": "code",
    "id": "brAi-K6dG7z_",
    "outputId": "63e516f7-0dbb-4b55-d358-d215cff80df0"
   },
   "outputs": [
    {
     "name": "stdout",
     "output_type": "stream",
     "text": [
      "(<tf.Tensor: shape=(1, 5), dtype=float32, numpy=array([[0.03865, 0.0563 , 0.1992 , 0.13325, 0.08235]], dtype=float32)>,\n",
      " <tf.Tensor: shape=(1,), dtype=float32, numpy=array([0.0522], dtype=float32)>)\n"
     ]
    }
   ],
   "source": [
    "def toTuple(dict, label):\n",
    "  return tf.transpose(list(dict.values())), label\n",
    "\n",
    "# Define the layers in the model.\n",
    "model = tf.keras.models.Sequential([\n",
    "  tf.keras.layers.Dense(10, activation=tf.nn.tanh),\n",
    "  tf.keras.layers.Dense(10)\n",
    "])\n",
    "\n",
    "inputDataset = parsedDataset.map(toTuple)\n",
    "pprint(iter(inputDataset).next())\n",
    "\n",
    "# Compile the model with the specified loss function.\n",
    "model.compile(optimizer=tf.keras.optimizers.SGD(),\n",
    "              loss='mean_squared_error',\n",
    "              metrics=['MAE'])"
   ]
  },
  {
   "cell_type": "code",
   "execution_count": 34,
   "metadata": {},
   "outputs": [
    {
     "name": "stdout",
     "output_type": "stream",
     "text": [
      "Epoch 1/10\n",
      "21334/21334 [==============================] - 90s 4ms/step - loss: 0.0050 - MAE: 0.0352\n",
      "Epoch 2/10\n",
      "21334/21334 [==============================] - 39s 2ms/step - loss: 8.9423e-04 - MAE: 0.0192\n",
      "Epoch 3/10\n",
      "21334/21334 [==============================] - 30s 1ms/step - loss: 7.0322e-04 - MAE: 0.0166\n",
      "Epoch 4/10\n",
      "21334/21334 [==============================] - 36s 2ms/step - loss: 6.0674e-04 - MAE: 0.0153\n",
      "Epoch 5/10\n",
      "21334/21334 [==============================] - 36s 2ms/step - loss: 5.4379e-04 - MAE: 0.0145\n",
      "Epoch 6/10\n",
      "21334/21334 [==============================] - 40s 2ms/step - loss: 4.9744e-04 - MAE: 0.0138\n",
      "Epoch 7/10\n",
      "21334/21334 [==============================] - 39s 2ms/step - loss: 4.6095e-04 - MAE: 0.0133\n",
      "Epoch 8/10\n",
      "21334/21334 [==============================] - 34s 2ms/step - loss: 4.3099e-04 - MAE: 0.0128\n",
      "Epoch 9/10\n",
      "21334/21334 [==============================] - 40s 2ms/step - loss: 4.0567e-04 - MAE: 0.0124\n",
      "Epoch 10/10\n",
      "21334/21334 [==============================] - 34s 2ms/step - loss: 3.8380e-04 - MAE: 0.0121\n",
      "   9066/Unknown - 32s 3ms/step - loss: 3.6652e-04 - MAE: 0.0122"
     ]
    },
    {
     "data": {
      "text/plain": [
       "[0.0003665159215137211, 0.012150464]"
      ]
     },
     "execution_count": 34,
     "metadata": {},
     "output_type": "execute_result"
    }
   ],
   "source": [
    "# Fit the model to the training data.\n",
    "model.fit(x=inputDataset, epochs=10)\n",
    "\n",
    "testDataset = (\n",
    "  tf.data.TFRecordDataset(testFilePath, compression_type='GZIP')\n",
    "    .map(parse_tfrecord, num_parallel_calls=5)\n",
    "    .map(toTuple)\n",
    ")\n",
    "\n",
    "model.evaluate(testDataset)"
   ]
  },
  {
   "cell_type": "code",
   "execution_count": 20,
   "metadata": {},
   "outputs": [
    {
     "name": "stdout",
     "output_type": "stream",
     "text": [
      "['../TFData/BC Image Export-00000.tfrecord.gz',\n",
      " '../TFData/BC Image Export-00001.tfrecord.gz',\n",
      " '../TFData/BC Image Export-00002.tfrecord.gz']\n",
      "../TFData/BC Image Export-mixer.json\n"
     ]
    }
   ],
   "source": [
    "filesList = !ls '../TFData'\n",
    "exportFilesList = [s for s in filesList if 'BC Image Export' in s]\n",
    "\n",
    "imageFilesList=[]\n",
    "jsonFile = None\n",
    "for f in exportFilesList:\n",
    "    if f.endswith('.tfrecord.gz'):\n",
    "        imageFilesList.append('../TFData/'+f)\n",
    "    elif f.endswith('.json'):\n",
    "        jsonFile = '../TFData/'+f\n",
    "        \n",
    "imageFilesList.sort()\n",
    "\n",
    "pprint(imageFilesList)\n",
    "print(jsonFile)"
   ]
  },
  {
   "cell_type": "code",
   "execution_count": 21,
   "metadata": {},
   "outputs": [
    {
     "name": "stdout",
     "output_type": "stream",
     "text": [
      "{'patchDimensions': [256, 256],\n",
      " 'patchesPerRow': 14,\n",
      " 'projection': {'affine': {'doubleMatrix': [0.00026949458523585647,\n",
      "                                            0.0,\n",
      "                                            -122.00019873627222,\n",
      "                                            0.0,\n",
      "                                            -0.00026949458523585647,\n",
      "                                            59.00098853485653]},\n",
      "                'crs': 'EPSG:4326'},\n",
      " 'totalPatches': 196}\n"
     ]
    }
   ],
   "source": [
    "jsonText = !cat '{jsonFile}'\n",
    "mixer = json.loads(jsonText.nlstr)\n",
    "pprint(mixer)"
   ]
  },
  {
   "cell_type": "code",
   "execution_count": 22,
   "metadata": {},
   "outputs": [],
   "source": [
    "# Get relevant info from the JSON mixer file.\n",
    "PATCH_WIDTH = mixer['patchDimensions'][0]\n",
    "PATCH_HEIGHT = mixer['patchDimensions'][1]\n",
    "PATCHES = mixer['totalPatches']\n",
    "PATCH_DIMENSIONS_FLAT = [PATCH_WIDTH * PATCH_HEIGHT, 1]\n",
    "\n",
    "testBands = ['B2', 'B3', 'B4', 'B5', 'B6', 'B7']\n",
    "\n",
    "# Note that the tensors are in the shape of a patch, one patch for each band.\n",
    "imageColumns = [\n",
    "  tf.io.FixedLenFeature(shape=PATCH_DIMENSIONS_FLAT, dtype=tf.float32) \n",
    "    for k in testBands\n",
    "]\n",
    "\n",
    "# Parsing dictionary.\n",
    "imageFeaturesDict = dict(zip(testBands, imageColumns))\n",
    "\n",
    "# Note that you can make one dataset from many files by specifying a list.\n",
    "imageDataset = tf.data.TFRecordDataset(imageFilesList, compression_type='GZIP')\n",
    "\n",
    "# Parsing function.\n",
    "def parse_image(example_proto):\n",
    "    parsed_image = tf.io.parse_single_example(example_proto, imageFeaturesDict)\n",
    "    band4 = parsed_image.pop('B4')\n",
    "    return parsed_image\n",
    "\n",
    "def parse_output(example_proto):\n",
    "    parsed_output = tf.io.parse_single_example(example_proto, imageFeaturesDict)\n",
    "    band4 = parsed_output.pop('B4')\n",
    "    return band4\n",
    "\n",
    "outputDataset = imageDataset.map(parse_output, num_parallel_calls=5)\n",
    "\n",
    "# Parse the data into tensors, one long tensor per patch.\n",
    "imageDataset = imageDataset.map(parse_image, num_parallel_calls=5)\n",
    "\n",
    "\n",
    "# Break our long tensors into many little ones.\n",
    "imageDataset = imageDataset.flat_map(\n",
    "  lambda features: tf.data.Dataset.from_tensor_slices(features)\n",
    ")\n",
    "\n",
    "# Turn the dictionary in each record into a tuple without a label.\n",
    "imageDataset = imageDataset.map(\n",
    "  lambda dataDict: (tf.transpose(list(dataDict.values())), )\n",
    ")\n",
    "\n",
    "# Turn each patch into a batch.\n",
    "imageDataset = imageDataset.batch(PATCH_WIDTH * PATCH_HEIGHT)"
   ]
  },
  {
   "cell_type": "code",
   "execution_count": 35,
   "metadata": {},
   "outputs": [
    {
     "name": "stdout",
     "output_type": "stream",
     "text": [
      "196/196 [==============================] - 1532s 8s/step\n"
     ]
    }
   ],
   "source": [
    "# Run prediction in batches, with as many steps as there are patches.\n",
    "predictions = model.predict(imageDataset, steps=PATCHES, verbose=1)"
   ]
  },
  {
   "cell_type": "code",
   "execution_count": 36,
   "metadata": {},
   "outputs": [
    {
     "name": "stdout",
     "output_type": "stream",
     "text": [
      "[[0.08516037 0.08022492 0.08374143 0.08844104 0.07703225 0.08647113\n",
      "  0.08547395 0.08786845 0.08094661 0.075773  ]]\n"
     ]
    }
   ],
   "source": [
    "# Note that the predictions come as a numpy array.  Check the first one.\n",
    "print(predictions[190])"
   ]
  },
  {
   "cell_type": "code",
   "execution_count": 37,
   "metadata": {},
   "outputs": [],
   "source": [
    "predicted = [(sum(k[0])/len(k[0])) for k in predictions]"
   ]
  },
  {
   "cell_type": "code",
   "execution_count": 38,
   "metadata": {},
   "outputs": [],
   "source": [
    "outputted = np.vstack(list(outputDataset.as_numpy_iterator()))"
   ]
  },
  {
   "cell_type": "code",
   "execution_count": 39,
   "metadata": {},
   "outputs": [
    {
     "data": {
      "image/png": "[encoded data removed]",
      "text/plain": [
       "<Figure size 432x288 with 1 Axes>"
      ]
     },
     "metadata": {
      "needs_background": "light"
     },
     "output_type": "display_data"
    }
   ],
   "source": [
    "plt.plot(predicted, outputted, 'ro')\n",
    "plt.show()"
   ]
  },
  {
   "cell_type": "code",
   "execution_count": null,
   "metadata": {},
   "outputs": [],
   "source": []
  }
 ],
 "metadata": {
  "colab": {
   "name": "Landsat 8 'B4' Prediction Task.ipynb",
   "provenance": [],
   "toc_visible": true
  },
  "kernelspec": {
   "display_name": "Python 3",
   "language": "python",
   "name": "python3"
  },
  "language_info": {
   "codemirror_mode": {
    "name": "ipython",
    "version": 3
   },
   "file_extension": ".py",
   "mimetype": "text/x-python",
   "name": "python",
   "nbconvert_exporter": "python",
   "pygments_lexer": "ipython3",
   "version": "3.6.10"
  }
 },
 "nbformat": 4,
 "nbformat_minor": 4
}
